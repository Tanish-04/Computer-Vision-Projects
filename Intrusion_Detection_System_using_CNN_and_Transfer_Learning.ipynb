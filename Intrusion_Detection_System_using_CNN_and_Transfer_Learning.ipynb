{
  "cells": [
    {
      "cell_type": "markdown",
      "metadata": {
        "id": "view-in-github",
        "colab_type": "text"
      },
      "source": [
        "<a href=\"https://colab.research.google.com/github/Tanish-04/Computer-Vision-Projects/blob/master/Intrusion_Detection_System_using_CNN_and_Transfer_Learning.ipynb\" target=\"_parent\"><img src=\"https://colab.research.google.com/assets/colab-badge.svg\" alt=\"Open In Colab\"/></a>"
      ]
    },
    {
      "cell_type": "markdown",
      "metadata": {
        "id": "Oj4kRr1IrnVr"
      },
      "source": [
        "Data pre-processing\n",
        "Procedures:\n",
        "  - Read the dataset\n",
        "  - Transform the tabular data into images\n",
        "  - Display the transformed images\n",
        "  - Split the training and test set"
      ]
    },
    {
      "cell_type": "markdown",
      "metadata": {
        "id": "sE-KArbmr390"
      },
      "source": [
        "Import Libraries"
      ]
    },
    {
      "cell_type": "code",
      "execution_count": 1,
      "metadata": {
        "id": "MNKI96tVrYqC"
      },
      "outputs": [],
      "source": [
        "import numpy as np\n",
        "import pandas as pd\n",
        "import os\n",
        "import cv2\n",
        "import math\n",
        "import random\n",
        "import matplotlib.pyplot as plt\n",
        "import shutil\n",
        "from sklearn.preprocessing import QuantileTransformer\n",
        "from PIL import Image\n",
        "import warnings\n",
        "warnings.filterwarnings(\"ignore\")"
      ]
    },
    {
      "cell_type": "code",
      "execution_count": 2,
      "metadata": {
        "id": "ddRK_fn3r826"
      },
      "outputs": [],
      "source": [
        "df=pd.read_csv('Data/Car_Hacking.csv')"
      ]
    },
    {
      "cell_type": "code",
      "execution_count": 3,
      "metadata": {
        "colab": {
          "base_uri": "https://localhost:8080/",
          "height": 423
        },
        "id": "K6aplOEvtyyM",
        "outputId": "37607848-d22d-4c54-d179-afd6f5caec6b"
      },
      "outputs": [
        {
          "output_type": "execute_result",
          "data": {
            "text/plain": [
              "        CAN ID  DATA[0]  DATA[1]  DATA[2]  DATA[3]  DATA[4]  DATA[5]  DATA[6]  \\\n",
              "0         1201       41       39       39       35        0        0        0   \n",
              "1          809       64      187      127       20       17       32        0   \n",
              "2         1349      216        0        0      136        0        0        0   \n",
              "3         1201       41       39       39       35        0        0        0   \n",
              "4            2        0        0        0        0        0        3        2   \n",
              "...        ...      ...      ...      ...      ...      ...      ...      ...   \n",
              "818435     848        5       32       52      104      117        0        0   \n",
              "818436    1088      255        0        0        0      255      134        9   \n",
              "818437     848        5       32      100      104      117        0        0   \n",
              "818438    1349      216       90        0      137        0        0        0   \n",
              "818439     790        5       33       48       10       33       30        0   \n",
              "\n",
              "        DATA[7] Label  \n",
              "0           154     R  \n",
              "1            20     R  \n",
              "2             0     R  \n",
              "3           154     R  \n",
              "4           228     R  \n",
              "...         ...   ...  \n",
              "818435       12     R  \n",
              "818436        0     R  \n",
              "818437       92     R  \n",
              "818438        0     R  \n",
              "818439      111     R  \n",
              "\n",
              "[818440 rows x 10 columns]"
            ],
            "text/html": [
              "\n",
              "  <div id=\"df-aef82d07-5c3f-44a4-97d3-ae88ce9e40ce\" class=\"colab-df-container\">\n",
              "    <div>\n",
              "<style scoped>\n",
              "    .dataframe tbody tr th:only-of-type {\n",
              "        vertical-align: middle;\n",
              "    }\n",
              "\n",
              "    .dataframe tbody tr th {\n",
              "        vertical-align: top;\n",
              "    }\n",
              "\n",
              "    .dataframe thead th {\n",
              "        text-align: right;\n",
              "    }\n",
              "</style>\n",
              "<table border=\"1\" class=\"dataframe\">\n",
              "  <thead>\n",
              "    <tr style=\"text-align: right;\">\n",
              "      <th></th>\n",
              "      <th>CAN ID</th>\n",
              "      <th>DATA[0]</th>\n",
              "      <th>DATA[1]</th>\n",
              "      <th>DATA[2]</th>\n",
              "      <th>DATA[3]</th>\n",
              "      <th>DATA[4]</th>\n",
              "      <th>DATA[5]</th>\n",
              "      <th>DATA[6]</th>\n",
              "      <th>DATA[7]</th>\n",
              "      <th>Label</th>\n",
              "    </tr>\n",
              "  </thead>\n",
              "  <tbody>\n",
              "    <tr>\n",
              "      <th>0</th>\n",
              "      <td>1201</td>\n",
              "      <td>41</td>\n",
              "      <td>39</td>\n",
              "      <td>39</td>\n",
              "      <td>35</td>\n",
              "      <td>0</td>\n",
              "      <td>0</td>\n",
              "      <td>0</td>\n",
              "      <td>154</td>\n",
              "      <td>R</td>\n",
              "    </tr>\n",
              "    <tr>\n",
              "      <th>1</th>\n",
              "      <td>809</td>\n",
              "      <td>64</td>\n",
              "      <td>187</td>\n",
              "      <td>127</td>\n",
              "      <td>20</td>\n",
              "      <td>17</td>\n",
              "      <td>32</td>\n",
              "      <td>0</td>\n",
              "      <td>20</td>\n",
              "      <td>R</td>\n",
              "    </tr>\n",
              "    <tr>\n",
              "      <th>2</th>\n",
              "      <td>1349</td>\n",
              "      <td>216</td>\n",
              "      <td>0</td>\n",
              "      <td>0</td>\n",
              "      <td>136</td>\n",
              "      <td>0</td>\n",
              "      <td>0</td>\n",
              "      <td>0</td>\n",
              "      <td>0</td>\n",
              "      <td>R</td>\n",
              "    </tr>\n",
              "    <tr>\n",
              "      <th>3</th>\n",
              "      <td>1201</td>\n",
              "      <td>41</td>\n",
              "      <td>39</td>\n",
              "      <td>39</td>\n",
              "      <td>35</td>\n",
              "      <td>0</td>\n",
              "      <td>0</td>\n",
              "      <td>0</td>\n",
              "      <td>154</td>\n",
              "      <td>R</td>\n",
              "    </tr>\n",
              "    <tr>\n",
              "      <th>4</th>\n",
              "      <td>2</td>\n",
              "      <td>0</td>\n",
              "      <td>0</td>\n",
              "      <td>0</td>\n",
              "      <td>0</td>\n",
              "      <td>0</td>\n",
              "      <td>3</td>\n",
              "      <td>2</td>\n",
              "      <td>228</td>\n",
              "      <td>R</td>\n",
              "    </tr>\n",
              "    <tr>\n",
              "      <th>...</th>\n",
              "      <td>...</td>\n",
              "      <td>...</td>\n",
              "      <td>...</td>\n",
              "      <td>...</td>\n",
              "      <td>...</td>\n",
              "      <td>...</td>\n",
              "      <td>...</td>\n",
              "      <td>...</td>\n",
              "      <td>...</td>\n",
              "      <td>...</td>\n",
              "    </tr>\n",
              "    <tr>\n",
              "      <th>818435</th>\n",
              "      <td>848</td>\n",
              "      <td>5</td>\n",
              "      <td>32</td>\n",
              "      <td>52</td>\n",
              "      <td>104</td>\n",
              "      <td>117</td>\n",
              "      <td>0</td>\n",
              "      <td>0</td>\n",
              "      <td>12</td>\n",
              "      <td>R</td>\n",
              "    </tr>\n",
              "    <tr>\n",
              "      <th>818436</th>\n",
              "      <td>1088</td>\n",
              "      <td>255</td>\n",
              "      <td>0</td>\n",
              "      <td>0</td>\n",
              "      <td>0</td>\n",
              "      <td>255</td>\n",
              "      <td>134</td>\n",
              "      <td>9</td>\n",
              "      <td>0</td>\n",
              "      <td>R</td>\n",
              "    </tr>\n",
              "    <tr>\n",
              "      <th>818437</th>\n",
              "      <td>848</td>\n",
              "      <td>5</td>\n",
              "      <td>32</td>\n",
              "      <td>100</td>\n",
              "      <td>104</td>\n",
              "      <td>117</td>\n",
              "      <td>0</td>\n",
              "      <td>0</td>\n",
              "      <td>92</td>\n",
              "      <td>R</td>\n",
              "    </tr>\n",
              "    <tr>\n",
              "      <th>818438</th>\n",
              "      <td>1349</td>\n",
              "      <td>216</td>\n",
              "      <td>90</td>\n",
              "      <td>0</td>\n",
              "      <td>137</td>\n",
              "      <td>0</td>\n",
              "      <td>0</td>\n",
              "      <td>0</td>\n",
              "      <td>0</td>\n",
              "      <td>R</td>\n",
              "    </tr>\n",
              "    <tr>\n",
              "      <th>818439</th>\n",
              "      <td>790</td>\n",
              "      <td>5</td>\n",
              "      <td>33</td>\n",
              "      <td>48</td>\n",
              "      <td>10</td>\n",
              "      <td>33</td>\n",
              "      <td>30</td>\n",
              "      <td>0</td>\n",
              "      <td>111</td>\n",
              "      <td>R</td>\n",
              "    </tr>\n",
              "  </tbody>\n",
              "</table>\n",
              "<p>818440 rows × 10 columns</p>\n",
              "</div>\n",
              "    <div class=\"colab-df-buttons\">\n",
              "\n",
              "  <div class=\"colab-df-container\">\n",
              "    <button class=\"colab-df-convert\" onclick=\"convertToInteractive('df-aef82d07-5c3f-44a4-97d3-ae88ce9e40ce')\"\n",
              "            title=\"Convert this dataframe to an interactive table.\"\n",
              "            style=\"display:none;\">\n",
              "\n",
              "  <svg xmlns=\"http://www.w3.org/2000/svg\" height=\"24px\" viewBox=\"0 -960 960 960\">\n",
              "    <path d=\"M120-120v-720h720v720H120Zm60-500h600v-160H180v160Zm220 220h160v-160H400v160Zm0 220h160v-160H400v160ZM180-400h160v-160H180v160Zm440 0h160v-160H620v160ZM180-180h160v-160H180v160Zm440 0h160v-160H620v160Z\"/>\n",
              "  </svg>\n",
              "    </button>\n",
              "\n",
              "  <style>\n",
              "    .colab-df-container {\n",
              "      display:flex;\n",
              "      gap: 12px;\n",
              "    }\n",
              "\n",
              "    .colab-df-convert {\n",
              "      background-color: #E8F0FE;\n",
              "      border: none;\n",
              "      border-radius: 50%;\n",
              "      cursor: pointer;\n",
              "      display: none;\n",
              "      fill: #1967D2;\n",
              "      height: 32px;\n",
              "      padding: 0 0 0 0;\n",
              "      width: 32px;\n",
              "    }\n",
              "\n",
              "    .colab-df-convert:hover {\n",
              "      background-color: #E2EBFA;\n",
              "      box-shadow: 0px 1px 2px rgba(60, 64, 67, 0.3), 0px 1px 3px 1px rgba(60, 64, 67, 0.15);\n",
              "      fill: #174EA6;\n",
              "    }\n",
              "\n",
              "    .colab-df-buttons div {\n",
              "      margin-bottom: 4px;\n",
              "    }\n",
              "\n",
              "    [theme=dark] .colab-df-convert {\n",
              "      background-color: #3B4455;\n",
              "      fill: #D2E3FC;\n",
              "    }\n",
              "\n",
              "    [theme=dark] .colab-df-convert:hover {\n",
              "      background-color: #434B5C;\n",
              "      box-shadow: 0px 1px 3px 1px rgba(0, 0, 0, 0.15);\n",
              "      filter: drop-shadow(0px 1px 2px rgba(0, 0, 0, 0.3));\n",
              "      fill: #FFFFFF;\n",
              "    }\n",
              "  </style>\n",
              "\n",
              "    <script>\n",
              "      const buttonEl =\n",
              "        document.querySelector('#df-aef82d07-5c3f-44a4-97d3-ae88ce9e40ce button.colab-df-convert');\n",
              "      buttonEl.style.display =\n",
              "        google.colab.kernel.accessAllowed ? 'block' : 'none';\n",
              "\n",
              "      async function convertToInteractive(key) {\n",
              "        const element = document.querySelector('#df-aef82d07-5c3f-44a4-97d3-ae88ce9e40ce');\n",
              "        const dataTable =\n",
              "          await google.colab.kernel.invokeFunction('convertToInteractive',\n",
              "                                                    [key], {});\n",
              "        if (!dataTable) return;\n",
              "\n",
              "        const docLinkHtml = 'Like what you see? Visit the ' +\n",
              "          '<a target=\"_blank\" href=https://colab.research.google.com/notebooks/data_table.ipynb>data table notebook</a>'\n",
              "          + ' to learn more about interactive tables.';\n",
              "        element.innerHTML = '';\n",
              "        dataTable['output_type'] = 'display_data';\n",
              "        await google.colab.output.renderOutput(dataTable, element);\n",
              "        const docLink = document.createElement('div');\n",
              "        docLink.innerHTML = docLinkHtml;\n",
              "        element.appendChild(docLink);\n",
              "      }\n",
              "    </script>\n",
              "  </div>\n",
              "\n",
              "\n",
              "<div id=\"df-179df468-9417-45d7-9b36-fdaef2bd4a2f\">\n",
              "  <button class=\"colab-df-quickchart\" onclick=\"quickchart('df-179df468-9417-45d7-9b36-fdaef2bd4a2f')\"\n",
              "            title=\"Suggest charts\"\n",
              "            style=\"display:none;\">\n",
              "\n",
              "<svg xmlns=\"http://www.w3.org/2000/svg\" height=\"24px\"viewBox=\"0 0 24 24\"\n",
              "     width=\"24px\">\n",
              "    <g>\n",
              "        <path d=\"M19 3H5c-1.1 0-2 .9-2 2v14c0 1.1.9 2 2 2h14c1.1 0 2-.9 2-2V5c0-1.1-.9-2-2-2zM9 17H7v-7h2v7zm4 0h-2V7h2v10zm4 0h-2v-4h2v4z\"/>\n",
              "    </g>\n",
              "</svg>\n",
              "  </button>\n",
              "\n",
              "<style>\n",
              "  .colab-df-quickchart {\n",
              "      --bg-color: #E8F0FE;\n",
              "      --fill-color: #1967D2;\n",
              "      --hover-bg-color: #E2EBFA;\n",
              "      --hover-fill-color: #174EA6;\n",
              "      --disabled-fill-color: #AAA;\n",
              "      --disabled-bg-color: #DDD;\n",
              "  }\n",
              "\n",
              "  [theme=dark] .colab-df-quickchart {\n",
              "      --bg-color: #3B4455;\n",
              "      --fill-color: #D2E3FC;\n",
              "      --hover-bg-color: #434B5C;\n",
              "      --hover-fill-color: #FFFFFF;\n",
              "      --disabled-bg-color: #3B4455;\n",
              "      --disabled-fill-color: #666;\n",
              "  }\n",
              "\n",
              "  .colab-df-quickchart {\n",
              "    background-color: var(--bg-color);\n",
              "    border: none;\n",
              "    border-radius: 50%;\n",
              "    cursor: pointer;\n",
              "    display: none;\n",
              "    fill: var(--fill-color);\n",
              "    height: 32px;\n",
              "    padding: 0;\n",
              "    width: 32px;\n",
              "  }\n",
              "\n",
              "  .colab-df-quickchart:hover {\n",
              "    background-color: var(--hover-bg-color);\n",
              "    box-shadow: 0 1px 2px rgba(60, 64, 67, 0.3), 0 1px 3px 1px rgba(60, 64, 67, 0.15);\n",
              "    fill: var(--button-hover-fill-color);\n",
              "  }\n",
              "\n",
              "  .colab-df-quickchart-complete:disabled,\n",
              "  .colab-df-quickchart-complete:disabled:hover {\n",
              "    background-color: var(--disabled-bg-color);\n",
              "    fill: var(--disabled-fill-color);\n",
              "    box-shadow: none;\n",
              "  }\n",
              "\n",
              "  .colab-df-spinner {\n",
              "    border: 2px solid var(--fill-color);\n",
              "    border-color: transparent;\n",
              "    border-bottom-color: var(--fill-color);\n",
              "    animation:\n",
              "      spin 1s steps(1) infinite;\n",
              "  }\n",
              "\n",
              "  @keyframes spin {\n",
              "    0% {\n",
              "      border-color: transparent;\n",
              "      border-bottom-color: var(--fill-color);\n",
              "      border-left-color: var(--fill-color);\n",
              "    }\n",
              "    20% {\n",
              "      border-color: transparent;\n",
              "      border-left-color: var(--fill-color);\n",
              "      border-top-color: var(--fill-color);\n",
              "    }\n",
              "    30% {\n",
              "      border-color: transparent;\n",
              "      border-left-color: var(--fill-color);\n",
              "      border-top-color: var(--fill-color);\n",
              "      border-right-color: var(--fill-color);\n",
              "    }\n",
              "    40% {\n",
              "      border-color: transparent;\n",
              "      border-right-color: var(--fill-color);\n",
              "      border-top-color: var(--fill-color);\n",
              "    }\n",
              "    60% {\n",
              "      border-color: transparent;\n",
              "      border-right-color: var(--fill-color);\n",
              "    }\n",
              "    80% {\n",
              "      border-color: transparent;\n",
              "      border-right-color: var(--fill-color);\n",
              "      border-bottom-color: var(--fill-color);\n",
              "    }\n",
              "    90% {\n",
              "      border-color: transparent;\n",
              "      border-bottom-color: var(--fill-color);\n",
              "    }\n",
              "  }\n",
              "</style>\n",
              "\n",
              "  <script>\n",
              "    async function quickchart(key) {\n",
              "      const quickchartButtonEl =\n",
              "        document.querySelector('#' + key + ' button');\n",
              "      quickchartButtonEl.disabled = true;  // To prevent multiple clicks.\n",
              "      quickchartButtonEl.classList.add('colab-df-spinner');\n",
              "      try {\n",
              "        const charts = await google.colab.kernel.invokeFunction(\n",
              "            'suggestCharts', [key], {});\n",
              "      } catch (error) {\n",
              "        console.error('Error during call to suggestCharts:', error);\n",
              "      }\n",
              "      quickchartButtonEl.classList.remove('colab-df-spinner');\n",
              "      quickchartButtonEl.classList.add('colab-df-quickchart-complete');\n",
              "    }\n",
              "    (() => {\n",
              "      let quickchartButtonEl =\n",
              "        document.querySelector('#df-179df468-9417-45d7-9b36-fdaef2bd4a2f button');\n",
              "      quickchartButtonEl.style.display =\n",
              "        google.colab.kernel.accessAllowed ? 'block' : 'none';\n",
              "    })();\n",
              "  </script>\n",
              "</div>\n",
              "\n",
              "  <div id=\"id_5b9ff7f5-7a8c-4283-8410-cd5535953a74\">\n",
              "    <style>\n",
              "      .colab-df-generate {\n",
              "        background-color: #E8F0FE;\n",
              "        border: none;\n",
              "        border-radius: 50%;\n",
              "        cursor: pointer;\n",
              "        display: none;\n",
              "        fill: #1967D2;\n",
              "        height: 32px;\n",
              "        padding: 0 0 0 0;\n",
              "        width: 32px;\n",
              "      }\n",
              "\n",
              "      .colab-df-generate:hover {\n",
              "        background-color: #E2EBFA;\n",
              "        box-shadow: 0px 1px 2px rgba(60, 64, 67, 0.3), 0px 1px 3px 1px rgba(60, 64, 67, 0.15);\n",
              "        fill: #174EA6;\n",
              "      }\n",
              "\n",
              "      [theme=dark] .colab-df-generate {\n",
              "        background-color: #3B4455;\n",
              "        fill: #D2E3FC;\n",
              "      }\n",
              "\n",
              "      [theme=dark] .colab-df-generate:hover {\n",
              "        background-color: #434B5C;\n",
              "        box-shadow: 0px 1px 3px 1px rgba(0, 0, 0, 0.15);\n",
              "        filter: drop-shadow(0px 1px 2px rgba(0, 0, 0, 0.3));\n",
              "        fill: #FFFFFF;\n",
              "      }\n",
              "    </style>\n",
              "    <button class=\"colab-df-generate\" onclick=\"generateWithVariable('df')\"\n",
              "            title=\"Generate code using this dataframe.\"\n",
              "            style=\"display:none;\">\n",
              "\n",
              "  <svg xmlns=\"http://www.w3.org/2000/svg\" height=\"24px\"viewBox=\"0 0 24 24\"\n",
              "       width=\"24px\">\n",
              "    <path d=\"M7,19H8.4L18.45,9,17,7.55,7,17.6ZM5,21V16.75L18.45,3.32a2,2,0,0,1,2.83,0l1.4,1.43a1.91,1.91,0,0,1,.58,1.4,1.91,1.91,0,0,1-.58,1.4L9.25,21ZM18.45,9,17,7.55Zm-12,3A5.31,5.31,0,0,0,4.9,8.1,5.31,5.31,0,0,0,1,6.5,5.31,5.31,0,0,0,4.9,4.9,5.31,5.31,0,0,0,6.5,1,5.31,5.31,0,0,0,8.1,4.9,5.31,5.31,0,0,0,12,6.5,5.46,5.46,0,0,0,6.5,12Z\"/>\n",
              "  </svg>\n",
              "    </button>\n",
              "    <script>\n",
              "      (() => {\n",
              "      const buttonEl =\n",
              "        document.querySelector('#id_5b9ff7f5-7a8c-4283-8410-cd5535953a74 button.colab-df-generate');\n",
              "      buttonEl.style.display =\n",
              "        google.colab.kernel.accessAllowed ? 'block' : 'none';\n",
              "\n",
              "      buttonEl.onclick = () => {\n",
              "        google.colab.notebook.generateWithVariable('df');\n",
              "      }\n",
              "      })();\n",
              "    </script>\n",
              "  </div>\n",
              "\n",
              "    </div>\n",
              "  </div>\n"
            ],
            "application/vnd.google.colaboratory.intrinsic+json": {
              "type": "dataframe",
              "variable_name": "df"
            }
          },
          "metadata": {},
          "execution_count": 3
        }
      ],
      "source": [
        "df"
      ]
    },
    {
      "cell_type": "code",
      "execution_count": 6,
      "metadata": {
        "colab": {
          "base_uri": "https://localhost:8080/"
        },
        "id": "-EO8Rt-zty8i",
        "outputId": "02722f12-f8e4-45b1-fa88-1f11dfeaf8ae"
      },
      "outputs": [
        {
          "output_type": "execute_result",
          "data": {
            "text/plain": [
              "Label\n",
              "R        701832\n",
              "RPM       32539\n",
              "gear      29944\n",
              "DoS       29501\n",
              "Fuzzy     24624\n",
              "Name: count, dtype: int64"
            ]
          },
          "metadata": {},
          "execution_count": 6
        }
      ],
      "source": [
        "# The labels of the dataset. \"R\" indicates normal patterns, and there are four types of attack (DoS, fuzzy. gear spoofing, and RPM spoofing zttacks)\n",
        "df.Label.value_counts()"
      ]
    },
    {
      "cell_type": "markdown",
      "metadata": {
        "id": "NRvYE-nWxtzf"
      },
      "source": [
        "*Data Transformation*\n",
        "\n",
        "Convert tabular data to images Procedures:\n",
        "\n",
        " - Use quantile transform to transform the original data samples into the scale of [0,255], representing pixel values\n",
        " - Generate images for each category (Normal, DoS, Fuzzy, Gear, RPM), each image consists of 27 data samples with 9 features. Thus, the size of each image is 993, length 9, width 9, and 3 color channels (RGB)."
      ]
    },
    {
      "cell_type": "code",
      "execution_count": null,
      "metadata": {
        "id": "jKWl1m-jty-m"
      },
      "outputs": [],
      "source": [
        "# Transform all features into the scale of [0,1]\n",
        "numeric_features = df.dtypes[df.dtypes != 'object'].index\n",
        "scaler = QuantileTransformer()\n",
        "df[numeric_features] = scaler.fit_transform(df[numeric_features])"
      ]
    },
    {
      "cell_type": "code",
      "execution_count": null,
      "metadata": {
        "id": "nJ3sXjsltzBb"
      },
      "outputs": [],
      "source": [
        "# Multiply the feature values by 255 to transform them into the scale of [0,255]\n",
        "df[numeric_features] = df[numeric_features].apply(\n",
        "    lambda x: (x*255))"
      ]
    },
    {
      "cell_type": "code",
      "execution_count": null,
      "metadata": {
        "colab": {
          "base_uri": "https://localhost:8080/",
          "height": 320
        },
        "id": "PqOfAX4YtzD6",
        "outputId": "09edca36-ad40-497b-bd09-33296d9923e5"
      },
      "outputs": [
        {
          "output_type": "execute_result",
          "data": {
            "text/plain": [
              "              CAN ID        DATA[0]        DATA[1]        DATA[2]  \\\n",
              "count  818440.000000  818440.000000  818440.000000  818440.000000   \n",
              "mean      127.747472     113.419271     107.985299      89.727084   \n",
              "std        73.757335      89.690539      93.487657     100.744078   \n",
              "min         0.000000       0.000000       0.000000       0.000000   \n",
              "25%        67.259760       0.000000       0.000000       0.000000   \n",
              "50%       122.394895     126.478979     115.120120       0.000000   \n",
              "75%       190.803303     191.313814     193.355856     199.609610   \n",
              "max       255.000000     255.000000     255.000000     255.000000   \n",
              "\n",
              "             DATA[3]        DATA[4]        DATA[5]        DATA[6]  \\\n",
              "count  818440.000000  818440.000000  818440.000000  818440.000000   \n",
              "mean      109.579147     105.347416     112.471003      85.136094   \n",
              "std       103.501700      95.534267      91.286312     101.628723   \n",
              "min         0.000000       0.000000       0.000000       0.000000   \n",
              "25%         0.000000       0.000000       0.000000       0.000000   \n",
              "50%       129.669670     126.606607     129.031532       0.000000   \n",
              "75%       190.037538     192.462462     191.569069     192.972973   \n",
              "max       255.000000     255.000000     255.000000     255.000000   \n",
              "\n",
              "             DATA[7]  \n",
              "count  818440.000000  \n",
              "mean       93.850632  \n",
              "std       100.838509  \n",
              "min         0.000000  \n",
              "25%         0.000000  \n",
              "50%         0.000000  \n",
              "75%       193.228228  \n",
              "max       255.000000  "
            ],
            "text/html": [
              "\n",
              "  <div id=\"df-ab938f7a-79a0-4b9f-8a47-dffb8472eaea\" class=\"colab-df-container\">\n",
              "    <div>\n",
              "<style scoped>\n",
              "    .dataframe tbody tr th:only-of-type {\n",
              "        vertical-align: middle;\n",
              "    }\n",
              "\n",
              "    .dataframe tbody tr th {\n",
              "        vertical-align: top;\n",
              "    }\n",
              "\n",
              "    .dataframe thead th {\n",
              "        text-align: right;\n",
              "    }\n",
              "</style>\n",
              "<table border=\"1\" class=\"dataframe\">\n",
              "  <thead>\n",
              "    <tr style=\"text-align: right;\">\n",
              "      <th></th>\n",
              "      <th>CAN ID</th>\n",
              "      <th>DATA[0]</th>\n",
              "      <th>DATA[1]</th>\n",
              "      <th>DATA[2]</th>\n",
              "      <th>DATA[3]</th>\n",
              "      <th>DATA[4]</th>\n",
              "      <th>DATA[5]</th>\n",
              "      <th>DATA[6]</th>\n",
              "      <th>DATA[7]</th>\n",
              "    </tr>\n",
              "  </thead>\n",
              "  <tbody>\n",
              "    <tr>\n",
              "      <th>count</th>\n",
              "      <td>818440.000000</td>\n",
              "      <td>818440.000000</td>\n",
              "      <td>818440.000000</td>\n",
              "      <td>818440.000000</td>\n",
              "      <td>818440.000000</td>\n",
              "      <td>818440.000000</td>\n",
              "      <td>818440.000000</td>\n",
              "      <td>818440.000000</td>\n",
              "      <td>818440.000000</td>\n",
              "    </tr>\n",
              "    <tr>\n",
              "      <th>mean</th>\n",
              "      <td>127.747472</td>\n",
              "      <td>113.419271</td>\n",
              "      <td>107.985299</td>\n",
              "      <td>89.727084</td>\n",
              "      <td>109.579147</td>\n",
              "      <td>105.347416</td>\n",
              "      <td>112.471003</td>\n",
              "      <td>85.136094</td>\n",
              "      <td>93.850632</td>\n",
              "    </tr>\n",
              "    <tr>\n",
              "      <th>std</th>\n",
              "      <td>73.757335</td>\n",
              "      <td>89.690539</td>\n",
              "      <td>93.487657</td>\n",
              "      <td>100.744078</td>\n",
              "      <td>103.501700</td>\n",
              "      <td>95.534267</td>\n",
              "      <td>91.286312</td>\n",
              "      <td>101.628723</td>\n",
              "      <td>100.838509</td>\n",
              "    </tr>\n",
              "    <tr>\n",
              "      <th>min</th>\n",
              "      <td>0.000000</td>\n",
              "      <td>0.000000</td>\n",
              "      <td>0.000000</td>\n",
              "      <td>0.000000</td>\n",
              "      <td>0.000000</td>\n",
              "      <td>0.000000</td>\n",
              "      <td>0.000000</td>\n",
              "      <td>0.000000</td>\n",
              "      <td>0.000000</td>\n",
              "    </tr>\n",
              "    <tr>\n",
              "      <th>25%</th>\n",
              "      <td>67.259760</td>\n",
              "      <td>0.000000</td>\n",
              "      <td>0.000000</td>\n",
              "      <td>0.000000</td>\n",
              "      <td>0.000000</td>\n",
              "      <td>0.000000</td>\n",
              "      <td>0.000000</td>\n",
              "      <td>0.000000</td>\n",
              "      <td>0.000000</td>\n",
              "    </tr>\n",
              "    <tr>\n",
              "      <th>50%</th>\n",
              "      <td>122.394895</td>\n",
              "      <td>126.478979</td>\n",
              "      <td>115.120120</td>\n",
              "      <td>0.000000</td>\n",
              "      <td>129.669670</td>\n",
              "      <td>126.606607</td>\n",
              "      <td>129.031532</td>\n",
              "      <td>0.000000</td>\n",
              "      <td>0.000000</td>\n",
              "    </tr>\n",
              "    <tr>\n",
              "      <th>75%</th>\n",
              "      <td>190.803303</td>\n",
              "      <td>191.313814</td>\n",
              "      <td>193.355856</td>\n",
              "      <td>199.609610</td>\n",
              "      <td>190.037538</td>\n",
              "      <td>192.462462</td>\n",
              "      <td>191.569069</td>\n",
              "      <td>192.972973</td>\n",
              "      <td>193.228228</td>\n",
              "    </tr>\n",
              "    <tr>\n",
              "      <th>max</th>\n",
              "      <td>255.000000</td>\n",
              "      <td>255.000000</td>\n",
              "      <td>255.000000</td>\n",
              "      <td>255.000000</td>\n",
              "      <td>255.000000</td>\n",
              "      <td>255.000000</td>\n",
              "      <td>255.000000</td>\n",
              "      <td>255.000000</td>\n",
              "      <td>255.000000</td>\n",
              "    </tr>\n",
              "  </tbody>\n",
              "</table>\n",
              "</div>\n",
              "    <div class=\"colab-df-buttons\">\n",
              "\n",
              "  <div class=\"colab-df-container\">\n",
              "    <button class=\"colab-df-convert\" onclick=\"convertToInteractive('df-ab938f7a-79a0-4b9f-8a47-dffb8472eaea')\"\n",
              "            title=\"Convert this dataframe to an interactive table.\"\n",
              "            style=\"display:none;\">\n",
              "\n",
              "  <svg xmlns=\"http://www.w3.org/2000/svg\" height=\"24px\" viewBox=\"0 -960 960 960\">\n",
              "    <path d=\"M120-120v-720h720v720H120Zm60-500h600v-160H180v160Zm220 220h160v-160H400v160Zm0 220h160v-160H400v160ZM180-400h160v-160H180v160Zm440 0h160v-160H620v160ZM180-180h160v-160H180v160Zm440 0h160v-160H620v160Z\"/>\n",
              "  </svg>\n",
              "    </button>\n",
              "\n",
              "  <style>\n",
              "    .colab-df-container {\n",
              "      display:flex;\n",
              "      gap: 12px;\n",
              "    }\n",
              "\n",
              "    .colab-df-convert {\n",
              "      background-color: #E8F0FE;\n",
              "      border: none;\n",
              "      border-radius: 50%;\n",
              "      cursor: pointer;\n",
              "      display: none;\n",
              "      fill: #1967D2;\n",
              "      height: 32px;\n",
              "      padding: 0 0 0 0;\n",
              "      width: 32px;\n",
              "    }\n",
              "\n",
              "    .colab-df-convert:hover {\n",
              "      background-color: #E2EBFA;\n",
              "      box-shadow: 0px 1px 2px rgba(60, 64, 67, 0.3), 0px 1px 3px 1px rgba(60, 64, 67, 0.15);\n",
              "      fill: #174EA6;\n",
              "    }\n",
              "\n",
              "    .colab-df-buttons div {\n",
              "      margin-bottom: 4px;\n",
              "    }\n",
              "\n",
              "    [theme=dark] .colab-df-convert {\n",
              "      background-color: #3B4455;\n",
              "      fill: #D2E3FC;\n",
              "    }\n",
              "\n",
              "    [theme=dark] .colab-df-convert:hover {\n",
              "      background-color: #434B5C;\n",
              "      box-shadow: 0px 1px 3px 1px rgba(0, 0, 0, 0.15);\n",
              "      filter: drop-shadow(0px 1px 2px rgba(0, 0, 0, 0.3));\n",
              "      fill: #FFFFFF;\n",
              "    }\n",
              "  </style>\n",
              "\n",
              "    <script>\n",
              "      const buttonEl =\n",
              "        document.querySelector('#df-ab938f7a-79a0-4b9f-8a47-dffb8472eaea button.colab-df-convert');\n",
              "      buttonEl.style.display =\n",
              "        google.colab.kernel.accessAllowed ? 'block' : 'none';\n",
              "\n",
              "      async function convertToInteractive(key) {\n",
              "        const element = document.querySelector('#df-ab938f7a-79a0-4b9f-8a47-dffb8472eaea');\n",
              "        const dataTable =\n",
              "          await google.colab.kernel.invokeFunction('convertToInteractive',\n",
              "                                                    [key], {});\n",
              "        if (!dataTable) return;\n",
              "\n",
              "        const docLinkHtml = 'Like what you see? Visit the ' +\n",
              "          '<a target=\"_blank\" href=https://colab.research.google.com/notebooks/data_table.ipynb>data table notebook</a>'\n",
              "          + ' to learn more about interactive tables.';\n",
              "        element.innerHTML = '';\n",
              "        dataTable['output_type'] = 'display_data';\n",
              "        await google.colab.output.renderOutput(dataTable, element);\n",
              "        const docLink = document.createElement('div');\n",
              "        docLink.innerHTML = docLinkHtml;\n",
              "        element.appendChild(docLink);\n",
              "      }\n",
              "    </script>\n",
              "  </div>\n",
              "\n",
              "\n",
              "<div id=\"df-eba1593f-3363-4a90-8ea1-97a5291fee7e\">\n",
              "  <button class=\"colab-df-quickchart\" onclick=\"quickchart('df-eba1593f-3363-4a90-8ea1-97a5291fee7e')\"\n",
              "            title=\"Suggest charts\"\n",
              "            style=\"display:none;\">\n",
              "\n",
              "<svg xmlns=\"http://www.w3.org/2000/svg\" height=\"24px\"viewBox=\"0 0 24 24\"\n",
              "     width=\"24px\">\n",
              "    <g>\n",
              "        <path d=\"M19 3H5c-1.1 0-2 .9-2 2v14c0 1.1.9 2 2 2h14c1.1 0 2-.9 2-2V5c0-1.1-.9-2-2-2zM9 17H7v-7h2v7zm4 0h-2V7h2v10zm4 0h-2v-4h2v4z\"/>\n",
              "    </g>\n",
              "</svg>\n",
              "  </button>\n",
              "\n",
              "<style>\n",
              "  .colab-df-quickchart {\n",
              "      --bg-color: #E8F0FE;\n",
              "      --fill-color: #1967D2;\n",
              "      --hover-bg-color: #E2EBFA;\n",
              "      --hover-fill-color: #174EA6;\n",
              "      --disabled-fill-color: #AAA;\n",
              "      --disabled-bg-color: #DDD;\n",
              "  }\n",
              "\n",
              "  [theme=dark] .colab-df-quickchart {\n",
              "      --bg-color: #3B4455;\n",
              "      --fill-color: #D2E3FC;\n",
              "      --hover-bg-color: #434B5C;\n",
              "      --hover-fill-color: #FFFFFF;\n",
              "      --disabled-bg-color: #3B4455;\n",
              "      --disabled-fill-color: #666;\n",
              "  }\n",
              "\n",
              "  .colab-df-quickchart {\n",
              "    background-color: var(--bg-color);\n",
              "    border: none;\n",
              "    border-radius: 50%;\n",
              "    cursor: pointer;\n",
              "    display: none;\n",
              "    fill: var(--fill-color);\n",
              "    height: 32px;\n",
              "    padding: 0;\n",
              "    width: 32px;\n",
              "  }\n",
              "\n",
              "  .colab-df-quickchart:hover {\n",
              "    background-color: var(--hover-bg-color);\n",
              "    box-shadow: 0 1px 2px rgba(60, 64, 67, 0.3), 0 1px 3px 1px rgba(60, 64, 67, 0.15);\n",
              "    fill: var(--button-hover-fill-color);\n",
              "  }\n",
              "\n",
              "  .colab-df-quickchart-complete:disabled,\n",
              "  .colab-df-quickchart-complete:disabled:hover {\n",
              "    background-color: var(--disabled-bg-color);\n",
              "    fill: var(--disabled-fill-color);\n",
              "    box-shadow: none;\n",
              "  }\n",
              "\n",
              "  .colab-df-spinner {\n",
              "    border: 2px solid var(--fill-color);\n",
              "    border-color: transparent;\n",
              "    border-bottom-color: var(--fill-color);\n",
              "    animation:\n",
              "      spin 1s steps(1) infinite;\n",
              "  }\n",
              "\n",
              "  @keyframes spin {\n",
              "    0% {\n",
              "      border-color: transparent;\n",
              "      border-bottom-color: var(--fill-color);\n",
              "      border-left-color: var(--fill-color);\n",
              "    }\n",
              "    20% {\n",
              "      border-color: transparent;\n",
              "      border-left-color: var(--fill-color);\n",
              "      border-top-color: var(--fill-color);\n",
              "    }\n",
              "    30% {\n",
              "      border-color: transparent;\n",
              "      border-left-color: var(--fill-color);\n",
              "      border-top-color: var(--fill-color);\n",
              "      border-right-color: var(--fill-color);\n",
              "    }\n",
              "    40% {\n",
              "      border-color: transparent;\n",
              "      border-right-color: var(--fill-color);\n",
              "      border-top-color: var(--fill-color);\n",
              "    }\n",
              "    60% {\n",
              "      border-color: transparent;\n",
              "      border-right-color: var(--fill-color);\n",
              "    }\n",
              "    80% {\n",
              "      border-color: transparent;\n",
              "      border-right-color: var(--fill-color);\n",
              "      border-bottom-color: var(--fill-color);\n",
              "    }\n",
              "    90% {\n",
              "      border-color: transparent;\n",
              "      border-bottom-color: var(--fill-color);\n",
              "    }\n",
              "  }\n",
              "</style>\n",
              "\n",
              "  <script>\n",
              "    async function quickchart(key) {\n",
              "      const quickchartButtonEl =\n",
              "        document.querySelector('#' + key + ' button');\n",
              "      quickchartButtonEl.disabled = true;  // To prevent multiple clicks.\n",
              "      quickchartButtonEl.classList.add('colab-df-spinner');\n",
              "      try {\n",
              "        const charts = await google.colab.kernel.invokeFunction(\n",
              "            'suggestCharts', [key], {});\n",
              "      } catch (error) {\n",
              "        console.error('Error during call to suggestCharts:', error);\n",
              "      }\n",
              "      quickchartButtonEl.classList.remove('colab-df-spinner');\n",
              "      quickchartButtonEl.classList.add('colab-df-quickchart-complete');\n",
              "    }\n",
              "    (() => {\n",
              "      let quickchartButtonEl =\n",
              "        document.querySelector('#df-eba1593f-3363-4a90-8ea1-97a5291fee7e button');\n",
              "      quickchartButtonEl.style.display =\n",
              "        google.colab.kernel.accessAllowed ? 'block' : 'none';\n",
              "    })();\n",
              "  </script>\n",
              "</div>\n",
              "\n",
              "    </div>\n",
              "  </div>\n"
            ],
            "application/vnd.google.colaboratory.intrinsic+json": {
              "type": "dataframe",
              "summary": "{\n  \"name\": \"df\",\n  \"rows\": 8,\n  \"fields\": [\n    {\n      \"column\": \"CAN ID\",\n      \"properties\": {\n        \"dtype\": \"number\",\n        \"std\": 289319.97451663035,\n        \"min\": 0.0,\n        \"max\": 818440.0,\n        \"num_unique_values\": 8,\n        \"samples\": [\n          127.74747224391467,\n          122.39489489489489,\n          818440.0\n        ],\n        \"semantic_type\": \"\",\n        \"description\": \"\"\n      }\n    },\n    {\n      \"column\": \"DATA[0]\",\n      \"properties\": {\n        \"dtype\": \"number\",\n        \"std\": 289323.0609658609,\n        \"min\": 0.0,\n        \"max\": 818440.0,\n        \"num_unique_values\": 7,\n        \"samples\": [\n          818440.0,\n          113.4192706478622,\n          191.3138138138138\n        ],\n        \"semantic_type\": \"\",\n        \"description\": \"\"\n      }\n    },\n    {\n      \"column\": \"DATA[1]\",\n      \"properties\": {\n        \"dtype\": \"number\",\n        \"std\": 289323.61419616424,\n        \"min\": 0.0,\n        \"max\": 818440.0,\n        \"num_unique_values\": 7,\n        \"samples\": [\n          818440.0,\n          107.98529857180864,\n          193.35585585585585\n        ],\n        \"semantic_type\": \"\",\n        \"description\": \"\"\n      }\n    },\n    {\n      \"column\": \"DATA[2]\",\n      \"properties\": {\n        \"dtype\": \"number\",\n        \"std\": 289329.6712048122,\n        \"min\": 0.0,\n        \"max\": 818440.0,\n        \"num_unique_values\": 6,\n        \"samples\": [\n          818440.0,\n          89.727084093334,\n          255.0\n        ],\n        \"semantic_type\": \"\",\n        \"description\": \"\"\n      }\n    },\n    {\n      \"column\": \"DATA[3]\",\n      \"properties\": {\n        \"dtype\": \"number\",\n        \"std\": 289322.4605333697,\n        \"min\": 0.0,\n        \"max\": 818440.0,\n        \"num_unique_values\": 7,\n        \"samples\": [\n          818440.0,\n          109.57914689038816,\n          190.03753753753753\n        ],\n        \"semantic_type\": \"\",\n        \"description\": \"\"\n      }\n    },\n    {\n      \"column\": \"DATA[4]\",\n      \"properties\": {\n        \"dtype\": \"number\",\n        \"std\": 289323.1090416817,\n        \"min\": 0.0,\n        \"max\": 818440.0,\n        \"num_unique_values\": 7,\n        \"samples\": [\n          818440.0,\n          105.34741647111952,\n          192.4624624624625\n        ],\n        \"semantic_type\": \"\",\n        \"description\": \"\"\n      }\n    },\n    {\n      \"column\": \"DATA[5]\",\n      \"properties\": {\n        \"dtype\": \"number\",\n        \"std\": 289322.88646024134,\n        \"min\": 0.0,\n        \"max\": 818440.0,\n        \"num_unique_values\": 7,\n        \"samples\": [\n          818440.0,\n          112.47100268032476,\n          191.56906906906906\n        ],\n        \"semantic_type\": \"\",\n        \"description\": \"\"\n      }\n    },\n    {\n      \"column\": \"DATA[6]\",\n      \"properties\": {\n        \"dtype\": \"number\",\n        \"std\": 289330.19327392697,\n        \"min\": 0.0,\n        \"max\": 818440.0,\n        \"num_unique_values\": 6,\n        \"samples\": [\n          818440.0,\n          85.13609395793223,\n          255.0\n        ],\n        \"semantic_type\": \"\",\n        \"description\": \"\"\n      }\n    },\n    {\n      \"column\": \"DATA[7]\",\n      \"properties\": {\n        \"dtype\": \"number\",\n        \"std\": 289329.78014413477,\n        \"min\": 0.0,\n        \"max\": 818440.0,\n        \"num_unique_values\": 6,\n        \"samples\": [\n          818440.0,\n          93.85063198434968,\n          255.0\n        ],\n        \"semantic_type\": \"\",\n        \"description\": \"\"\n      }\n    }\n  ]\n}"
            }
          },
          "metadata": {},
          "execution_count": 8
        }
      ],
      "source": [
        "df.describe()"
      ]
    },
    {
      "cell_type": "markdown",
      "metadata": {
        "id": "Bq_bhGLWyN4I"
      },
      "source": [
        "Generate images for each class\n"
      ]
    },
    {
      "cell_type": "code",
      "execution_count": null,
      "metadata": {
        "id": "mRkPwZ-ctzG2"
      },
      "outputs": [],
      "source": [
        "df0=df[df['Label']=='R'].drop(['Label'],axis=1)\n",
        "df1=df[df['Label']=='RPM'].drop(['Label'],axis=1)\n",
        "df2=df[df['Label']=='gear'].drop(['Label'],axis=1)\n",
        "df3=df[df['Label']=='DoS'].drop(['Label'],axis=1)\n",
        "df4=df[df['Label']=='Fuzzy'].drop(['Label'],axis=1)"
      ]
    },
    {
      "cell_type": "code",
      "execution_count": null,
      "metadata": {
        "colab": {
          "base_uri": "https://localhost:8080/",
          "height": 443
        },
        "id": "hDS8MT540X8d",
        "outputId": "ddd40e3b-6dce-4b19-fd49-129c623d0aeb"
      },
      "outputs": [
        {
          "output_type": "execute_result",
          "data": {
            "text/plain": [
              "            CAN ID     DATA[0]     DATA[1]     DATA[2]     DATA[3]  \\\n",
              "0       230.495495  178.168168  162.342342  180.210210  149.324324   \n",
              "1       156.599099  182.124625  248.363363  226.156156  129.669670   \n",
              "2       245.555556  214.924925    0.000000    0.000000  188.506006   \n",
              "3       230.495495  178.168168  162.342342  180.210210  149.324324   \n",
              "4        15.187688    0.000000    0.000000    0.000000    0.000000   \n",
              "...            ...         ...         ...         ...         ...   \n",
              "818435  168.596096  109.887387  115.120120  183.783784  171.021021   \n",
              "818436  220.923423  255.000000    0.000000    0.000000    0.000000   \n",
              "818437  168.596096  109.887387  115.120120  211.096096  171.021021   \n",
              "818438  245.555556  214.924925  208.543544    0.000000  190.037538   \n",
              "818439  139.496997  109.887387  138.220721  183.018018  121.118619   \n",
              "\n",
              "           DATA[4]     DATA[5]     DATA[6]     DATA[7]  \n",
              "0         0.000000    0.000000    0.000000  216.966967  \n",
              "1       133.115616  129.031532    0.000000  155.705706  \n",
              "2         0.000000    0.000000    0.000000    0.000000  \n",
              "3         0.000000    0.000000    0.000000  216.966967  \n",
              "4         0.000000  104.144144  150.600601  237.897898  \n",
              "...            ...         ...         ...         ...  \n",
              "818435  202.927928    0.000000    0.000000  139.879880  \n",
              "818436  255.000000  209.819820  187.995495    0.000000  \n",
              "818437  202.927928    0.000000    0.000000  188.378378  \n",
              "818438    0.000000    0.000000    0.000000    0.000000  \n",
              "818439  151.749249  116.906907    0.000000  197.695195  \n",
              "\n",
              "[701832 rows x 9 columns]"
            ],
            "text/html": [
              "\n",
              "  <div id=\"df-1686d360-92ab-44e5-aa84-2ebf1dcab367\" class=\"colab-df-container\">\n",
              "    <div>\n",
              "<style scoped>\n",
              "    .dataframe tbody tr th:only-of-type {\n",
              "        vertical-align: middle;\n",
              "    }\n",
              "\n",
              "    .dataframe tbody tr th {\n",
              "        vertical-align: top;\n",
              "    }\n",
              "\n",
              "    .dataframe thead th {\n",
              "        text-align: right;\n",
              "    }\n",
              "</style>\n",
              "<table border=\"1\" class=\"dataframe\">\n",
              "  <thead>\n",
              "    <tr style=\"text-align: right;\">\n",
              "      <th></th>\n",
              "      <th>CAN ID</th>\n",
              "      <th>DATA[0]</th>\n",
              "      <th>DATA[1]</th>\n",
              "      <th>DATA[2]</th>\n",
              "      <th>DATA[3]</th>\n",
              "      <th>DATA[4]</th>\n",
              "      <th>DATA[5]</th>\n",
              "      <th>DATA[6]</th>\n",
              "      <th>DATA[7]</th>\n",
              "    </tr>\n",
              "  </thead>\n",
              "  <tbody>\n",
              "    <tr>\n",
              "      <th>0</th>\n",
              "      <td>230.495495</td>\n",
              "      <td>178.168168</td>\n",
              "      <td>162.342342</td>\n",
              "      <td>180.210210</td>\n",
              "      <td>149.324324</td>\n",
              "      <td>0.000000</td>\n",
              "      <td>0.000000</td>\n",
              "      <td>0.000000</td>\n",
              "      <td>216.966967</td>\n",
              "    </tr>\n",
              "    <tr>\n",
              "      <th>1</th>\n",
              "      <td>156.599099</td>\n",
              "      <td>182.124625</td>\n",
              "      <td>248.363363</td>\n",
              "      <td>226.156156</td>\n",
              "      <td>129.669670</td>\n",
              "      <td>133.115616</td>\n",
              "      <td>129.031532</td>\n",
              "      <td>0.000000</td>\n",
              "      <td>155.705706</td>\n",
              "    </tr>\n",
              "    <tr>\n",
              "      <th>2</th>\n",
              "      <td>245.555556</td>\n",
              "      <td>214.924925</td>\n",
              "      <td>0.000000</td>\n",
              "      <td>0.000000</td>\n",
              "      <td>188.506006</td>\n",
              "      <td>0.000000</td>\n",
              "      <td>0.000000</td>\n",
              "      <td>0.000000</td>\n",
              "      <td>0.000000</td>\n",
              "    </tr>\n",
              "    <tr>\n",
              "      <th>3</th>\n",
              "      <td>230.495495</td>\n",
              "      <td>178.168168</td>\n",
              "      <td>162.342342</td>\n",
              "      <td>180.210210</td>\n",
              "      <td>149.324324</td>\n",
              "      <td>0.000000</td>\n",
              "      <td>0.000000</td>\n",
              "      <td>0.000000</td>\n",
              "      <td>216.966967</td>\n",
              "    </tr>\n",
              "    <tr>\n",
              "      <th>4</th>\n",
              "      <td>15.187688</td>\n",
              "      <td>0.000000</td>\n",
              "      <td>0.000000</td>\n",
              "      <td>0.000000</td>\n",
              "      <td>0.000000</td>\n",
              "      <td>0.000000</td>\n",
              "      <td>104.144144</td>\n",
              "      <td>150.600601</td>\n",
              "      <td>237.897898</td>\n",
              "    </tr>\n",
              "    <tr>\n",
              "      <th>...</th>\n",
              "      <td>...</td>\n",
              "      <td>...</td>\n",
              "      <td>...</td>\n",
              "      <td>...</td>\n",
              "      <td>...</td>\n",
              "      <td>...</td>\n",
              "      <td>...</td>\n",
              "      <td>...</td>\n",
              "      <td>...</td>\n",
              "    </tr>\n",
              "    <tr>\n",
              "      <th>818435</th>\n",
              "      <td>168.596096</td>\n",
              "      <td>109.887387</td>\n",
              "      <td>115.120120</td>\n",
              "      <td>183.783784</td>\n",
              "      <td>171.021021</td>\n",
              "      <td>202.927928</td>\n",
              "      <td>0.000000</td>\n",
              "      <td>0.000000</td>\n",
              "      <td>139.879880</td>\n",
              "    </tr>\n",
              "    <tr>\n",
              "      <th>818436</th>\n",
              "      <td>220.923423</td>\n",
              "      <td>255.000000</td>\n",
              "      <td>0.000000</td>\n",
              "      <td>0.000000</td>\n",
              "      <td>0.000000</td>\n",
              "      <td>255.000000</td>\n",
              "      <td>209.819820</td>\n",
              "      <td>187.995495</td>\n",
              "      <td>0.000000</td>\n",
              "    </tr>\n",
              "    <tr>\n",
              "      <th>818437</th>\n",
              "      <td>168.596096</td>\n",
              "      <td>109.887387</td>\n",
              "      <td>115.120120</td>\n",
              "      <td>211.096096</td>\n",
              "      <td>171.021021</td>\n",
              "      <td>202.927928</td>\n",
              "      <td>0.000000</td>\n",
              "      <td>0.000000</td>\n",
              "      <td>188.378378</td>\n",
              "    </tr>\n",
              "    <tr>\n",
              "      <th>818438</th>\n",
              "      <td>245.555556</td>\n",
              "      <td>214.924925</td>\n",
              "      <td>208.543544</td>\n",
              "      <td>0.000000</td>\n",
              "      <td>190.037538</td>\n",
              "      <td>0.000000</td>\n",
              "      <td>0.000000</td>\n",
              "      <td>0.000000</td>\n",
              "      <td>0.000000</td>\n",
              "    </tr>\n",
              "    <tr>\n",
              "      <th>818439</th>\n",
              "      <td>139.496997</td>\n",
              "      <td>109.887387</td>\n",
              "      <td>138.220721</td>\n",
              "      <td>183.018018</td>\n",
              "      <td>121.118619</td>\n",
              "      <td>151.749249</td>\n",
              "      <td>116.906907</td>\n",
              "      <td>0.000000</td>\n",
              "      <td>197.695195</td>\n",
              "    </tr>\n",
              "  </tbody>\n",
              "</table>\n",
              "<p>701832 rows × 9 columns</p>\n",
              "</div>\n",
              "    <div class=\"colab-df-buttons\">\n",
              "\n",
              "  <div class=\"colab-df-container\">\n",
              "    <button class=\"colab-df-convert\" onclick=\"convertToInteractive('df-1686d360-92ab-44e5-aa84-2ebf1dcab367')\"\n",
              "            title=\"Convert this dataframe to an interactive table.\"\n",
              "            style=\"display:none;\">\n",
              "\n",
              "  <svg xmlns=\"http://www.w3.org/2000/svg\" height=\"24px\" viewBox=\"0 -960 960 960\">\n",
              "    <path d=\"M120-120v-720h720v720H120Zm60-500h600v-160H180v160Zm220 220h160v-160H400v160Zm0 220h160v-160H400v160ZM180-400h160v-160H180v160Zm440 0h160v-160H620v160ZM180-180h160v-160H180v160Zm440 0h160v-160H620v160Z\"/>\n",
              "  </svg>\n",
              "    </button>\n",
              "\n",
              "  <style>\n",
              "    .colab-df-container {\n",
              "      display:flex;\n",
              "      gap: 12px;\n",
              "    }\n",
              "\n",
              "    .colab-df-convert {\n",
              "      background-color: #E8F0FE;\n",
              "      border: none;\n",
              "      border-radius: 50%;\n",
              "      cursor: pointer;\n",
              "      display: none;\n",
              "      fill: #1967D2;\n",
              "      height: 32px;\n",
              "      padding: 0 0 0 0;\n",
              "      width: 32px;\n",
              "    }\n",
              "\n",
              "    .colab-df-convert:hover {\n",
              "      background-color: #E2EBFA;\n",
              "      box-shadow: 0px 1px 2px rgba(60, 64, 67, 0.3), 0px 1px 3px 1px rgba(60, 64, 67, 0.15);\n",
              "      fill: #174EA6;\n",
              "    }\n",
              "\n",
              "    .colab-df-buttons div {\n",
              "      margin-bottom: 4px;\n",
              "    }\n",
              "\n",
              "    [theme=dark] .colab-df-convert {\n",
              "      background-color: #3B4455;\n",
              "      fill: #D2E3FC;\n",
              "    }\n",
              "\n",
              "    [theme=dark] .colab-df-convert:hover {\n",
              "      background-color: #434B5C;\n",
              "      box-shadow: 0px 1px 3px 1px rgba(0, 0, 0, 0.15);\n",
              "      filter: drop-shadow(0px 1px 2px rgba(0, 0, 0, 0.3));\n",
              "      fill: #FFFFFF;\n",
              "    }\n",
              "  </style>\n",
              "\n",
              "    <script>\n",
              "      const buttonEl =\n",
              "        document.querySelector('#df-1686d360-92ab-44e5-aa84-2ebf1dcab367 button.colab-df-convert');\n",
              "      buttonEl.style.display =\n",
              "        google.colab.kernel.accessAllowed ? 'block' : 'none';\n",
              "\n",
              "      async function convertToInteractive(key) {\n",
              "        const element = document.querySelector('#df-1686d360-92ab-44e5-aa84-2ebf1dcab367');\n",
              "        const dataTable =\n",
              "          await google.colab.kernel.invokeFunction('convertToInteractive',\n",
              "                                                    [key], {});\n",
              "        if (!dataTable) return;\n",
              "\n",
              "        const docLinkHtml = 'Like what you see? Visit the ' +\n",
              "          '<a target=\"_blank\" href=https://colab.research.google.com/notebooks/data_table.ipynb>data table notebook</a>'\n",
              "          + ' to learn more about interactive tables.';\n",
              "        element.innerHTML = '';\n",
              "        dataTable['output_type'] = 'display_data';\n",
              "        await google.colab.output.renderOutput(dataTable, element);\n",
              "        const docLink = document.createElement('div');\n",
              "        docLink.innerHTML = docLinkHtml;\n",
              "        element.appendChild(docLink);\n",
              "      }\n",
              "    </script>\n",
              "  </div>\n",
              "\n",
              "\n",
              "<div id=\"df-48506dc4-fa37-4cb7-a75e-cff8cb3a6597\">\n",
              "  <button class=\"colab-df-quickchart\" onclick=\"quickchart('df-48506dc4-fa37-4cb7-a75e-cff8cb3a6597')\"\n",
              "            title=\"Suggest charts\"\n",
              "            style=\"display:none;\">\n",
              "\n",
              "<svg xmlns=\"http://www.w3.org/2000/svg\" height=\"24px\"viewBox=\"0 0 24 24\"\n",
              "     width=\"24px\">\n",
              "    <g>\n",
              "        <path d=\"M19 3H5c-1.1 0-2 .9-2 2v14c0 1.1.9 2 2 2h14c1.1 0 2-.9 2-2V5c0-1.1-.9-2-2-2zM9 17H7v-7h2v7zm4 0h-2V7h2v10zm4 0h-2v-4h2v4z\"/>\n",
              "    </g>\n",
              "</svg>\n",
              "  </button>\n",
              "\n",
              "<style>\n",
              "  .colab-df-quickchart {\n",
              "      --bg-color: #E8F0FE;\n",
              "      --fill-color: #1967D2;\n",
              "      --hover-bg-color: #E2EBFA;\n",
              "      --hover-fill-color: #174EA6;\n",
              "      --disabled-fill-color: #AAA;\n",
              "      --disabled-bg-color: #DDD;\n",
              "  }\n",
              "\n",
              "  [theme=dark] .colab-df-quickchart {\n",
              "      --bg-color: #3B4455;\n",
              "      --fill-color: #D2E3FC;\n",
              "      --hover-bg-color: #434B5C;\n",
              "      --hover-fill-color: #FFFFFF;\n",
              "      --disabled-bg-color: #3B4455;\n",
              "      --disabled-fill-color: #666;\n",
              "  }\n",
              "\n",
              "  .colab-df-quickchart {\n",
              "    background-color: var(--bg-color);\n",
              "    border: none;\n",
              "    border-radius: 50%;\n",
              "    cursor: pointer;\n",
              "    display: none;\n",
              "    fill: var(--fill-color);\n",
              "    height: 32px;\n",
              "    padding: 0;\n",
              "    width: 32px;\n",
              "  }\n",
              "\n",
              "  .colab-df-quickchart:hover {\n",
              "    background-color: var(--hover-bg-color);\n",
              "    box-shadow: 0 1px 2px rgba(60, 64, 67, 0.3), 0 1px 3px 1px rgba(60, 64, 67, 0.15);\n",
              "    fill: var(--button-hover-fill-color);\n",
              "  }\n",
              "\n",
              "  .colab-df-quickchart-complete:disabled,\n",
              "  .colab-df-quickchart-complete:disabled:hover {\n",
              "    background-color: var(--disabled-bg-color);\n",
              "    fill: var(--disabled-fill-color);\n",
              "    box-shadow: none;\n",
              "  }\n",
              "\n",
              "  .colab-df-spinner {\n",
              "    border: 2px solid var(--fill-color);\n",
              "    border-color: transparent;\n",
              "    border-bottom-color: var(--fill-color);\n",
              "    animation:\n",
              "      spin 1s steps(1) infinite;\n",
              "  }\n",
              "\n",
              "  @keyframes spin {\n",
              "    0% {\n",
              "      border-color: transparent;\n",
              "      border-bottom-color: var(--fill-color);\n",
              "      border-left-color: var(--fill-color);\n",
              "    }\n",
              "    20% {\n",
              "      border-color: transparent;\n",
              "      border-left-color: var(--fill-color);\n",
              "      border-top-color: var(--fill-color);\n",
              "    }\n",
              "    30% {\n",
              "      border-color: transparent;\n",
              "      border-left-color: var(--fill-color);\n",
              "      border-top-color: var(--fill-color);\n",
              "      border-right-color: var(--fill-color);\n",
              "    }\n",
              "    40% {\n",
              "      border-color: transparent;\n",
              "      border-right-color: var(--fill-color);\n",
              "      border-top-color: var(--fill-color);\n",
              "    }\n",
              "    60% {\n",
              "      border-color: transparent;\n",
              "      border-right-color: var(--fill-color);\n",
              "    }\n",
              "    80% {\n",
              "      border-color: transparent;\n",
              "      border-right-color: var(--fill-color);\n",
              "      border-bottom-color: var(--fill-color);\n",
              "    }\n",
              "    90% {\n",
              "      border-color: transparent;\n",
              "      border-bottom-color: var(--fill-color);\n",
              "    }\n",
              "  }\n",
              "</style>\n",
              "\n",
              "  <script>\n",
              "    async function quickchart(key) {\n",
              "      const quickchartButtonEl =\n",
              "        document.querySelector('#' + key + ' button');\n",
              "      quickchartButtonEl.disabled = true;  // To prevent multiple clicks.\n",
              "      quickchartButtonEl.classList.add('colab-df-spinner');\n",
              "      try {\n",
              "        const charts = await google.colab.kernel.invokeFunction(\n",
              "            'suggestCharts', [key], {});\n",
              "      } catch (error) {\n",
              "        console.error('Error during call to suggestCharts:', error);\n",
              "      }\n",
              "      quickchartButtonEl.classList.remove('colab-df-spinner');\n",
              "      quickchartButtonEl.classList.add('colab-df-quickchart-complete');\n",
              "    }\n",
              "    (() => {\n",
              "      let quickchartButtonEl =\n",
              "        document.querySelector('#df-48506dc4-fa37-4cb7-a75e-cff8cb3a6597 button');\n",
              "      quickchartButtonEl.style.display =\n",
              "        google.colab.kernel.accessAllowed ? 'block' : 'none';\n",
              "    })();\n",
              "  </script>\n",
              "</div>\n",
              "\n",
              "  <div id=\"id_0f8a5bbc-6562-47c5-8d1e-5c05c1543a44\">\n",
              "    <style>\n",
              "      .colab-df-generate {\n",
              "        background-color: #E8F0FE;\n",
              "        border: none;\n",
              "        border-radius: 50%;\n",
              "        cursor: pointer;\n",
              "        display: none;\n",
              "        fill: #1967D2;\n",
              "        height: 32px;\n",
              "        padding: 0 0 0 0;\n",
              "        width: 32px;\n",
              "      }\n",
              "\n",
              "      .colab-df-generate:hover {\n",
              "        background-color: #E2EBFA;\n",
              "        box-shadow: 0px 1px 2px rgba(60, 64, 67, 0.3), 0px 1px 3px 1px rgba(60, 64, 67, 0.15);\n",
              "        fill: #174EA6;\n",
              "      }\n",
              "\n",
              "      [theme=dark] .colab-df-generate {\n",
              "        background-color: #3B4455;\n",
              "        fill: #D2E3FC;\n",
              "      }\n",
              "\n",
              "      [theme=dark] .colab-df-generate:hover {\n",
              "        background-color: #434B5C;\n",
              "        box-shadow: 0px 1px 3px 1px rgba(0, 0, 0, 0.15);\n",
              "        filter: drop-shadow(0px 1px 2px rgba(0, 0, 0, 0.3));\n",
              "        fill: #FFFFFF;\n",
              "      }\n",
              "    </style>\n",
              "    <button class=\"colab-df-generate\" onclick=\"generateWithVariable('df0')\"\n",
              "            title=\"Generate code using this dataframe.\"\n",
              "            style=\"display:none;\">\n",
              "\n",
              "  <svg xmlns=\"http://www.w3.org/2000/svg\" height=\"24px\"viewBox=\"0 0 24 24\"\n",
              "       width=\"24px\">\n",
              "    <path d=\"M7,19H8.4L18.45,9,17,7.55,7,17.6ZM5,21V16.75L18.45,3.32a2,2,0,0,1,2.83,0l1.4,1.43a1.91,1.91,0,0,1,.58,1.4,1.91,1.91,0,0,1-.58,1.4L9.25,21ZM18.45,9,17,7.55Zm-12,3A5.31,5.31,0,0,0,4.9,8.1,5.31,5.31,0,0,0,1,6.5,5.31,5.31,0,0,0,4.9,4.9,5.31,5.31,0,0,0,6.5,1,5.31,5.31,0,0,0,8.1,4.9,5.31,5.31,0,0,0,12,6.5,5.46,5.46,0,0,0,6.5,12Z\"/>\n",
              "  </svg>\n",
              "    </button>\n",
              "    <script>\n",
              "      (() => {\n",
              "      const buttonEl =\n",
              "        document.querySelector('#id_0f8a5bbc-6562-47c5-8d1e-5c05c1543a44 button.colab-df-generate');\n",
              "      buttonEl.style.display =\n",
              "        google.colab.kernel.accessAllowed ? 'block' : 'none';\n",
              "\n",
              "      buttonEl.onclick = () => {\n",
              "        google.colab.notebook.generateWithVariable('df0');\n",
              "      }\n",
              "      })();\n",
              "    </script>\n",
              "  </div>\n",
              "\n",
              "    </div>\n",
              "  </div>\n"
            ],
            "application/vnd.google.colaboratory.intrinsic+json": {
              "type": "dataframe",
              "variable_name": "df0"
            }
          },
          "metadata": {},
          "execution_count": 10
        }
      ],
      "source": [
        "df0"
      ]
    },
    {
      "cell_type": "code",
      "execution_count": null,
      "metadata": {
        "id": "HFjB4LbutzJj"
      },
      "outputs": [],
      "source": [
        "# Generate 9*9 color images for class 0 (Normal)\n",
        "count = 0\n",
        "ims = []\n",
        "\n",
        "image_path = \"train/0/\"\n",
        "os.makedirs(image_path)\n",
        "\n",
        "for i in range(0, len(df0)):\n",
        "    count=count+1\n",
        "    if count<=27:\n",
        "        im=df0.iloc[i].values\n",
        "        ims=np.append(ims,im)\n",
        "    else:\n",
        "        ims=np.array(ims).reshape(9,9,3)\n",
        "        array = np.array(ims, dtype=np.uint8)\n",
        "        new_image = Image.fromarray(array)\n",
        "        new_image.save(image_path+str(i)+'.png')\n",
        "        count=0\n",
        "        ims = []"
      ]
    },
    {
      "cell_type": "code",
      "execution_count": null,
      "metadata": {
        "id": "KOzqnrvdykh8"
      },
      "outputs": [],
      "source": [
        "# Generate 9*9 color images for class 1 (RPM spoofing)\n",
        "count=0\n",
        "ims = []\n",
        "\n",
        "image_path = \"train/1/\"\n",
        "os.makedirs(image_path)\n",
        "\n",
        "for i in range(0, len(df1)):\n",
        "    count=count+1\n",
        "    if count<=27:\n",
        "        im=df1.iloc[i].values\n",
        "        ims=np.append(ims,im)\n",
        "    else:\n",
        "        ims=np.array(ims).reshape(9,9,3)\n",
        "        array = np.array(ims, dtype=np.uint8)\n",
        "        new_image = Image.fromarray(array)\n",
        "        new_image.save(image_path+str(i)+'.png')\n",
        "        count=0\n",
        "        ims = []"
      ]
    },
    {
      "cell_type": "code",
      "execution_count": null,
      "metadata": {
        "id": "j2Yugso4ynRd"
      },
      "outputs": [],
      "source": [
        "# Generate 9*9 color images for class 2 (Gear spoofing)\n",
        "count=0\n",
        "ims = []\n",
        "\n",
        "image_path = \"train/2/\"\n",
        "os.makedirs(image_path)\n",
        "\n",
        "for i in range(0, len(df2)):\n",
        "    count=count+1\n",
        "    if count<=27:\n",
        "        im=df2.iloc[i].values\n",
        "        ims=np.append(ims,im)\n",
        "    else:\n",
        "        ims=np.array(ims).reshape(9,9,3)\n",
        "        array = np.array(ims, dtype=np.uint8)\n",
        "        new_image = Image.fromarray(array)\n",
        "        new_image.save(image_path+str(i)+'.png')\n",
        "        count=0\n",
        "        ims = []"
      ]
    },
    {
      "cell_type": "code",
      "execution_count": null,
      "metadata": {
        "id": "Yu4P6T0Syth-"
      },
      "outputs": [],
      "source": [
        "# Generate 9*9 color images for class 3 (DoS attack)\n",
        "count=0\n",
        "ims = []\n",
        "\n",
        "image_path = \"train/3/\"\n",
        "os.makedirs(image_path)\n",
        "\n",
        "\n",
        "for i in range(0, len(df3)):\n",
        "    count=count+1\n",
        "    if count<=27:\n",
        "        im=df3.iloc[i].values\n",
        "        ims=np.append(ims,im)\n",
        "    else:\n",
        "        ims=np.array(ims).reshape(9,9,3)\n",
        "        array = np.array(ims, dtype=np.uint8)\n",
        "        new_image = Image.fromarray(array)\n",
        "        new_image.save(image_path+str(i)+'.png')\n",
        "        count=0\n",
        "        ims = []"
      ]
    },
    {
      "cell_type": "code",
      "execution_count": null,
      "metadata": {
        "id": "lMp5xUC-yuJE"
      },
      "outputs": [],
      "source": [
        "# Generate 9*9 color images for class 4 (Fuzzy attack)\n",
        "count=0\n",
        "ims = []\n",
        "\n",
        "image_path = \"train/4/\"\n",
        "os.makedirs(image_path)\n",
        "\n",
        "\n",
        "for i in range(0, len(df4)):\n",
        "    count=count+1\n",
        "    if count<=27:\n",
        "        im = df4.iloc[i].values\n",
        "        ims = np.append(ims,im)\n",
        "    else:\n",
        "        ims=np.array(ims).reshape(9,9,3)\n",
        "        array = np.array(ims, dtype=np.uint8)\n",
        "        new_image = Image.fromarray(array)\n",
        "        new_image.save(image_path+str(i)+'.png')\n",
        "        count=0\n",
        "        ims = []"
      ]
    },
    {
      "cell_type": "markdown",
      "metadata": {
        "id": "pp2mhuQuyyGU"
      },
      "source": [
        "Split the training and test set\n"
      ]
    },
    {
      "cell_type": "code",
      "execution_count": null,
      "metadata": {
        "colab": {
          "base_uri": "https://localhost:8080/"
        },
        "id": "q0AQT_4Vyyat",
        "outputId": "f535f3a5-676b-4d30-d146-94ac88238176"
      },
      "outputs": [
        {
          "output_type": "stream",
          "name": "stdout",
          "text": [
            "29228\n"
          ]
        }
      ],
      "source": [
        "# Create folders to store images\n",
        "Train_Dir='./train/'\n",
        "Val_Dir='./test/'\n",
        "allimgs=[]\n",
        "for subdir in os.listdir(Train_Dir):\n",
        "    for filename in os.listdir(os.path.join(Train_Dir,subdir)):\n",
        "        filepath=os.path.join(Train_Dir,subdir,filename)\n",
        "        allimgs.append(filepath)\n",
        "print(len(allimgs)) # Print the total number of images"
      ]
    },
    {
      "cell_type": "code",
      "execution_count": null,
      "metadata": {
        "id": "SuKGrJIfy4Sa"
      },
      "outputs": [],
      "source": [
        "#split a test set from the dataset, train/test size = 80%/20%\n",
        "Numbers=len(allimgs)//5 \t#size of test set (20%)\n",
        "\n",
        "def mymovefile(srcfile,dstfile):\n",
        "    if not os.path.isfile(srcfile):\n",
        "        print (\"%s not exist!\"%(srcfile))\n",
        "    else:\n",
        "        fpath,fname=os.path.split(dstfile)\n",
        "        if not os.path.exists(fpath):\n",
        "            os.makedirs(fpath)\n",
        "        shutil.move(srcfile,dstfile)\n",
        "        #print (\"move %s -> %s\"%(srcfile,dstfile))"
      ]
    },
    {
      "cell_type": "code",
      "execution_count": null,
      "metadata": {
        "colab": {
          "base_uri": "https://localhost:8080/"
        },
        "id": "TRdaevsiy6mU",
        "outputId": "a8aeb24d-03f0-4447-aab1-db484ea46bb8"
      },
      "outputs": [
        {
          "output_type": "execute_result",
          "data": {
            "text/plain": [
              "5845"
            ]
          },
          "metadata": {},
          "execution_count": 18
        }
      ],
      "source": [
        "# The size of test set\n",
        "Numbers"
      ]
    },
    {
      "cell_type": "code",
      "execution_count": null,
      "metadata": {
        "colab": {
          "base_uri": "https://localhost:8080/"
        },
        "id": "obpGBpFAzCE6",
        "outputId": "9cfdad2a-6d7f-406f-9be5-841ebf39b531"
      },
      "outputs": [
        {
          "output_type": "stream",
          "name": "stdout",
          "text": [
            "Finish creating test set\n"
          ]
        }
      ],
      "source": [
        "# Create the test set\n",
        "val_imgs=random.sample(allimgs,Numbers)\n",
        "for img in val_imgs:\n",
        "    dest_path=img.replace(Train_Dir,Val_Dir)\n",
        "    mymovefile(img,dest_path)\n",
        "print('Finish creating test set')"
      ]
    },
    {
      "cell_type": "code",
      "execution_count": null,
      "metadata": {
        "id": "E0wuO0CkzDvN"
      },
      "outputs": [],
      "source": [
        "#resize the images 224*224 for better CNN training\n",
        "def get_224(folder,dstdir):\n",
        "    imgfilepaths=[]\n",
        "    for root,dirs,imgs in os.walk(folder):\n",
        "        for thisimg in imgs:\n",
        "            thisimg_path=os.path.join(root,thisimg)\n",
        "            imgfilepaths.append(thisimg_path)\n",
        "    for thisimg_path in imgfilepaths:\n",
        "        dir_name,filename=os.path.split(thisimg_path)\n",
        "        dir_name=dir_name.replace(folder,dstdir)\n",
        "        new_file_path=os.path.join(dir_name,filename)\n",
        "        if not os.path.exists(dir_name):\n",
        "            os.makedirs(dir_name)\n",
        "        img=cv2.imread(thisimg_path)\n",
        "        img=cv2.resize(img,(224,224))\n",
        "        cv2.imwrite(new_file_path,img)\n",
        "    print('Finish resizing'.format(folder=folder))"
      ]
    },
    {
      "cell_type": "code",
      "execution_count": null,
      "metadata": {
        "colab": {
          "base_uri": "https://localhost:8080/"
        },
        "id": "vKyg0jZzzFtW",
        "outputId": "b3c2f597-6c4f-4398-c12f-5434c3d3f46e"
      },
      "outputs": [
        {
          "output_type": "stream",
          "name": "stdout",
          "text": [
            "Finish resizing\n"
          ]
        }
      ],
      "source": [
        "DATA_DIR_224='./train_224/'\n",
        "get_224(folder='./train/',dstdir=DATA_DIR_224)"
      ]
    },
    {
      "cell_type": "code",
      "execution_count": null,
      "metadata": {
        "colab": {
          "base_uri": "https://localhost:8080/"
        },
        "id": "zUFoCSgyzHYy",
        "outputId": "3361f957-fab0-482f-abb3-0fca2dbb9cb1"
      },
      "outputs": [
        {
          "output_type": "stream",
          "name": "stdout",
          "text": [
            "Finish resizing\n"
          ]
        }
      ],
      "source": [
        "DATA_DIR2_224='./test_224/'\n",
        "get_224(folder='./test/',dstdir=DATA_DIR2_224)"
      ]
    },
    {
      "cell_type": "markdown",
      "metadata": {
        "id": "LjiuyrBbzMW_"
      },
      "source": [
        "Display samples for each category\n"
      ]
    },
    {
      "cell_type": "code",
      "execution_count": null,
      "metadata": {
        "colab": {
          "base_uri": "https://localhost:8080/",
          "height": 216
        },
        "id": "JyosEHJEzM1J",
        "outputId": "2964b228-c884-442a-f732-1b081ca80e06"
      },
      "outputs": [
        {
          "output_type": "display_data",
          "data": {
            "text/plain": [
              "<Figure size 1000x1000 with 5 Axes>"
            ],
            "image/png": "[encoded data removed]"
          },
          "metadata": {}
        }
      ],
      "source": [
        "# Read the images for each category, the file name may vary (27.png, 83.png...)\n",
        "img1 = Image.open('./train_224/0/100127.png')\n",
        "img2 = Image.open('./train_224/1/10583.png')\n",
        "img3 = Image.open('./train_224/2/10527.png')\n",
        "img4 = Image.open('./train_224/3/10527.png')\n",
        "img5 = Image.open('./train_224/4/10527.png')\n",
        "\n",
        "plt.figure(figsize=(10, 10))\n",
        "plt.subplot(1,5,1)\n",
        "plt.imshow(img1)\n",
        "plt.title(\"Normal\")\n",
        "plt.subplot(1,5,2)\n",
        "plt.imshow(img2)\n",
        "plt.title(\"RPM Spoofing\")\n",
        "plt.subplot(1,5,3)\n",
        "plt.imshow(img3)\n",
        "plt.title(\"Gear Spoofing\")\n",
        "plt.subplot(1,5,4)\n",
        "plt.imshow(img4)\n",
        "plt.title(\"DoS Attack\")\n",
        "plt.subplot(1,5,5)\n",
        "plt.imshow(img5)\n",
        "plt.title(\"Fuzzy Attack\")\n",
        "plt.show()  # display it"
      ]
    },
    {
      "cell_type": "markdown",
      "metadata": {
        "id": "1WknZlal1Sl6"
      },
      "source": [
        "# *A Transfer Learning and Optimized CNN Based Intrusion Detection System for Internet of Vehicles*"
      ]
    },
    {
      "cell_type": "markdown",
      "metadata": {
        "id": "gCBjfrYl1aCG"
      },
      "source": [
        "*CNN Model Development\n",
        "Aims:*\n",
        "  - Generate training and test images\n",
        "  - Construct CNN models (a CNN model by own, Xception, VGG16, VGG19, Resnet, Inception, InceptionResnet)\n",
        "  - Tune the hyperparameters of CNN models (hyperparameter optimization)"
      ]
    },
    {
      "cell_type": "markdown",
      "metadata": {
        "id": "Ov7zewWO2Ohh"
      },
      "source": [
        "Import libraries\n"
      ]
    },
    {
      "cell_type": "code",
      "execution_count": null,
      "metadata": {
        "id": "g_Mmgq9Lzijj"
      },
      "outputs": [],
      "source": [
        "from keras.preprocessing.image import  ImageDataGenerator\n",
        "from keras.layers import Dense,Flatten,GlobalAveragePooling2D,Input,Conv2D,MaxPooling2D,Dropout,concatenate\n",
        "from keras.models import Model,load_model,Sequential\n",
        "from keras.applications.xception import  Xception\n",
        "from keras.applications.vgg16 import VGG16\n",
        "from keras.applications.vgg19 import VGG19\n",
        "from keras.applications.resnet50 import  ResNet50\n",
        "from keras.applications.inception_v3 import InceptionV3\n",
        "from keras.applications.inception_resnet_v2 import InceptionResNetV2\n",
        "from keras.applications.mobilenet import MobileNet\n",
        "import keras.callbacks as kcallbacks\n",
        "import keras\n",
        "from keras.preprocessing.image import load_img,img_to_array\n",
        "from keras.utils import plot_model\n",
        "import sklearn.metrics as metrics\n",
        "import sklearn.metrics as metrics\n",
        "from sklearn.metrics import accuracy_score,precision_score,recall_score,f1_score"
      ]
    },
    {
      "cell_type": "markdown",
      "metadata": {
        "id": "Rd89N8ux2Rdw"
      },
      "source": [
        "Generate Training and Test Images\n"
      ]
    },
    {
      "cell_type": "code",
      "execution_count": null,
      "metadata": {
        "colab": {
          "base_uri": "https://localhost:8080/"
        },
        "id": "w0R_8pI22S-Z",
        "outputId": "4af9df63-14fc-4fd2-ff0d-7c5cc322454c"
      },
      "outputs": [
        {
          "output_type": "stream",
          "name": "stdout",
          "text": [
            "Found 23383 images belonging to 5 classes.\n",
            "Found 5845 images belonging to 5 classes.\n"
          ]
        }
      ],
      "source": [
        "#generate training and test images\n",
        "TARGET_SIZE=(224,224)\n",
        "INPUT_SIZE=(224,224,3)\n",
        "BATCHSIZE=128\t#could try 128 or 32\n",
        "\n",
        "#Normalization\n",
        "train_datagen = ImageDataGenerator(rescale = 1./255)\n",
        "\n",
        "test_datagen = ImageDataGenerator(rescale=1./255)\n",
        "\n",
        "train_generator = train_datagen.flow_from_directory(\n",
        "        './train_224/',\n",
        "        target_size=TARGET_SIZE,\n",
        "        batch_size=BATCHSIZE,\n",
        "        class_mode='categorical')\n",
        "validation_generator = test_datagen.flow_from_directory(\n",
        "        './test_224/',\n",
        "        target_size=TARGET_SIZE,\n",
        "        batch_size=BATCHSIZE,\n",
        "        class_mode='categorical')"
      ]
    },
    {
      "cell_type": "markdown",
      "metadata": {
        "id": "1KS3yZcoAGF2"
      },
      "source": [
        "Define the image plotting functions\n"
      ]
    },
    {
      "cell_type": "code",
      "execution_count": null,
      "metadata": {
        "id": "a3LEVLsb2VuB"
      },
      "outputs": [],
      "source": [
        "#plot the figures\n",
        "class LossHistory(keras.callbacks.Callback):\n",
        "    def on_train_begin(self, logs={}):\n",
        "        self.losses = {'batch':[], 'epoch':[]}\n",
        "        self.accuracy = {'batch':[], 'epoch':[]}\n",
        "        self.val_loss = {'batch':[], 'epoch':[]}\n",
        "        self.val_acc = {'batch':[], 'epoch':[]}\n",
        "    def on_batch_end(self, batch, logs={}):\n",
        "        self.losses['batch'].append(logs.get('loss'))\n",
        "        self.accuracy['batch'].append(logs.get('acc'))\n",
        "        self.val_loss['batch'].append(logs.get('val_loss'))\n",
        "        self.val_acc['batch'].append(logs.get('val_acc'))\n",
        "    def on_epoch_end(self, batch, logs={}):\n",
        "        self.losses['epoch'].append(logs.get('loss'))\n",
        "        self.accuracy['epoch'].append(logs.get('acc'))\n",
        "        self.val_loss['epoch'].append(logs.get('val_loss'))\n",
        "        self.val_acc['epoch'].append(logs.get('val_acc'))\n",
        "    def loss_plot(self, loss_type):\n",
        "        iters = range(len(self.losses[loss_type]))\n",
        "        plt.figure()\n",
        "        plt.plot(iters, self.losses[loss_type], 'g', label='train loss')\n",
        "        if loss_type == 'epoch':\n",
        "            # acc\n",
        "            plt.plot(iters, self.accuracy[loss_type], 'r', label='train acc')\n",
        "            # loss\n",
        "            plt.plot(iters, self.losses[loss_type], 'g', label='train loss')\n",
        "            # val_acc\n",
        "            plt.plot(iters, self.val_acc[loss_type], 'b', label='val acc')\n",
        "            # val_loss\n",
        "            plt.plot(iters, self.val_loss[loss_type], 'k', label='val loss')\n",
        "        plt.grid(True)\n",
        "        plt.xlabel(loss_type)\n",
        "        plt.ylabel('acc-loss')\n",
        "        plt.legend(loc=\"upper right\")\n",
        "        plt.show()"
      ]
    },
    {
      "cell_type": "code",
      "execution_count": null,
      "metadata": {
        "id": "oxI-MItAAKQr"
      },
      "outputs": [],
      "source": [
        "history_this= LossHistory()\n"
      ]
    },
    {
      "cell_type": "markdown",
      "metadata": {
        "id": "UqHPL4kJAOhD"
      },
      "source": [
        "Construct CNN models\n"
      ]
    },
    {
      "cell_type": "markdown",
      "metadata": {
        "id": "YcJFanalARw_"
      },
      "source": [
        "Model 1: a CNN model by own (baseline)\n"
      ]
    },
    {
      "cell_type": "code",
      "execution_count": null,
      "metadata": {
        "id": "MFM_Pzb1AL2d"
      },
      "outputs": [],
      "source": [
        "def cnn_by_own(input_shape,num_class,epochs,savepath='./model_own.h5'):\n",
        "    model = Sequential()\n",
        "    model.add(Conv2D(64,(3,3),strides=(1,1),input_shape=input_shape,padding='same',activation='relu',kernel_initializer='glorot_uniform'))\n",
        "    model.add(Conv2D(64,(3,3),strides=(1,1),padding='same',activation='relu',kernel_initializer='glorot_uniform'))\n",
        "    model.add(MaxPooling2D(pool_size=(2,2)))\n",
        "    model.add(Conv2D(128,(3,3),strides=(1,1),padding='same',activation='relu',kernel_initializer='glorot_uniform'))\n",
        "    model.add(Conv2D(128,(3,3),strides=(1,1),padding='same',activation='relu',kernel_initializer='glorot_uniform'))\n",
        "    model.add(MaxPooling2D(pool_size=(2,2)))\n",
        "    model.add(Conv2D(256,(3,3),strides=(1,1),padding='same',activation='relu',kernel_initializer='glorot_uniform'))\n",
        "    model.add(Conv2D(256,(3,3),strides=(1,1),padding='same',activation='relu',kernel_initializer='glorot_uniform'))\n",
        "    model.add(Conv2D(256,(3,3),strides=(1,1),padding='same',activation='relu',kernel_initializer='glorot_uniform'))\n",
        "    model.add(GlobalAveragePooling2D())\n",
        "    model.add(Dense(256,activation='relu'))\n",
        "    model.add(Dropout(rate=0.5))\n",
        "    model.add(Dense(num_class,activation='softmax'))\n",
        "    model.compile(loss='categorical_crossentropy',optimizer='adam',metrics=['accuracy'])\n",
        "    #train model\n",
        "    earlyStopping=kcallbacks.EarlyStopping(monitor='val_acc', patience=2, verbose=1, mode='auto')\n",
        "    saveBestModel = kcallbacks.ModelCheckpoint(filepath=savepath, monitor='val_acc', verbose=1, save_best_only=True, mode='auto')\n",
        "    hist=model.fit_generator(\n",
        "        train_generator,\n",
        "        steps_per_epoch=len(train_generator),\n",
        "        epochs=epochs,\n",
        "        validation_data=validation_generator,\n",
        "        validation_steps=len(validation_generator),\n",
        "        callbacks=[earlyStopping,saveBestModel,history_this],\n",
        "    )"
      ]
    },
    {
      "cell_type": "code",
      "execution_count": null,
      "metadata": {
        "colab": {
          "base_uri": "https://localhost:8080/",
          "height": 1000
        },
        "id": "yCGKHgpSAVQk",
        "outputId": "99114eb5-44e3-4e4b-b8e1-5ed35b7dc468"
      },
      "outputs": [
        {
          "output_type": "stream",
          "name": "stdout",
          "text": [
            "Epoch 1/5\n",
            "  6/183 [..............................] - ETA: 3:45 - loss: 1.0619 - accuracy: 0.7617"
          ]
        },
        {
          "output_type": "stream",
          "name": "stderr",
          "text": [
            "WARNING:tensorflow:Callback method `on_train_batch_end` is slow compared to the batch time (batch time: 0.3341s vs `on_train_batch_end` time: 0.7846s). Check your callbacks.\n"
          ]
        },
        {
          "output_type": "stream",
          "name": "stdout",
          "text": [
            "183/183 [==============================] - ETA: 0s - loss: 0.1709 - accuracy: 0.9350"
          ]
        },
        {
          "output_type": "stream",
          "name": "stderr",
          "text": [
            "WARNING:tensorflow:Early stopping conditioned on metric `val_acc` which is not available. Available metrics are: loss,accuracy,val_loss,val_accuracy\n",
            "WARNING:tensorflow:Can save best model only with val_acc available, skipping.\n"
          ]
        },
        {
          "output_type": "stream",
          "name": "stdout",
          "text": [
            "\b\b\b\b\b\b\b\b\b\b\b\b\b\b\b\b\b\b\b\b\b\b\b\b\b\b\b\b\b\b\b\b\b\b\b\b\b\b\b\b\b\b\b\b\b\b\b\b\b\b\b\b\b\b\b\b\b\b\b\b\b\b\b\b\b\b\b\b\b\b\b\b\b\b\b\b\b\b\b\b\b\b\b\b\r183/183 [==============================] - 374s 2s/step - loss: 0.1709 - accuracy: 0.9350 - val_loss: 0.0201 - val_accuracy: 0.9956\n",
            "Epoch 2/5\n",
            "183/183 [==============================] - ETA: 0s - loss: 0.0572 - accuracy: 0.9704"
          ]
        },
        {
          "output_type": "stream",
          "name": "stderr",
          "text": [
            "WARNING:tensorflow:Early stopping conditioned on metric `val_acc` which is not available. Available metrics are: loss,accuracy,val_loss,val_accuracy\n",
            "WARNING:tensorflow:Can save best model only with val_acc available, skipping.\n"
          ]
        },
        {
          "output_type": "stream",
          "name": "stdout",
          "text": [
            "\b\b\b\b\b\b\b\b\b\b\b\b\b\b\b\b\b\b\b\b\b\b\b\b\b\b\b\b\b\b\b\b\b\b\b\b\b\b\b\b\b\b\b\b\b\b\b\b\b\b\b\b\b\b\b\b\b\b\b\b\b\b\b\b\b\b\b\b\b\b\b\b\b\b\b\b\b\b\b\b\b\b\b\b\r183/183 [==============================] - 260s 1s/step - loss: 0.0572 - accuracy: 0.9704 - val_loss: 0.0459 - val_accuracy: 0.9613\n",
            "Epoch 3/5\n",
            "183/183 [==============================] - ETA: 0s - loss: 0.1454 - accuracy: 0.9677"
          ]
        },
        {
          "output_type": "stream",
          "name": "stderr",
          "text": [
            "WARNING:tensorflow:Early stopping conditioned on metric `val_acc` which is not available. Available metrics are: loss,accuracy,val_loss,val_accuracy\n",
            "WARNING:tensorflow:Can save best model only with val_acc available, skipping.\n"
          ]
        },
        {
          "output_type": "stream",
          "name": "stdout",
          "text": [
            "\b\b\b\b\b\b\b\b\b\b\b\b\b\b\b\b\b\b\b\b\b\b\b\b\b\b\b\b\b\b\b\b\b\b\b\b\b\b\b\b\b\b\b\b\b\b\b\b\b\b\b\b\b\b\b\b\b\b\b\b\b\b\b\b\b\b\b\b\b\b\b\b\b\b\b\b\b\b\b\b\b\b\b\b\r183/183 [==============================] - 258s 1s/step - loss: 0.1454 - accuracy: 0.9677 - val_loss: 0.2445 - val_accuracy: 0.9360\n",
            "Epoch 4/5\n",
            "183/183 [==============================] - ETA: 0s - loss: 0.0711 - accuracy: 0.9659"
          ]
        },
        {
          "output_type": "stream",
          "name": "stderr",
          "text": [
            "WARNING:tensorflow:Early stopping conditioned on metric `val_acc` which is not available. Available metrics are: loss,accuracy,val_loss,val_accuracy\n",
            "WARNING:tensorflow:Can save best model only with val_acc available, skipping.\n"
          ]
        },
        {
          "output_type": "stream",
          "name": "stdout",
          "text": [
            "\b\b\b\b\b\b\b\b\b\b\b\b\b\b\b\b\b\b\b\b\b\b\b\b\b\b\b\b\b\b\b\b\b\b\b\b\b\b\b\b\b\b\b\b\b\b\b\b\b\b\b\b\b\b\b\b\b\b\b\b\b\b\b\b\b\b\b\b\b\b\b\b\b\b\b\b\b\b\b\b\b\b\b\b\r183/183 [==============================] - 253s 1s/step - loss: 0.0711 - accuracy: 0.9659 - val_loss: 0.0456 - val_accuracy: 0.9728\n",
            "Epoch 5/5\n",
            "183/183 [==============================] - ETA: 0s - loss: 0.1103 - accuracy: 0.9693"
          ]
        },
        {
          "output_type": "stream",
          "name": "stderr",
          "text": [
            "WARNING:tensorflow:Early stopping conditioned on metric `val_acc` which is not available. Available metrics are: loss,accuracy,val_loss,val_accuracy\n",
            "WARNING:tensorflow:Can save best model only with val_acc available, skipping.\n"
          ]
        },
        {
          "output_type": "stream",
          "name": "stdout",
          "text": [
            "\b\b\b\b\b\b\b\b\b\b\b\b\b\b\b\b\b\b\b\b\b\b\b\b\b\b\b\b\b\b\b\b\b\b\b\b\b\b\b\b\b\b\b\b\b\b\b\b\b\b\b\b\b\b\b\b\b\b\b\b\b\b\b\b\b\b\b\b\b\b\b\b\b\b\b\b\b\b\b\b\b\b\b\b\r183/183 [==============================] - 252s 1s/step - loss: 0.1103 - accuracy: 0.9693 - val_loss: 0.0443 - val_accuracy: 0.9755\n"
          ]
        },
        {
          "output_type": "display_data",
          "data": {
            "text/plain": [
              "<Figure size 640x480 with 1 Axes>"
            ],
            "image/png": "[encoded data removed]"
          },
          "metadata": {}
        },
        {
          "output_type": "display_data",
          "data": {
            "text/plain": [
              "<Figure size 640x480 with 1 Axes>"
            ],
            "image/png": "[encoded data removed]"
          },
          "metadata": {}
        }
      ],
      "source": [
        "cnn_by_own(input_shape=INPUT_SIZE,num_class=5,epochs=5)\n",
        "history_this.loss_plot('epoch')\n",
        "history_this.loss_plot('batch')\n",
        "plt.show()"
      ]
    },
    {
      "cell_type": "markdown",
      "source": [
        "## Model 2: Xception\n"
      ],
      "metadata": {
        "id": "JIxZVCUZGnUC"
      }
    },
    {
      "cell_type": "code",
      "execution_count": null,
      "metadata": {
        "id": "xaMMeHtfAXXT"
      },
      "outputs": [],
      "source": [
        "def xception( num_class, epochs,savepath='./xception.h5',history=history_this,input_shape=INPUT_SIZE):\n",
        "    model_fine_tune = Xception(include_top=False, weights='imagenet', input_shape=input_shape)\n",
        "    for layer in model_fine_tune.layers[:131]:\t\t#could be tuned to be 50, 100, or 131\n",
        "        layer.trainable = False\n",
        "    for layer in model_fine_tune.layers[131:]:\n",
        "        layer.trainable = True\n",
        "    model = GlobalAveragePooling2D()(model_fine_tune.output)\n",
        "    model=Dense(units=256,activation='relu')(model)\n",
        "    model=Dropout(0.5)(model)\n",
        "    model = Dense(num_class, activation='softmax')(model)\n",
        "    model = Model(model_fine_tune.input, model, name='xception')\n",
        "    opt = keras.optimizers.Adam(lr=0.001, beta_1=0.9, beta_2=0.999, epsilon=1e-08)\n",
        "    model.compile(loss='categorical_crossentropy', optimizer=opt, metrics=['accuracy'])\n",
        "    #train model\n",
        "    earlyStopping = kcallbacks.EarlyStopping(\n",
        "        monitor='val_acc', patience=3, verbose=1, mode='auto')\t#patience could be tuned by 2 and 3\n",
        "    saveBestModel = kcallbacks.ModelCheckpoint(\n",
        "        filepath=savepath,\n",
        "        monitor='val_acc',\n",
        "        verbose=1,\n",
        "        save_best_only=True,\n",
        "        mode='auto')\n",
        "    hist = model.fit_generator(\n",
        "        train_generator,\n",
        "        steps_per_epoch=len(train_generator),\n",
        "        epochs=epochs,\n",
        "        validation_data=validation_generator,\n",
        "        validation_steps=len(validation_generator),\n",
        "        #use_multiprocessing=True,\n",
        "        callbacks=[earlyStopping, saveBestModel, history],\n",
        "    )"
      ]
    },
    {
      "cell_type": "code",
      "source": [
        "#default only 50, tf36cnn 99\n",
        "xception(num_class=5,epochs=5)\n",
        "history_this.loss_plot('epoch')\n",
        "history_this.loss_plot('batch')\n",
        "plt.show()"
      ],
      "metadata": {
        "colab": {
          "base_uri": "https://localhost:8080/",
          "height": 1000
        },
        "id": "Q94oULBUGxOR",
        "outputId": "4c426a73-e36e-4d01-c02d-ea4d95b4b051"
      },
      "execution_count": null,
      "outputs": [
        {
          "output_type": "stream",
          "name": "stdout",
          "text": [
            "Downloading data from https://storage.googleapis.com/tensorflow/keras-applications/xception/xception_weights_tf_dim_ordering_tf_kernels_notop.h5\n",
            "83683744/83683744 [==============================] - 0s 0us/step\n"
          ]
        },
        {
          "output_type": "stream",
          "name": "stderr",
          "text": [
            "WARNING:absl:`lr` is deprecated in Keras optimizer, please use `learning_rate` or use the legacy optimizer, e.g.,tf.keras.optimizers.legacy.Adam.\n"
          ]
        },
        {
          "output_type": "stream",
          "name": "stdout",
          "text": [
            "Epoch 1/5\n",
            "183/183 [==============================] - ETA: 0s - loss: 0.0299 - accuracy: 0.9909"
          ]
        },
        {
          "output_type": "stream",
          "name": "stderr",
          "text": [
            "WARNING:tensorflow:Early stopping conditioned on metric `val_acc` which is not available. Available metrics are: loss,accuracy,val_loss,val_accuracy\n",
            "WARNING:tensorflow:Can save best model only with val_acc available, skipping.\n"
          ]
        },
        {
          "output_type": "stream",
          "name": "stdout",
          "text": [
            "\b\b\b\b\b\b\b\b\b\b\b\b\b\b\b\b\b\b\b\b\b\b\b\b\b\b\b\b\b\b\b\b\b\b\b\b\b\b\b\b\b\b\b\b\b\b\b\b\b\b\b\b\b\b\b\b\b\b\b\b\b\b\b\b\b\b\b\b\b\b\b\b\b\b\b\b\b\b\b\b\b\b\b\b\r183/183 [==============================] - 167s 829ms/step - loss: 0.0299 - accuracy: 0.9909 - val_loss: 1.8360e-04 - val_accuracy: 1.0000\n",
            "Epoch 2/5\n",
            "183/183 [==============================] - ETA: 0s - loss: 3.7231e-04 - accuracy: 1.0000"
          ]
        },
        {
          "output_type": "stream",
          "name": "stderr",
          "text": [
            "WARNING:tensorflow:Early stopping conditioned on metric `val_acc` which is not available. Available metrics are: loss,accuracy,val_loss,val_accuracy\n",
            "WARNING:tensorflow:Can save best model only with val_acc available, skipping.\n"
          ]
        },
        {
          "output_type": "stream",
          "name": "stdout",
          "text": [
            "\b\b\b\b\b\b\b\b\b\b\b\b\b\b\b\b\b\b\b\b\b\b\b\b\b\b\b\b\b\b\b\b\b\b\b\b\b\b\b\b\b\b\b\b\b\b\b\b\b\b\b\b\b\b\b\b\b\b\b\b\b\b\b\b\b\b\b\b\b\b\b\b\b\b\b\b\b\b\b\b\b\b\b\b\b\b\b\b\r183/183 [==============================] - 131s 715ms/step - loss: 3.7231e-04 - accuracy: 1.0000 - val_loss: 6.7574e-05 - val_accuracy: 1.0000\n",
            "Epoch 3/5\n",
            "183/183 [==============================] - ETA: 0s - loss: 2.1103e-04 - accuracy: 1.0000"
          ]
        },
        {
          "output_type": "stream",
          "name": "stderr",
          "text": [
            "WARNING:tensorflow:Early stopping conditioned on metric `val_acc` which is not available. Available metrics are: loss,accuracy,val_loss,val_accuracy\n",
            "WARNING:tensorflow:Can save best model only with val_acc available, skipping.\n"
          ]
        },
        {
          "output_type": "stream",
          "name": "stdout",
          "text": [
            "\b\b\b\b\b\b\b\b\b\b\b\b\b\b\b\b\b\b\b\b\b\b\b\b\b\b\b\b\b\b\b\b\b\b\b\b\b\b\b\b\b\b\b\b\b\b\b\b\b\b\b\b\b\b\b\b\b\b\b\b\b\b\b\b\b\b\b\b\b\b\b\b\b\b\b\b\b\b\b\b\b\b\b\b\b\b\b\b\r183/183 [==============================] - 144s 783ms/step - loss: 2.1103e-04 - accuracy: 1.0000 - val_loss: 2.0096e-05 - val_accuracy: 1.0000\n",
            "Epoch 4/5\n",
            "183/183 [==============================] - ETA: 0s - loss: 7.9914e-05 - accuracy: 1.0000"
          ]
        },
        {
          "output_type": "stream",
          "name": "stderr",
          "text": [
            "WARNING:tensorflow:Early stopping conditioned on metric `val_acc` which is not available. Available metrics are: loss,accuracy,val_loss,val_accuracy\n",
            "WARNING:tensorflow:Can save best model only with val_acc available, skipping.\n"
          ]
        },
        {
          "output_type": "stream",
          "name": "stdout",
          "text": [
            "\b\b\b\b\b\b\b\b\b\b\b\b\b\b\b\b\b\b\b\b\b\b\b\b\b\b\b\b\b\b\b\b\b\b\b\b\b\b\b\b\b\b\b\b\b\b\b\b\b\b\b\b\b\b\b\b\b\b\b\b\b\b\b\b\b\b\b\b\b\b\b\b\b\b\b\b\b\b\b\b\b\b\b\b\b\b\b\b\r183/183 [==============================] - 128s 699ms/step - loss: 7.9914e-05 - accuracy: 1.0000 - val_loss: 1.2076e-05 - val_accuracy: 1.0000\n",
            "Epoch 5/5\n",
            "183/183 [==============================] - ETA: 0s - loss: 5.2211e-05 - accuracy: 1.0000"
          ]
        },
        {
          "output_type": "stream",
          "name": "stderr",
          "text": [
            "WARNING:tensorflow:Early stopping conditioned on metric `val_acc` which is not available. Available metrics are: loss,accuracy,val_loss,val_accuracy\n",
            "WARNING:tensorflow:Can save best model only with val_acc available, skipping.\n"
          ]
        },
        {
          "output_type": "stream",
          "name": "stdout",
          "text": [
            "\b\b\b\b\b\b\b\b\b\b\b\b\b\b\b\b\b\b\b\b\b\b\b\b\b\b\b\b\b\b\b\b\b\b\b\b\b\b\b\b\b\b\b\b\b\b\b\b\b\b\b\b\b\b\b\b\b\b\b\b\b\b\b\b\b\b\b\b\b\b\b\b\b\b\b\b\b\b\b\b\b\b\b\b\b\b\b\b\r183/183 [==============================] - 136s 741ms/step - loss: 5.2211e-05 - accuracy: 1.0000 - val_loss: 6.9820e-06 - val_accuracy: 1.0000\n"
          ]
        },
        {
          "output_type": "display_data",
          "data": {
            "text/plain": [
              "<Figure size 640x480 with 1 Axes>"
            ],
            "image/png": "[encoded data removed]"
          },
          "metadata": {}
        },
        {
          "output_type": "display_data",
          "data": {
            "text/plain": [
              "<Figure size 640x480 with 1 Axes>"
            ],
            "image/png": "[encoded data removed]"
          },
          "metadata": {}
        }
      ]
    },
    {
      "cell_type": "markdown",
      "source": [
        "## Model 3: VGG16\n",
        "![image.png](data:image/png;base64,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)"
      ],
      "metadata": {
        "id": "V0IB-014Gxpn"
      }
    },
    {
      "cell_type": "code",
      "source": [
        "def vgg16( num_class, epochs,savepath='./VGG16.h5',history=history_this,input_shape=INPUT_SIZE):\n",
        "    model_fine_tune = VGG16(include_top=False, weights='imagenet', input_shape=input_shape)\n",
        "    print(model_fine_tune.summary())\n",
        "    for layer in model_fine_tune.layers[:15]:\t#the number of frozen layers for transfer learning, have tuned from 5-18\n",
        "        layer.trainable = False\n",
        "    for layer in model_fine_tune.layers[15:]:\n",
        "        layer.trainable = True\n",
        "    model = GlobalAveragePooling2D()(model_fine_tune.output) #GlobalAveragePooling2D layer to convert the features to a single 1280-element vector per image\n",
        "    model=Dense(units=256,activation='relu')(model)\n",
        "    model=Dropout(0.5)(model)\n",
        "    model = Dense(num_class, activation='softmax')(model)\n",
        "    model = Model(model_fine_tune.input, model, name='vgg')\n",
        "    opt = keras.optimizers.Adam(lr=0.001, beta_1=0.9, beta_2=0.999, epsilon=1e-08)\t#tuned learning rate to be 0.001\n",
        "    model.compile(loss='categorical_crossentropy', optimizer=opt, metrics=['accuracy'])\t#set the loss function to be binary crossentropy\n",
        "    #train model\n",
        "    earlyStopping = kcallbacks.EarlyStopping(\n",
        "        monitor='val_acc', patience=2, verbose=1, mode='auto')\t#set early stop patience to save training time\n",
        "    saveBestModel = kcallbacks.ModelCheckpoint(\n",
        "        filepath=savepath,\n",
        "        monitor='val_acc',\n",
        "        verbose=1,\n",
        "        save_best_only=True,\n",
        "        mode='auto')\n",
        "    hist = model.fit_generator(\n",
        "        train_generator,\n",
        "        steps_per_epoch=len(train_generator),\n",
        "        epochs=epochs,\n",
        "        validation_data=validation_generator,\n",
        "        validation_steps=len(validation_generator),\n",
        "        #use_multiprocessing=True,\n",
        "        #workers=2,\n",
        "        callbacks=[earlyStopping, saveBestModel, history],\n",
        "    )"
      ],
      "metadata": {
        "id": "Q28fl246Jfwy"
      },
      "execution_count": null,
      "outputs": []
    },
    {
      "cell_type": "code",
      "source": [
        "vgg16(num_class=5,epochs=5)\t#tf36cnn\n",
        "history_this.loss_plot('epoch')\n",
        "history_this.loss_plot('batch')\n",
        "plt.show()"
      ],
      "metadata": {
        "colab": {
          "base_uri": "https://localhost:8080/",
          "height": 1000
        },
        "id": "d5vpeTGDJiXh",
        "outputId": "45a08991-b025-419a-ede4-e6c56088d019"
      },
      "execution_count": null,
      "outputs": [
        {
          "output_type": "stream",
          "name": "stdout",
          "text": [
            "Downloading data from https://storage.googleapis.com/tensorflow/keras-applications/vgg16/vgg16_weights_tf_dim_ordering_tf_kernels_notop.h5\n",
            "58889256/58889256 [==============================] - 0s 0us/step\n",
            "Model: \"vgg16\"\n",
            "_________________________________________________________________\n",
            " Layer (type)                Output Shape              Param #   \n",
            "=================================================================\n",
            " input_2 (InputLayer)        [(None, 224, 224, 3)]     0         \n",
            "                                                                 \n",
            " block1_conv1 (Conv2D)       (None, 224, 224, 64)      1792      \n",
            "                                                                 \n",
            " block1_conv2 (Conv2D)       (None, 224, 224, 64)      36928     \n",
            "                                                                 \n",
            " block1_pool (MaxPooling2D)  (None, 112, 112, 64)      0         \n",
            "                                                                 \n",
            " block2_conv1 (Conv2D)       (None, 112, 112, 128)     73856     \n",
            "                                                                 \n",
            " block2_conv2 (Conv2D)       (None, 112, 112, 128)     147584    \n",
            "                                                                 \n",
            " block2_pool (MaxPooling2D)  (None, 56, 56, 128)       0         \n",
            "                                                                 \n",
            " block3_conv1 (Conv2D)       (None, 56, 56, 256)       295168    \n",
            "                                                                 \n",
            " block3_conv2 (Conv2D)       (None, 56, 56, 256)       590080    \n",
            "                                                                 \n",
            " block3_conv3 (Conv2D)       (None, 56, 56, 256)       590080    \n",
            "                                                                 \n",
            " block3_pool (MaxPooling2D)  (None, 28, 28, 256)       0         \n",
            "                                                                 \n",
            " block4_conv1 (Conv2D)       (None, 28, 28, 512)       1180160   \n",
            "                                                                 \n",
            " block4_conv2 (Conv2D)       (None, 28, 28, 512)       2359808   \n",
            "                                                                 \n",
            " block4_conv3 (Conv2D)       (None, 28, 28, 512)       2359808   \n",
            "                                                                 \n",
            " block4_pool (MaxPooling2D)  (None, 14, 14, 512)       0         \n",
            "                                                                 \n",
            " block5_conv1 (Conv2D)       (None, 14, 14, 512)       2359808   \n",
            "                                                                 \n",
            " block5_conv2 (Conv2D)       (None, 14, 14, 512)       2359808   \n",
            "                                                                 \n",
            " block5_conv3 (Conv2D)       (None, 14, 14, 512)       2359808   \n",
            "                                                                 \n",
            " block5_pool (MaxPooling2D)  (None, 7, 7, 512)         0         \n",
            "                                                                 \n",
            "=================================================================\n",
            "Total params: 14714688 (56.13 MB)\n",
            "Trainable params: 14714688 (56.13 MB)\n",
            "Non-trainable params: 0 (0.00 Byte)\n",
            "_________________________________________________________________\n"
          ]
        },
        {
          "output_type": "stream",
          "name": "stderr",
          "text": [
            "WARNING:absl:`lr` is deprecated in Keras optimizer, please use `learning_rate` or use the legacy optimizer, e.g.,tf.keras.optimizers.legacy.Adam.\n"
          ]
        },
        {
          "output_type": "stream",
          "name": "stdout",
          "text": [
            "None\n",
            "Epoch 1/5\n",
            "183/183 [==============================] - ETA: 0s - loss: 0.0622 - accuracy: 0.9846"
          ]
        },
        {
          "output_type": "stream",
          "name": "stderr",
          "text": [
            "WARNING:tensorflow:Early stopping conditioned on metric `val_acc` which is not available. Available metrics are: loss,accuracy,val_loss,val_accuracy\n",
            "WARNING:tensorflow:Can save best model only with val_acc available, skipping.\n"
          ]
        },
        {
          "output_type": "stream",
          "name": "stdout",
          "text": [
            "\b\b\b\b\b\b\b\b\b\b\b\b\b\b\b\b\b\b\b\b\b\b\b\b\b\b\b\b\b\b\b\b\b\b\b\b\b\b\b\b\b\b\b\b\b\b\b\b\b\b\b\b\b\b\b\b\b\b\b\b\b\b\b\b\b\b\b\b\b\b\b\b\b\b\b\b\b\b\b\b\b\b\b\b\r183/183 [==============================] - 159s 817ms/step - loss: 0.0622 - accuracy: 0.9846 - val_loss: 1.6316e-10 - val_accuracy: 1.0000\n",
            "Epoch 2/5\n",
            "183/183 [==============================] - ETA: 0s - loss: 0.0012 - accuracy: 0.9995"
          ]
        },
        {
          "output_type": "stream",
          "name": "stderr",
          "text": [
            "WARNING:tensorflow:Early stopping conditioned on metric `val_acc` which is not available. Available metrics are: loss,accuracy,val_loss,val_accuracy\n",
            "WARNING:tensorflow:Can save best model only with val_acc available, skipping.\n"
          ]
        },
        {
          "output_type": "stream",
          "name": "stdout",
          "text": [
            "\b\b\b\b\b\b\b\b\b\b\b\b\b\b\b\b\b\b\b\b\b\b\b\b\b\b\b\b\b\b\b\b\b\b\b\b\b\b\b\b\b\b\b\b\b\b\b\b\b\b\b\b\b\b\b\b\b\b\b\b\b\b\b\b\b\b\b\b\b\b\b\b\b\b\b\b\b\b\b\b\b\b\b\b\r183/183 [==============================] - 140s 763ms/step - loss: 0.0012 - accuracy: 0.9995 - val_loss: 0.5951 - val_accuracy: 0.9608\n",
            "Epoch 3/5\n",
            "183/183 [==============================] - ETA: 0s - loss: 0.0083 - accuracy: 0.9989"
          ]
        },
        {
          "output_type": "stream",
          "name": "stderr",
          "text": [
            "WARNING:tensorflow:Early stopping conditioned on metric `val_acc` which is not available. Available metrics are: loss,accuracy,val_loss,val_accuracy\n",
            "WARNING:tensorflow:Can save best model only with val_acc available, skipping.\n"
          ]
        },
        {
          "output_type": "stream",
          "name": "stdout",
          "text": [
            "\b\b\b\b\b\b\b\b\b\b\b\b\b\b\b\b\b\b\b\b\b\b\b\b\b\b\b\b\b\b\b\b\b\b\b\b\b\b\b\b\b\b\b\b\b\b\b\b\b\b\b\b\b\b\b\b\b\b\b\b\b\b\b\b\b\b\b\b\b\b\b\b\b\b\b\b\b\b\b\b\b\b\b\b\r183/183 [==============================] - 145s 793ms/step - loss: 0.0083 - accuracy: 0.9989 - val_loss: 0.0000e+00 - val_accuracy: 1.0000\n",
            "Epoch 4/5\n",
            "183/183 [==============================] - ETA: 0s - loss: 0.0398 - accuracy: 0.9980"
          ]
        },
        {
          "output_type": "stream",
          "name": "stderr",
          "text": [
            "WARNING:tensorflow:Early stopping conditioned on metric `val_acc` which is not available. Available metrics are: loss,accuracy,val_loss,val_accuracy\n",
            "WARNING:tensorflow:Can save best model only with val_acc available, skipping.\n"
          ]
        },
        {
          "output_type": "stream",
          "name": "stdout",
          "text": [
            "\b\b\b\b\b\b\b\b\b\b\b\b\b\b\b\b\b\b\b\b\b\b\b\b\b\b\b\b\b\b\b\b\b\b\b\b\b\b\b\b\b\b\b\b\b\b\b\b\b\b\b\b\b\b\b\b\b\b\b\b\b\b\b\b\b\b\b\b\b\b\b\b\b\b\b\b\b\b\b\b\b\b\b\b\r183/183 [==============================] - 140s 764ms/step - loss: 0.0398 - accuracy: 0.9980 - val_loss: 8.6963e-08 - val_accuracy: 1.0000\n",
            "Epoch 5/5\n",
            "183/183 [==============================] - ETA: 0s - loss: 0.0728 - accuracy: 0.9988"
          ]
        },
        {
          "output_type": "stream",
          "name": "stderr",
          "text": [
            "WARNING:tensorflow:Early stopping conditioned on metric `val_acc` which is not available. Available metrics are: loss,accuracy,val_loss,val_accuracy\n",
            "WARNING:tensorflow:Can save best model only with val_acc available, skipping.\n"
          ]
        },
        {
          "output_type": "stream",
          "name": "stdout",
          "text": [
            "\b\b\b\b\b\b\b\b\b\b\b\b\b\b\b\b\b\b\b\b\b\b\b\b\b\b\b\b\b\b\b\b\b\b\b\b\b\b\b\b\b\b\b\b\b\b\b\b\b\b\b\b\b\b\b\b\b\b\b\b\b\b\b\b\b\b\b\b\b\b\b\b\b\b\b\b\b\b\b\b\b\b\b\b\r183/183 [==============================] - 139s 759ms/step - loss: 0.0728 - accuracy: 0.9988 - val_loss: 0.0000e+00 - val_accuracy: 1.0000\n"
          ]
        },
        {
          "output_type": "display_data",
          "data": {
            "text/plain": [
              "<Figure size 640x480 with 1 Axes>"
            ],
            "image/png": "[encoded data removed]"
          },
          "metadata": {}
        },
        {
          "output_type": "display_data",
          "data": {
            "text/plain": [
              "<Figure size 640x480 with 1 Axes>"
            ],
            "image/png": "[encoded data removed]"
          },
          "metadata": {}
        }
      ]
    },
    {
      "cell_type": "markdown",
      "source": [
        "## Model 4: VGG19\n"
      ],
      "metadata": {
        "id": "q18-3S5DJkT9"
      }
    },
    {
      "cell_type": "code",
      "source": [
        "def vgg19( num_class, epochs,savepath='./VGG19.h5',history=history_this,input_shape=INPUT_SIZE):\n",
        "    model_fine_tune = VGG19(include_top=False, weights='imagenet', input_shape=input_shape)\n",
        "    for layer in model_fine_tune.layers[:19]:\t#the number of frozen layers for transfer learning, have tuned from 5-18\n",
        "        layer.trainable = False\n",
        "    for layer in model_fine_tune.layers[19:]:\n",
        "        layer.trainable = True\n",
        "    model = GlobalAveragePooling2D()(model_fine_tune.output)\n",
        "    model=Dense(units=256,activation='relu')(model)\n",
        "    model=Dropout(0.5)(model)\n",
        "    model = Dense(num_class, activation='softmax')(model)\n",
        "    model = Model(model_fine_tune.input, model, name='vgg')\n",
        "    opt = keras.optimizers.Adam(lr=0.001, beta_1=0.9, beta_2=0.999, epsilon=1e-08)\t#tuned learning rate to be 0.001\n",
        "    model.compile(loss='categorical_crossentropy', optimizer=opt, metrics=['accuracy'])\t#set the loss function to be binary crossentropy\n",
        "    #train model\n",
        "    earlyStopping = kcallbacks.EarlyStopping(\n",
        "        monitor='val_acc', patience=2, verbose=1, mode='auto')\t#set early stop patience to save training time\n",
        "    saveBestModel = kcallbacks.ModelCheckpoint(\n",
        "        filepath=savepath,\n",
        "        monitor='val_acc',\n",
        "        verbose=1,\n",
        "        save_best_only=True,\n",
        "        mode='auto')\n",
        "    hist = model.fit_generator(\n",
        "        train_generator,\n",
        "        steps_per_epoch=len(train_generator),\n",
        "        epochs=epochs,\n",
        "        validation_data=validation_generator,\n",
        "        validation_steps=len(validation_generator),\n",
        "        #use_multiprocessing=True,\n",
        "        #workers=2,\n",
        "        callbacks=[earlyStopping, saveBestModel, history],\n",
        "    )"
      ],
      "metadata": {
        "id": "zoMpGl9FJmkQ"
      },
      "execution_count": null,
      "outputs": []
    },
    {
      "cell_type": "code",
      "source": [
        "vgg19(num_class=5,epochs=5)\t#binary classificaiton\n",
        "history_this.loss_plot('epoch')\n",
        "history_this.loss_plot('batch')\n",
        "plt.show()"
      ],
      "metadata": {
        "colab": {
          "base_uri": "https://localhost:8080/",
          "height": 1000
        },
        "id": "HVvwSJbKJpoI",
        "outputId": "ddc2baf8-efc5-4564-a3ad-3fc4a226eac8"
      },
      "execution_count": null,
      "outputs": [
        {
          "output_type": "stream",
          "name": "stdout",
          "text": [
            "Downloading data from https://storage.googleapis.com/tensorflow/keras-applications/vgg19/vgg19_weights_tf_dim_ordering_tf_kernels_notop.h5\n",
            "80134624/80134624 [==============================] - 1s 0us/step\n"
          ]
        },
        {
          "output_type": "stream",
          "name": "stderr",
          "text": [
            "WARNING:absl:`lr` is deprecated in Keras optimizer, please use `learning_rate` or use the legacy optimizer, e.g.,tf.keras.optimizers.legacy.Adam.\n"
          ]
        },
        {
          "output_type": "stream",
          "name": "stdout",
          "text": [
            "Epoch 1/5\n",
            "183/183 [==============================] - ETA: 0s - loss: 0.0328 - accuracy: 0.9901"
          ]
        },
        {
          "output_type": "stream",
          "name": "stderr",
          "text": [
            "WARNING:tensorflow:Early stopping conditioned on metric `val_acc` which is not available. Available metrics are: loss,accuracy,val_loss,val_accuracy\n",
            "WARNING:tensorflow:Can save best model only with val_acc available, skipping.\n"
          ]
        },
        {
          "output_type": "stream",
          "name": "stdout",
          "text": [
            "\b\b\b\b\b\b\b\b\b\b\b\b\b\b\b\b\b\b\b\b\b\b\b\b\b\b\b\b\b\b\b\b\b\b\b\b\b\b\b\b\b\b\b\b\b\b\b\b\b\b\b\b\b\b\b\b\b\b\b\b\b\b\b\b\b\b\b\b\b\b\b\b\b\b\b\b\b\b\b\b\b\b\b\b\r183/183 [==============================] - 176s 952ms/step - loss: 0.0328 - accuracy: 0.9901 - val_loss: 2.4884e-06 - val_accuracy: 1.0000\n",
            "Epoch 2/5\n",
            "183/183 [==============================] - ETA: 0s - loss: 7.5006e-05 - accuracy: 1.0000"
          ]
        },
        {
          "output_type": "stream",
          "name": "stderr",
          "text": [
            "WARNING:tensorflow:Early stopping conditioned on metric `val_acc` which is not available. Available metrics are: loss,accuracy,val_loss,val_accuracy\n",
            "WARNING:tensorflow:Can save best model only with val_acc available, skipping.\n"
          ]
        },
        {
          "output_type": "stream",
          "name": "stdout",
          "text": [
            "\b\b\b\b\b\b\b\b\b\b\b\b\b\b\b\b\b\b\b\b\b\b\b\b\b\b\b\b\b\b\b\b\b\b\b\b\b\b\b\b\b\b\b\b\b\b\b\b\b\b\b\b\b\b\b\b\b\b\b\b\b\b\b\b\b\b\b\b\b\b\b\b\b\b\b\b\b\b\b\b\b\b\b\b\b\b\b\b\r183/183 [==============================] - 164s 895ms/step - loss: 7.5006e-05 - accuracy: 1.0000 - val_loss: 1.6316e-10 - val_accuracy: 1.0000\n",
            "Epoch 3/5\n",
            "183/183 [==============================] - ETA: 0s - loss: 5.4880e-07 - accuracy: 1.0000"
          ]
        },
        {
          "output_type": "stream",
          "name": "stderr",
          "text": [
            "WARNING:tensorflow:Early stopping conditioned on metric `val_acc` which is not available. Available metrics are: loss,accuracy,val_loss,val_accuracy\n",
            "WARNING:tensorflow:Can save best model only with val_acc available, skipping.\n"
          ]
        },
        {
          "output_type": "stream",
          "name": "stdout",
          "text": [
            "\b\b\b\b\b\b\b\b\b\b\b\b\b\b\b\b\b\b\b\b\b\b\b\b\b\b\b\b\b\b\b\b\b\b\b\b\b\b\b\b\b\b\b\b\b\b\b\b\b\b\b\b\b\b\b\b\b\b\b\b\b\b\b\b\b\b\b\b\b\b\b\b\b\b\b\b\b\b\b\b\b\b\b\b\b\b\b\b\r183/183 [==============================] - 175s 954ms/step - loss: 5.4880e-07 - accuracy: 1.0000 - val_loss: 0.0000e+00 - val_accuracy: 1.0000\n",
            "Epoch 4/5\n",
            "183/183 [==============================] - ETA: 0s - loss: 1.1176e-07 - accuracy: 1.0000"
          ]
        },
        {
          "output_type": "stream",
          "name": "stderr",
          "text": [
            "WARNING:tensorflow:Early stopping conditioned on metric `val_acc` which is not available. Available metrics are: loss,accuracy,val_loss,val_accuracy\n",
            "WARNING:tensorflow:Can save best model only with val_acc available, skipping.\n"
          ]
        },
        {
          "output_type": "stream",
          "name": "stdout",
          "text": [
            "\b\b\b\b\b\b\b\b\b\b\b\b\b\b\b\b\b\b\b\b\b\b\b\b\b\b\b\b\b\b\b\b\b\b\b\b\b\b\b\b\b\b\b\b\b\b\b\b\b\b\b\b\b\b\b\b\b\b\b\b\b\b\b\b\b\b\b\b\b\b\b\b\b\b\b\b\b\b\b\b\b\b\b\b\b\b\b\b\r183/183 [==============================] - 166s 907ms/step - loss: 1.1176e-07 - accuracy: 1.0000 - val_loss: 0.0000e+00 - val_accuracy: 1.0000\n",
            "Epoch 5/5\n",
            "183/183 [==============================] - ETA: 0s - loss: 1.2478e-07 - accuracy: 1.0000"
          ]
        },
        {
          "output_type": "stream",
          "name": "stderr",
          "text": [
            "WARNING:tensorflow:Early stopping conditioned on metric `val_acc` which is not available. Available metrics are: loss,accuracy,val_loss,val_accuracy\n",
            "WARNING:tensorflow:Can save best model only with val_acc available, skipping.\n"
          ]
        },
        {
          "output_type": "stream",
          "name": "stdout",
          "text": [
            "\b\b\b\b\b\b\b\b\b\b\b\b\b\b\b\b\b\b\b\b\b\b\b\b\b\b\b\b\b\b\b\b\b\b\b\b\b\b\b\b\b\b\b\b\b\b\b\b\b\b\b\b\b\b\b\b\b\b\b\b\b\b\b\b\b\b\b\b\b\b\b\b\b\b\b\b\b\b\b\b\b\b\b\b\b\b\b\b\r183/183 [==============================] - 162s 887ms/step - loss: 1.2478e-07 - accuracy: 1.0000 - val_loss: 0.0000e+00 - val_accuracy: 1.0000\n"
          ]
        },
        {
          "output_type": "display_data",
          "data": {
            "text/plain": [
              "<Figure size 640x480 with 1 Axes>"
            ],
            "image/png": "[encoded data removed]"
          },
          "metadata": {}
        },
        {
          "output_type": "display_data",
          "data": {
            "text/plain": [
              "<Figure size 640x480 with 1 Axes>"
            ],
            "image/png": "[encoded data removed]"
          },
          "metadata": {}
        }
      ]
    },
    {
      "cell_type": "markdown",
      "source": [
        "## Model 5: ResNet\n"
      ],
      "metadata": {
        "id": "gDL61GfPJrvI"
      }
    },
    {
      "cell_type": "code",
      "source": [
        "def resnet( num_class, epochs,savepath='./resnet.h5',history=history_this,input_shape=INPUT_SIZE):\n",
        "    model_fine_tune = ResNet50(include_top=False, weights='imagenet', input_shape=input_shape)\n",
        "    for layer in model_fine_tune.layers[:120]:\t#the number of frozen layers for transfer learning, have tuned from 50-150\n",
        "        layer.trainable = False\n",
        "    for layer in model_fine_tune.layers[120:]:\t#the number of trainable layers for transfer learning\n",
        "        layer.trainable = True\n",
        "    model = GlobalAveragePooling2D()(model_fine_tune.output)\n",
        "    model=Dense(units=256,activation='relu')(model)\n",
        "    model=Dropout(0.5)(model)\n",
        "    model = Dense(num_class, activation='softmax')(model)\n",
        "    model = Model(model_fine_tune.input, model, name='resnet')\n",
        "    opt = keras.optimizers.Adam(lr=0.001, beta_1=0.9, beta_2=0.999, epsilon=1e-08)\t#tuned learning rate to be 0.001\n",
        "    model.compile(loss='categorical_crossentropy', optimizer=opt, metrics=['accuracy']) #set the loss function to be binary crossentropy\n",
        "    #train model\n",
        "    earlyStopping = kcallbacks.EarlyStopping(\n",
        "        monitor='val_acc', patience=2, verbose=1, mode='auto')\t#set early stop patience to save training time\n",
        "    saveBestModel = kcallbacks.ModelCheckpoint(\n",
        "        filepath=savepath,\n",
        "        monitor='val_acc',\n",
        "        verbose=1,\n",
        "        save_best_only=True,\n",
        "        mode='auto')\n",
        "    hist = model.fit_generator(\n",
        "        train_generator,\n",
        "        steps_per_epoch=len(train_generator),\n",
        "        epochs=epochs,\n",
        "        validation_data=validation_generator,\n",
        "        validation_steps=len(validation_generator),\n",
        "        #use_multiprocessing=True,\n",
        "        callbacks=[earlyStopping, saveBestModel, history],\n",
        "    )"
      ],
      "metadata": {
        "id": "JqH9oxB-JuAx"
      },
      "execution_count": null,
      "outputs": []
    },
    {
      "cell_type": "code",
      "source": [
        "resnet(num_class=5,epochs=5)\t#binary classificaiton\n",
        "history_this.loss_plot('epoch')\n",
        "history_this.loss_plot('batch')\n",
        "plt.show()"
      ],
      "metadata": {
        "colab": {
          "base_uri": "https://localhost:8080/",
          "height": 1000
        },
        "id": "P9_13lsJJwu3",
        "outputId": "3eea5c12-17e5-453e-ffe8-b05dda74b980"
      },
      "execution_count": null,
      "outputs": [
        {
          "output_type": "stream",
          "name": "stdout",
          "text": [
            "Downloading data from https://storage.googleapis.com/tensorflow/keras-applications/resnet/resnet50_weights_tf_dim_ordering_tf_kernels_notop.h5\n",
            "94765736/94765736 [==============================] - 1s 0us/step\n"
          ]
        },
        {
          "output_type": "stream",
          "name": "stderr",
          "text": [
            "WARNING:absl:`lr` is deprecated in Keras optimizer, please use `learning_rate` or use the legacy optimizer, e.g.,tf.keras.optimizers.legacy.Adam.\n"
          ]
        },
        {
          "output_type": "stream",
          "name": "stdout",
          "text": [
            "Epoch 1/5\n",
            "183/183 [==============================] - ETA: 0s - loss: 0.0919 - accuracy: 0.9722"
          ]
        },
        {
          "output_type": "stream",
          "name": "stderr",
          "text": [
            "WARNING:tensorflow:Early stopping conditioned on metric `val_acc` which is not available. Available metrics are: loss,accuracy,val_loss,val_accuracy\n",
            "WARNING:tensorflow:Can save best model only with val_acc available, skipping.\n"
          ]
        },
        {
          "output_type": "stream",
          "name": "stdout",
          "text": [
            "\b\b\b\b\b\b\b\b\b\b\b\b\b\b\b\b\b\b\b\b\b\b\b\b\b\b\b\b\b\b\b\b\b\b\b\b\b\b\b\b\b\b\b\b\b\b\b\b\b\b\b\b\b\b\b\b\b\b\b\b\b\b\b\b\b\b\b\b\b\b\b\b\b\b\b\b\b\b\b\b\b\b\b\b\r183/183 [==============================] - 194s 912ms/step - loss: 0.0919 - accuracy: 0.9722 - val_loss: 64.8864 - val_accuracy: 0.8582\n",
            "Epoch 2/5\n",
            "183/183 [==============================] - ETA: 0s - loss: 0.0227 - accuracy: 0.9940"
          ]
        },
        {
          "output_type": "stream",
          "name": "stderr",
          "text": [
            "WARNING:tensorflow:Early stopping conditioned on metric `val_acc` which is not available. Available metrics are: loss,accuracy,val_loss,val_accuracy\n",
            "WARNING:tensorflow:Can save best model only with val_acc available, skipping.\n"
          ]
        },
        {
          "output_type": "stream",
          "name": "stdout",
          "text": [
            "\b\b\b\b\b\b\b\b\b\b\b\b\b\b\b\b\b\b\b\b\b\b\b\b\b\b\b\b\b\b\b\b\b\b\b\b\b\b\b\b\b\b\b\b\b\b\b\b\b\b\b\b\b\b\b\b\b\b\b\b\b\b\b\b\b\b\b\b\b\b\b\b\b\b\b\b\b\b\b\b\b\b\b\b\r183/183 [==============================] - 161s 879ms/step - loss: 0.0227 - accuracy: 0.9940 - val_loss: 44108.4297 - val_accuracy: 0.0392\n",
            "Epoch 3/5\n",
            "183/183 [==============================] - ETA: 0s - loss: 0.0066 - accuracy: 0.9982"
          ]
        },
        {
          "output_type": "stream",
          "name": "stderr",
          "text": [
            "WARNING:tensorflow:Early stopping conditioned on metric `val_acc` which is not available. Available metrics are: loss,accuracy,val_loss,val_accuracy\n",
            "WARNING:tensorflow:Can save best model only with val_acc available, skipping.\n"
          ]
        },
        {
          "output_type": "stream",
          "name": "stdout",
          "text": [
            "\b\b\b\b\b\b\b\b\b\b\b\b\b\b\b\b\b\b\b\b\b\b\b\b\b\b\b\b\b\b\b\b\b\b\b\b\b\b\b\b\b\b\b\b\b\b\b\b\b\b\b\b\b\b\b\b\b\b\b\b\b\b\b\b\b\b\b\b\b\b\b\b\b\b\b\b\b\b\b\b\b\b\b\b\r183/183 [==============================] - 142s 776ms/step - loss: 0.0066 - accuracy: 0.9982 - val_loss: 5.0491 - val_accuracy: 0.8951\n",
            "Epoch 4/5\n",
            "183/183 [==============================] - ETA: 0s - loss: 7.6242e-04 - accuracy: 0.9999"
          ]
        },
        {
          "output_type": "stream",
          "name": "stderr",
          "text": [
            "WARNING:tensorflow:Early stopping conditioned on metric `val_acc` which is not available. Available metrics are: loss,accuracy,val_loss,val_accuracy\n",
            "WARNING:tensorflow:Can save best model only with val_acc available, skipping.\n"
          ]
        },
        {
          "output_type": "stream",
          "name": "stdout",
          "text": [
            "\b\b\b\b\b\b\b\b\b\b\b\b\b\b\b\b\b\b\b\b\b\b\b\b\b\b\b\b\b\b\b\b\b\b\b\b\b\b\b\b\b\b\b\b\b\b\b\b\b\b\b\b\b\b\b\b\b\b\b\b\b\b\b\b\b\b\b\b\b\b\b\b\b\b\b\b\b\b\b\b\b\b\b\b\b\b\b\b\r183/183 [==============================] - 141s 772ms/step - loss: 7.6242e-04 - accuracy: 0.9999 - val_loss: 24.7113 - val_accuracy: 0.0647\n",
            "Epoch 5/5\n",
            "183/183 [==============================] - ETA: 0s - loss: 0.0011 - accuracy: 0.9998"
          ]
        },
        {
          "output_type": "stream",
          "name": "stderr",
          "text": [
            "WARNING:tensorflow:Early stopping conditioned on metric `val_acc` which is not available. Available metrics are: loss,accuracy,val_loss,val_accuracy\n",
            "WARNING:tensorflow:Can save best model only with val_acc available, skipping.\n"
          ]
        },
        {
          "output_type": "stream",
          "name": "stdout",
          "text": [
            "\b\b\b\b\b\b\b\b\b\b\b\b\b\b\b\b\b\b\b\b\b\b\b\b\b\b\b\b\b\b\b\b\b\b\b\b\b\b\b\b\b\b\b\b\b\b\b\b\b\b\b\b\b\b\b\b\b\b\b\b\b\b\b\b\b\b\b\b\b\b\b\b\b\b\b\b\b\b\b\b\b\b\b\b\r183/183 [==============================] - 138s 755ms/step - loss: 0.0011 - accuracy: 0.9998 - val_loss: 2.0794 - val_accuracy: 0.8763\n"
          ]
        },
        {
          "output_type": "display_data",
          "data": {
            "text/plain": [
              "<Figure size 640x480 with 1 Axes>"
            ],
            "image/png": "[encoded data removed]"
          },
          "metadata": {}
        },
        {
          "output_type": "display_data",
          "data": {
            "text/plain": [
              "<Figure size 640x480 with 1 Axes>"
            ],
            "image/png": "[encoded data removed]"
          },
          "metadata": {}
        }
      ]
    },
    {
      "cell_type": "markdown",
      "source": [
        "## Model 6: Inception\n"
      ],
      "metadata": {
        "id": "OaDYmKGdJ1Ek"
      }
    },
    {
      "cell_type": "code",
      "source": [
        "def inception( num_class, epochs,savepath='./inception.h5',history=history_this,input_shape=INPUT_SIZE):\n",
        "    model_fine_tune = InceptionV3(include_top=False, weights='imagenet', input_shape=input_shape)\n",
        "    for layer in model_fine_tune.layers[:35]:\t#the number of frozen layers for transfer learning, have tuned from 50-150\n",
        "        layer.trainable = False\n",
        "    for layer in model_fine_tune.layers[35:]:\t#the number of trainable layers for transfer learning\n",
        "        layer.trainable = True\n",
        "    model = GlobalAveragePooling2D()(model_fine_tune.output)\n",
        "    model=Dense(units=256,activation='relu')(model)\n",
        "    model=Dropout(0.5)(model)\n",
        "    model = Dense(num_class, activation='softmax')(model)\n",
        "    model = Model(model_fine_tune.input, model, name='resnet')\n",
        "    opt = keras.optimizers.Adam(lr=0.001, beta_1=0.9, beta_2=0.999, epsilon=1e-08)\t#tuned learning rate to be 0.001\n",
        "    model.compile(loss='categorical_crossentropy', optimizer=opt, metrics=['accuracy']) #set the loss function to be binary crossentropy\n",
        "    #train model\n",
        "    earlyStopping = kcallbacks.EarlyStopping(\n",
        "        monitor='val_acc', patience=2, verbose=1, mode='auto')\t#set early stop patience to save training time\n",
        "    saveBestModel = kcallbacks.ModelCheckpoint(\n",
        "        filepath=savepath,\n",
        "        monitor='val_acc',\n",
        "        verbose=1,\n",
        "        save_best_only=True,\n",
        "        mode='auto')\n",
        "    hist = model.fit_generator(\n",
        "        train_generator,\n",
        "        steps_per_epoch=len(train_generator),\n",
        "        epochs=epochs,\n",
        "        validation_data=validation_generator,\n",
        "        validation_steps=len(validation_generator),\n",
        "        #use_multiprocessing=True,\n",
        "        callbacks=[earlyStopping, saveBestModel, history],\n",
        "    )"
      ],
      "metadata": {
        "id": "m7OQAbpqJ162"
      },
      "execution_count": null,
      "outputs": []
    },
    {
      "cell_type": "code",
      "source": [
        "inception(num_class=5,epochs=5)\t#binary classificaiton\n",
        "history_this.loss_plot('epoch')\n",
        "history_this.loss_plot('batch')\n",
        "plt.show()"
      ],
      "metadata": {
        "colab": {
          "base_uri": "https://localhost:8080/",
          "height": 1000
        },
        "id": "Rc8Ym_dEJ49_",
        "outputId": "4fe0dc04-180b-464a-c6f9-af4989899f30"
      },
      "execution_count": null,
      "outputs": [
        {
          "output_type": "stream",
          "name": "stdout",
          "text": [
            "Downloading data from https://storage.googleapis.com/tensorflow/keras-applications/inception_v3/inception_v3_weights_tf_dim_ordering_tf_kernels_notop.h5\n",
            "87910968/87910968 [==============================] - 0s 0us/step\n"
          ]
        },
        {
          "output_type": "stream",
          "name": "stderr",
          "text": [
            "WARNING:absl:`lr` is deprecated in Keras optimizer, please use `learning_rate` or use the legacy optimizer, e.g.,tf.keras.optimizers.legacy.Adam.\n"
          ]
        },
        {
          "output_type": "stream",
          "name": "stdout",
          "text": [
            "Epoch 1/5\n",
            "183/183 [==============================] - ETA: 0s - loss: 0.0347 - accuracy: 0.9936"
          ]
        },
        {
          "output_type": "stream",
          "name": "stderr",
          "text": [
            "WARNING:tensorflow:Early stopping conditioned on metric `val_acc` which is not available. Available metrics are: loss,accuracy,val_loss,val_accuracy\n",
            "WARNING:tensorflow:Can save best model only with val_acc available, skipping.\n"
          ]
        },
        {
          "output_type": "stream",
          "name": "stdout",
          "text": [
            "\b\b\b\b\b\b\b\b\b\b\b\b\b\b\b\b\b\b\b\b\b\b\b\b\b\b\b\b\b\b\b\b\b\b\b\b\b\b\b\b\b\b\b\b\b\b\b\b\b\b\b\b\b\b\b\b\b\b\b\b\b\b\b\b\b\b\b\b\b\b\b\b\b\b\b\b\b\b\b\b\b\b\b\b\r183/183 [==============================] - 208s 888ms/step - loss: 0.0347 - accuracy: 0.9936 - val_loss: 41.3463 - val_accuracy: 0.1559\n",
            "Epoch 2/5\n",
            "183/183 [==============================] - ETA: 0s - loss: 0.0229 - accuracy: 0.9972"
          ]
        },
        {
          "output_type": "stream",
          "name": "stderr",
          "text": [
            "WARNING:tensorflow:Early stopping conditioned on metric `val_acc` which is not available. Available metrics are: loss,accuracy,val_loss,val_accuracy\n",
            "WARNING:tensorflow:Can save best model only with val_acc available, skipping.\n"
          ]
        },
        {
          "output_type": "stream",
          "name": "stdout",
          "text": [
            "\b\b\b\b\b\b\b\b\b\b\b\b\b\b\b\b\b\b\b\b\b\b\b\b\b\b\b\b\b\b\b\b\b\b\b\b\b\b\b\b\b\b\b\b\b\b\b\b\b\b\b\b\b\b\b\b\b\b\b\b\b\b\b\b\b\b\b\b\b\b\b\b\b\b\b\b\b\b\b\b\b\b\b\b\r183/183 [==============================] - 143s 780ms/step - loss: 0.0229 - accuracy: 0.9972 - val_loss: 2.1843e-06 - val_accuracy: 1.0000\n",
            "Epoch 3/5\n",
            "183/183 [==============================] - ETA: 0s - loss: 0.0031 - accuracy: 0.9993"
          ]
        },
        {
          "output_type": "stream",
          "name": "stderr",
          "text": [
            "WARNING:tensorflow:Early stopping conditioned on metric `val_acc` which is not available. Available metrics are: loss,accuracy,val_loss,val_accuracy\n",
            "WARNING:tensorflow:Can save best model only with val_acc available, skipping.\n"
          ]
        },
        {
          "output_type": "stream",
          "name": "stdout",
          "text": [
            "\b\b\b\b\b\b\b\b\b\b\b\b\b\b\b\b\b\b\b\b\b\b\b\b\b\b\b\b\b\b\b\b\b\b\b\b\b\b\b\b\b\b\b\b\b\b\b\b\b\b\b\b\b\b\b\b\b\b\b\b\b\b\b\b\b\b\b\b\b\b\b\b\b\b\b\b\b\b\b\b\b\b\b\b\r183/183 [==============================] - 145s 789ms/step - loss: 0.0031 - accuracy: 0.9993 - val_loss: 1.0717e-04 - val_accuracy: 1.0000\n",
            "Epoch 4/5\n",
            "183/183 [==============================] - ETA: 0s - loss: 5.3248e-04 - accuracy: 0.9999"
          ]
        },
        {
          "output_type": "stream",
          "name": "stderr",
          "text": [
            "WARNING:tensorflow:Early stopping conditioned on metric `val_acc` which is not available. Available metrics are: loss,accuracy,val_loss,val_accuracy\n",
            "WARNING:tensorflow:Can save best model only with val_acc available, skipping.\n"
          ]
        },
        {
          "output_type": "stream",
          "name": "stdout",
          "text": [
            "\b\b\b\b\b\b\b\b\b\b\b\b\b\b\b\b\b\b\b\b\b\b\b\b\b\b\b\b\b\b\b\b\b\b\b\b\b\b\b\b\b\b\b\b\b\b\b\b\b\b\b\b\b\b\b\b\b\b\b\b\b\b\b\b\b\b\b\b\b\b\b\b\b\b\b\b\b\b\b\b\b\b\b\b\b\b\b\b\r183/183 [==============================] - 143s 779ms/step - loss: 5.3248e-04 - accuracy: 0.9999 - val_loss: 2.0001e-04 - val_accuracy: 1.0000\n",
            "Epoch 5/5\n",
            "183/183 [==============================] - ETA: 0s - loss: 4.9254e-05 - accuracy: 1.0000"
          ]
        },
        {
          "output_type": "stream",
          "name": "stderr",
          "text": [
            "WARNING:tensorflow:Early stopping conditioned on metric `val_acc` which is not available. Available metrics are: loss,accuracy,val_loss,val_accuracy\n",
            "WARNING:tensorflow:Can save best model only with val_acc available, skipping.\n"
          ]
        },
        {
          "output_type": "stream",
          "name": "stdout",
          "text": [
            "\b\b\b\b\b\b\b\b\b\b\b\b\b\b\b\b\b\b\b\b\b\b\b\b\b\b\b\b\b\b\b\b\b\b\b\b\b\b\b\b\b\b\b\b\b\b\b\b\b\b\b\b\b\b\b\b\b\b\b\b\b\b\b\b\b\b\b\b\b\b\b\b\b\b\b\b\b\b\b\b\b\b\b\b\b\b\b\b\r183/183 [==============================] - 143s 779ms/step - loss: 4.9254e-05 - accuracy: 1.0000 - val_loss: 2.2906e-07 - val_accuracy: 1.0000\n"
          ]
        },
        {
          "output_type": "display_data",
          "data": {
            "text/plain": [
              "<Figure size 640x480 with 1 Axes>"
            ],
            "image/png": "[encoded data removed]"
          },
          "metadata": {}
        },
        {
          "output_type": "display_data",
          "data": {
            "text/plain": [
              "<Figure size 640x480 with 1 Axes>"
            ],
            "image/png": "[encoded data removed]"
          },
          "metadata": {}
        }
      ]
    },
    {
      "cell_type": "markdown",
      "source": [
        "##Hyperparameter Optimization\n",
        "\n",
        "Use VGG16 as an example.\n",
        "\n",
        "Tuned hyperparameters of CNN:\n",
        "  - The number of frozen layers\n",
        "  - The number of epochs\n",
        "  - Early stop patience\n",
        "  - Learning rate\n",
        "  - Dropout rate\n",
        "\n",
        "Hyperparameter optimization methods:\n",
        "  - Random search\n",
        "  - Bayesian optimization - Tree Parzen Estimator(BO-TPE)"
      ],
      "metadata": {
        "id": "pP7z0wK9NsVD"
      }
    },
    {
      "cell_type": "code",
      "source": [
        "def vgg16( num_class,epochs=20,frozen=15,lr=0.001,patience=2, dropout_rate=0.5,verbose=0, savepath='./VGG16.h5',history=history_this,input_shape=INPUT_SIZE):\n",
        "    model_fine_tune = VGG16(include_top=False, weights='imagenet', input_shape=input_shape)\n",
        "    for layer in model_fine_tune.layers[:frozen]:\t#the number of frozen layers for transfer learning, have tuned from 5-18\n",
        "        layer.trainable = False\n",
        "    for layer in model_fine_tune.layers[frozen:]:\n",
        "        layer.trainable = True\n",
        "    model = GlobalAveragePooling2D()(model_fine_tune.output)\n",
        "    model=Dense(units=256,activation='relu')(model)\n",
        "    model=Dropout(dropout_rate)(model)\n",
        "    model = Dense(num_class, activation='softmax')(model)\n",
        "    model = Model(model_fine_tune.input, model, name='vgg')\n",
        "    opt = keras.optimizers.Adam(lr=lr, beta_1=0.9, beta_2=0.999, epsilon=1e-08)\t#tuned learning rate to be 0.001\n",
        "    model.compile(loss='categorical_crossentropy', optimizer=opt, metrics=['accuracy'])\t#set the loss function to be binary crossentropy\n",
        "    #train model\n",
        "    earlyStopping = kcallbacks.EarlyStopping(\n",
        "        monitor='val_acc', patience=patience, verbose=verbose, mode='auto')\t#set early stop patience to save training time\n",
        "    saveBestModel = kcallbacks.ModelCheckpoint(\n",
        "        filepath=savepath,\n",
        "        monitor='val_acc',\n",
        "        verbose=verbose,\n",
        "        save_best_only=True,\n",
        "        mode='auto')\n",
        "    hist = model.fit_generator(\n",
        "        train_generator,\n",
        "        steps_per_epoch=len(train_generator),\n",
        "        epochs=epochs,\n",
        "        validation_data=validation_generator,\n",
        "        validation_steps=len(validation_generator),\n",
        "        #use_multiprocessing=True,\n",
        "        #workers=2,\n",
        "        callbacks=[earlyStopping, saveBestModel, history],\n",
        "        verbose = verbose\n",
        "    )\n",
        "    return hist"
      ],
      "metadata": {
        "id": "qDso8sq2OCER"
      },
      "execution_count": null,
      "outputs": []
    },
    {
      "cell_type": "code",
      "source": [
        "def prediction(vgg_model):\n",
        "#read images from validation folder\n",
        "    rootdir = './test_224/'\n",
        "    test_laels = []\n",
        "    test_images=[]\n",
        "    for subdir, dirs, files in os.walk(rootdir):\n",
        "        for file in files:\n",
        "            if not (file.endswith(\".jpeg\"))|(file.endswith(\".jpg\"))|(file.endswith(\".png\")):\n",
        "                continue\n",
        "            test_laels.append(subdir.split('/')[-1])\n",
        "            test_images.append(os.path.join(subdir, file))\n",
        "\n",
        "    predict=[]\n",
        "    length=len(test_images)\n",
        "    label=validation_generator.class_indices\n",
        "    label={v: k for k, v in label.items()}\n",
        "    for i in range(length):\n",
        "        inputimg=test_images[i]\n",
        "        test_batch=[]\n",
        "        thisimg=np.array(Image.open(inputimg))/255 #read all the images in validation set\n",
        "        #print(thisimg)\n",
        "        test_shape=(1,)+thisimg.shape\n",
        "        thisimg=thisimg.reshape(test_shape)\n",
        "        vgg_model_batch=vgg_model.predict(thisimg) #use master model to process the input image\n",
        "        #generate result by model 1\n",
        "        prob=vgg_model_batch[0,np.argmax(vgg_model_batch,axis=1)[0]]\n",
        "        res=label[np.argmax(vgg_model_batch,axis=1)[0]]\n",
        "        predict.append(res)\n",
        "    acc=accuracy_score(test_laels,predict)\n",
        "    return acc"
      ],
      "metadata": {
        "id": "KLTpnd9eOGdE"
      },
      "execution_count": null,
      "outputs": []
    },
    {
      "cell_type": "code",
      "source": [
        "#define the objective function to be optimized\n",
        "import time\n",
        "from hyperopt import hp, fmin, tpe, rand, STATUS_OK, Trials\n",
        "import matplotlib.pyplot as plt\n",
        "import statistics\n",
        "\n",
        "def objective(params):\n",
        "\n",
        "    params = {\n",
        "        'frozen': int(params['frozen']),\n",
        "        'epochs': int(params['epochs']),\n",
        "        'patience': int(params['patience']),\n",
        "        'lr': abs(float(params['lr'])),\n",
        "        'dropout_rate': abs(float(params['dropout_rate'])),\n",
        "    }\n",
        "    frozen=params['frozen']\n",
        "    epochs=params['epochs']\n",
        "    patience=params['patience']\n",
        "    lr=params['lr']\n",
        "    dropout_rate=params['dropout_rate']\n",
        "\n",
        "    vgg16(num_class=5, frozen=frozen,epochs=epochs,patience=patience, lr=lr, dropout_rate=dropout_rate)\n",
        "\n",
        "    acc=prediction(vgg_model=load_model('./VGG16.h5'))\n",
        "\n",
        "    print('accuracy:%s'%acc)\n",
        "    return {'loss': -acc, 'status': STATUS_OK }\n"
      ],
      "metadata": {
        "id": "kBVoOzrVOI3J"
      },
      "execution_count": null,
      "outputs": []
    },
    {
      "cell_type": "code",
      "source": [
        "#Hyperparameter optimization by Bayesian optimization - Tree Parzen Estimator\n",
        "space = {\n",
        "    'frozen': hp.quniform('frozen', 15, 18, 1),\n",
        "    'epochs': hp.quniform('epochs', 5, 21, 5),\n",
        "    'patience': hp.quniform('patience', 2, 4, 1),\n",
        "    'lr': hp.quniform('lr', 0.001, 0.006, 0.001),\n",
        "    'dropout_rate': hp.quniform('dropout_rate', 0.3, 0.6, 0.1),\n",
        "}\n",
        "\n",
        "t1=time.time()\n",
        "best = fmin(fn=objective,\n",
        "            space=space,\n",
        "            algo=tpe.suggest,\n",
        "            max_evals=10)\n",
        "print(\"Hyperopt estimated optimum {}\".format(best))\n",
        "t2=time.time()\n",
        "print(\"Time: \"+str(t2-t1))"
      ],
      "metadata": {
        "colab": {
          "base_uri": "https://localhost:8080/",
          "height": 1000
        },
        "id": "qtyceSyFOMOj",
        "outputId": "16636453-33f8-4431-e1ee-904b00d210df"
      },
      "execution_count": null,
      "outputs": [
        {
          "output_type": "stream",
          "name": "stdout",
          "text": [
            "\r  0%|          | 0/10 [00:00<?, ?trial/s, best loss=?]"
          ]
        },
        {
          "output_type": "stream",
          "name": "stderr",
          "text": [
            "WARNING:absl:`lr` is deprecated in Keras optimizer, please use `learning_rate` or use the legacy optimizer, e.g.,tf.keras.optimizers.legacy.Adam.\n",
            "WARNING:tensorflow:Early stopping conditioned on metric `val_acc` which is not available. Available metrics are: loss,accuracy,val_loss,val_accuracy\n",
            "WARNING:tensorflow:Can save best model only with val_acc available, skipping.\n",
            "WARNING:tensorflow:Early stopping conditioned on metric `val_acc` which is not available. Available metrics are: loss,accuracy,val_loss,val_accuracy\n",
            "WARNING:tensorflow:Can save best model only with val_acc available, skipping.\n",
            "WARNING:tensorflow:Early stopping conditioned on metric `val_acc` which is not available. Available metrics are: loss,accuracy,val_loss,val_accuracy\n",
            "WARNING:tensorflow:Can save best model only with val_acc available, skipping.\n",
            "WARNING:tensorflow:Early stopping conditioned on metric `val_acc` which is not available. Available metrics are: loss,accuracy,val_loss,val_accuracy\n",
            "WARNING:tensorflow:Can save best model only with val_acc available, skipping.\n",
            "WARNING:tensorflow:Early stopping conditioned on metric `val_acc` which is not available. Available metrics are: loss,accuracy,val_loss,val_accuracy\n",
            "WARNING:tensorflow:Can save best model only with val_acc available, skipping.\n",
            "WARNING:tensorflow:Early stopping conditioned on metric `val_acc` which is not available. Available metrics are: loss,accuracy,val_loss,val_accuracy\n",
            "WARNING:tensorflow:Can save best model only with val_acc available, skipping.\n",
            "WARNING:tensorflow:Early stopping conditioned on metric `val_acc` which is not available. Available metrics are: loss,accuracy,val_loss,val_accuracy\n",
            "WARNING:tensorflow:Can save best model only with val_acc available, skipping.\n",
            "WARNING:tensorflow:Early stopping conditioned on metric `val_acc` which is not available. Available metrics are: loss,accuracy,val_loss,val_accuracy\n",
            "WARNING:tensorflow:Can save best model only with val_acc available, skipping.\n",
            "WARNING:tensorflow:Early stopping conditioned on metric `val_acc` which is not available. Available metrics are: loss,accuracy,val_loss,val_accuracy\n",
            "WARNING:tensorflow:Can save best model only with val_acc available, skipping.\n",
            "WARNING:tensorflow:Early stopping conditioned on metric `val_acc` which is not available. Available metrics are: loss,accuracy,val_loss,val_accuracy\n",
            "WARNING:tensorflow:Can save best model only with val_acc available, skipping.\n",
            "WARNING:tensorflow:Early stopping conditioned on metric `val_acc` which is not available. Available metrics are: loss,accuracy,val_loss,val_accuracy\n",
            "WARNING:tensorflow:Can save best model only with val_acc available, skipping.\n",
            "WARNING:tensorflow:Early stopping conditioned on metric `val_acc` which is not available. Available metrics are: loss,accuracy,val_loss,val_accuracy\n",
            "WARNING:tensorflow:Can save best model only with val_acc available, skipping.\n",
            "WARNING:tensorflow:Early stopping conditioned on metric `val_acc` which is not available. Available metrics are: loss,accuracy,val_loss,val_accuracy\n",
            "WARNING:tensorflow:Can save best model only with val_acc available, skipping.\n",
            "WARNING:tensorflow:Early stopping conditioned on metric `val_acc` which is not available. Available metrics are: loss,accuracy,val_loss,val_accuracy\n",
            "WARNING:tensorflow:Can save best model only with val_acc available, skipping.\n",
            "WARNING:tensorflow:Early stopping conditioned on metric `val_acc` which is not available. Available metrics are: loss,accuracy,val_loss,val_accuracy\n",
            "WARNING:tensorflow:Can save best model only with val_acc available, skipping.\n",
            "WARNING:tensorflow:Early stopping conditioned on metric `val_acc` which is not available. Available metrics are: loss,accuracy,val_loss,val_accuracy\n",
            "WARNING:tensorflow:Can save best model only with val_acc available, skipping.\n",
            "WARNING:tensorflow:Early stopping conditioned on metric `val_acc` which is not available. Available metrics are: loss,accuracy,val_loss,val_accuracy\n",
            "WARNING:tensorflow:Can save best model only with val_acc available, skipping.\n",
            "WARNING:tensorflow:Early stopping conditioned on metric `val_acc` which is not available. Available metrics are: loss,accuracy,val_loss,val_accuracy\n",
            "WARNING:tensorflow:Can save best model only with val_acc available, skipping.\n",
            "WARNING:tensorflow:Early stopping conditioned on metric `val_acc` which is not available. Available metrics are: loss,accuracy,val_loss,val_accuracy\n",
            "WARNING:tensorflow:Can save best model only with val_acc available, skipping.\n",
            "WARNING:tensorflow:Early stopping conditioned on metric `val_acc` which is not available. Available metrics are: loss,accuracy,val_loss,val_accuracy\n",
            "WARNING:tensorflow:Can save best model only with val_acc available, skipping.\n",
            "ERROR:hyperopt.fmin:job exception: No file or directory found at ./VGG16.h5\n"
          ]
        },
        {
          "output_type": "stream",
          "name": "stdout",
          "text": [
            "\r  0%|          | 0/10 [45:05<?, ?trial/s, best loss=?]\n"
          ]
        },
        {
          "output_type": "error",
          "ename": "OSError",
          "evalue": "No file or directory found at ./VGG16.h5",
          "traceback": [
            "\u001b[0;31m---------------------------------------------------------------------------\u001b[0m",
            "\u001b[0;31mOSError\u001b[0m                                   Traceback (most recent call last)",
            "\u001b[0;32m<ipython-input-43-615f45a00780>\u001b[0m in \u001b[0;36m<cell line: 11>\u001b[0;34m()\u001b[0m\n\u001b[1;32m      9\u001b[0m \u001b[0;34m\u001b[0m\u001b[0m\n\u001b[1;32m     10\u001b[0m \u001b[0mt1\u001b[0m\u001b[0;34m=\u001b[0m\u001b[0mtime\u001b[0m\u001b[0;34m.\u001b[0m\u001b[0mtime\u001b[0m\u001b[0;34m(\u001b[0m\u001b[0;34m)\u001b[0m\u001b[0;34m\u001b[0m\u001b[0;34m\u001b[0m\u001b[0m\n\u001b[0;32m---> 11\u001b[0;31m best = fmin(fn=objective,\n\u001b[0m\u001b[1;32m     12\u001b[0m             \u001b[0mspace\u001b[0m\u001b[0;34m=\u001b[0m\u001b[0mspace\u001b[0m\u001b[0;34m,\u001b[0m\u001b[0;34m\u001b[0m\u001b[0;34m\u001b[0m\u001b[0m\n\u001b[1;32m     13\u001b[0m             \u001b[0malgo\u001b[0m\u001b[0;34m=\u001b[0m\u001b[0mtpe\u001b[0m\u001b[0;34m.\u001b[0m\u001b[0msuggest\u001b[0m\u001b[0;34m,\u001b[0m\u001b[0;34m\u001b[0m\u001b[0;34m\u001b[0m\u001b[0m\n",
            "\u001b[0;32m/usr/local/lib/python3.10/dist-packages/hyperopt/fmin.py\u001b[0m in \u001b[0;36mfmin\u001b[0;34m(fn, space, algo, max_evals, timeout, loss_threshold, trials, rstate, allow_trials_fmin, pass_expr_memo_ctrl, catch_eval_exceptions, verbose, return_argmin, points_to_evaluate, max_queue_len, show_progressbar, early_stop_fn, trials_save_file)\u001b[0m\n\u001b[1;32m    584\u001b[0m \u001b[0;34m\u001b[0m\u001b[0m\n\u001b[1;32m    585\u001b[0m     \u001b[0;31m# next line is where the fmin is actually executed\u001b[0m\u001b[0;34m\u001b[0m\u001b[0;34m\u001b[0m\u001b[0m\n\u001b[0;32m--> 586\u001b[0;31m     \u001b[0mrval\u001b[0m\u001b[0;34m.\u001b[0m\u001b[0mexhaust\u001b[0m\u001b[0;34m(\u001b[0m\u001b[0;34m)\u001b[0m\u001b[0;34m\u001b[0m\u001b[0;34m\u001b[0m\u001b[0m\n\u001b[0m\u001b[1;32m    587\u001b[0m \u001b[0;34m\u001b[0m\u001b[0m\n\u001b[1;32m    588\u001b[0m     \u001b[0;32mif\u001b[0m \u001b[0mreturn_argmin\u001b[0m\u001b[0;34m:\u001b[0m\u001b[0;34m\u001b[0m\u001b[0;34m\u001b[0m\u001b[0m\n",
            "\u001b[0;32m/usr/local/lib/python3.10/dist-packages/hyperopt/fmin.py\u001b[0m in \u001b[0;36mexhaust\u001b[0;34m(self)\u001b[0m\n\u001b[1;32m    362\u001b[0m     \u001b[0;32mdef\u001b[0m \u001b[0mexhaust\u001b[0m\u001b[0;34m(\u001b[0m\u001b[0mself\u001b[0m\u001b[0;34m)\u001b[0m\u001b[0;34m:\u001b[0m\u001b[0;34m\u001b[0m\u001b[0;34m\u001b[0m\u001b[0m\n\u001b[1;32m    363\u001b[0m         \u001b[0mn_done\u001b[0m \u001b[0;34m=\u001b[0m \u001b[0mlen\u001b[0m\u001b[0;34m(\u001b[0m\u001b[0mself\u001b[0m\u001b[0;34m.\u001b[0m\u001b[0mtrials\u001b[0m\u001b[0;34m)\u001b[0m\u001b[0;34m\u001b[0m\u001b[0;34m\u001b[0m\u001b[0m\n\u001b[0;32m--> 364\u001b[0;31m         \u001b[0mself\u001b[0m\u001b[0;34m.\u001b[0m\u001b[0mrun\u001b[0m\u001b[0;34m(\u001b[0m\u001b[0mself\u001b[0m\u001b[0;34m.\u001b[0m\u001b[0mmax_evals\u001b[0m \u001b[0;34m-\u001b[0m \u001b[0mn_done\u001b[0m\u001b[0;34m,\u001b[0m \u001b[0mblock_until_done\u001b[0m\u001b[0;34m=\u001b[0m\u001b[0mself\u001b[0m\u001b[0;34m.\u001b[0m\u001b[0masynchronous\u001b[0m\u001b[0;34m)\u001b[0m\u001b[0;34m\u001b[0m\u001b[0;34m\u001b[0m\u001b[0m\n\u001b[0m\u001b[1;32m    365\u001b[0m         \u001b[0mself\u001b[0m\u001b[0;34m.\u001b[0m\u001b[0mtrials\u001b[0m\u001b[0;34m.\u001b[0m\u001b[0mrefresh\u001b[0m\u001b[0;34m(\u001b[0m\u001b[0;34m)\u001b[0m\u001b[0;34m\u001b[0m\u001b[0;34m\u001b[0m\u001b[0m\n\u001b[1;32m    366\u001b[0m         \u001b[0;32mreturn\u001b[0m \u001b[0mself\u001b[0m\u001b[0;34m\u001b[0m\u001b[0;34m\u001b[0m\u001b[0m\n",
            "\u001b[0;32m/usr/local/lib/python3.10/dist-packages/hyperopt/fmin.py\u001b[0m in \u001b[0;36mrun\u001b[0;34m(self, N, block_until_done)\u001b[0m\n\u001b[1;32m    298\u001b[0m                 \u001b[0;32melse\u001b[0m\u001b[0;34m:\u001b[0m\u001b[0;34m\u001b[0m\u001b[0;34m\u001b[0m\u001b[0m\n\u001b[1;32m    299\u001b[0m                     \u001b[0;31m# -- loop over trials and do the jobs directly\u001b[0m\u001b[0;34m\u001b[0m\u001b[0;34m\u001b[0m\u001b[0m\n\u001b[0;32m--> 300\u001b[0;31m                     \u001b[0mself\u001b[0m\u001b[0;34m.\u001b[0m\u001b[0mserial_evaluate\u001b[0m\u001b[0;34m(\u001b[0m\u001b[0;34m)\u001b[0m\u001b[0;34m\u001b[0m\u001b[0;34m\u001b[0m\u001b[0m\n\u001b[0m\u001b[1;32m    301\u001b[0m \u001b[0;34m\u001b[0m\u001b[0m\n\u001b[1;32m    302\u001b[0m                 \u001b[0mself\u001b[0m\u001b[0;34m.\u001b[0m\u001b[0mtrials\u001b[0m\u001b[0;34m.\u001b[0m\u001b[0mrefresh\u001b[0m\u001b[0;34m(\u001b[0m\u001b[0;34m)\u001b[0m\u001b[0;34m\u001b[0m\u001b[0;34m\u001b[0m\u001b[0m\n",
            "\u001b[0;32m/usr/local/lib/python3.10/dist-packages/hyperopt/fmin.py\u001b[0m in \u001b[0;36mserial_evaluate\u001b[0;34m(self, N)\u001b[0m\n\u001b[1;32m    176\u001b[0m                 \u001b[0mctrl\u001b[0m \u001b[0;34m=\u001b[0m \u001b[0mbase\u001b[0m\u001b[0;34m.\u001b[0m\u001b[0mCtrl\u001b[0m\u001b[0;34m(\u001b[0m\u001b[0mself\u001b[0m\u001b[0;34m.\u001b[0m\u001b[0mtrials\u001b[0m\u001b[0;34m,\u001b[0m \u001b[0mcurrent_trial\u001b[0m\u001b[0;34m=\u001b[0m\u001b[0mtrial\u001b[0m\u001b[0;34m)\u001b[0m\u001b[0;34m\u001b[0m\u001b[0;34m\u001b[0m\u001b[0m\n\u001b[1;32m    177\u001b[0m                 \u001b[0;32mtry\u001b[0m\u001b[0;34m:\u001b[0m\u001b[0;34m\u001b[0m\u001b[0;34m\u001b[0m\u001b[0m\n\u001b[0;32m--> 178\u001b[0;31m                     \u001b[0mresult\u001b[0m \u001b[0;34m=\u001b[0m \u001b[0mself\u001b[0m\u001b[0;34m.\u001b[0m\u001b[0mdomain\u001b[0m\u001b[0;34m.\u001b[0m\u001b[0mevaluate\u001b[0m\u001b[0;34m(\u001b[0m\u001b[0mspec\u001b[0m\u001b[0;34m,\u001b[0m \u001b[0mctrl\u001b[0m\u001b[0;34m)\u001b[0m\u001b[0;34m\u001b[0m\u001b[0;34m\u001b[0m\u001b[0m\n\u001b[0m\u001b[1;32m    179\u001b[0m                 \u001b[0;32mexcept\u001b[0m \u001b[0mException\u001b[0m \u001b[0;32mas\u001b[0m \u001b[0me\u001b[0m\u001b[0;34m:\u001b[0m\u001b[0;34m\u001b[0m\u001b[0;34m\u001b[0m\u001b[0m\n\u001b[1;32m    180\u001b[0m                     \u001b[0mlogger\u001b[0m\u001b[0;34m.\u001b[0m\u001b[0merror\u001b[0m\u001b[0;34m(\u001b[0m\u001b[0;34m\"job exception: %s\"\u001b[0m \u001b[0;34m%\u001b[0m \u001b[0mstr\u001b[0m\u001b[0;34m(\u001b[0m\u001b[0me\u001b[0m\u001b[0;34m)\u001b[0m\u001b[0;34m)\u001b[0m\u001b[0;34m\u001b[0m\u001b[0;34m\u001b[0m\u001b[0m\n",
            "\u001b[0;32m/usr/local/lib/python3.10/dist-packages/hyperopt/base.py\u001b[0m in \u001b[0;36mevaluate\u001b[0;34m(self, config, ctrl, attach_attachments)\u001b[0m\n\u001b[1;32m    890\u001b[0m                 \u001b[0mprint_node_on_error\u001b[0m\u001b[0;34m=\u001b[0m\u001b[0mself\u001b[0m\u001b[0;34m.\u001b[0m\u001b[0mrec_eval_print_node_on_error\u001b[0m\u001b[0;34m,\u001b[0m\u001b[0;34m\u001b[0m\u001b[0;34m\u001b[0m\u001b[0m\n\u001b[1;32m    891\u001b[0m             )\n\u001b[0;32m--> 892\u001b[0;31m             \u001b[0mrval\u001b[0m \u001b[0;34m=\u001b[0m \u001b[0mself\u001b[0m\u001b[0;34m.\u001b[0m\u001b[0mfn\u001b[0m\u001b[0;34m(\u001b[0m\u001b[0mpyll_rval\u001b[0m\u001b[0;34m)\u001b[0m\u001b[0;34m\u001b[0m\u001b[0;34m\u001b[0m\u001b[0m\n\u001b[0m\u001b[1;32m    893\u001b[0m \u001b[0;34m\u001b[0m\u001b[0m\n\u001b[1;32m    894\u001b[0m         \u001b[0;32mif\u001b[0m \u001b[0misinstance\u001b[0m\u001b[0;34m(\u001b[0m\u001b[0mrval\u001b[0m\u001b[0;34m,\u001b[0m \u001b[0;34m(\u001b[0m\u001b[0mfloat\u001b[0m\u001b[0;34m,\u001b[0m \u001b[0mint\u001b[0m\u001b[0;34m,\u001b[0m \u001b[0mnp\u001b[0m\u001b[0;34m.\u001b[0m\u001b[0mnumber\u001b[0m\u001b[0;34m)\u001b[0m\u001b[0;34m)\u001b[0m\u001b[0;34m:\u001b[0m\u001b[0;34m\u001b[0m\u001b[0;34m\u001b[0m\u001b[0m\n",
            "\u001b[0;32m<ipython-input-42-69bcbf215939>\u001b[0m in \u001b[0;36mobjective\u001b[0;34m(params)\u001b[0m\n\u001b[1;32m     22\u001b[0m     \u001b[0mvgg16\u001b[0m\u001b[0;34m(\u001b[0m\u001b[0mnum_class\u001b[0m\u001b[0;34m=\u001b[0m\u001b[0;36m5\u001b[0m\u001b[0;34m,\u001b[0m \u001b[0mfrozen\u001b[0m\u001b[0;34m=\u001b[0m\u001b[0mfrozen\u001b[0m\u001b[0;34m,\u001b[0m\u001b[0mepochs\u001b[0m\u001b[0;34m=\u001b[0m\u001b[0mepochs\u001b[0m\u001b[0;34m,\u001b[0m\u001b[0mpatience\u001b[0m\u001b[0;34m=\u001b[0m\u001b[0mpatience\u001b[0m\u001b[0;34m,\u001b[0m \u001b[0mlr\u001b[0m\u001b[0;34m=\u001b[0m\u001b[0mlr\u001b[0m\u001b[0;34m,\u001b[0m \u001b[0mdropout_rate\u001b[0m\u001b[0;34m=\u001b[0m\u001b[0mdropout_rate\u001b[0m\u001b[0;34m)\u001b[0m\u001b[0;34m\u001b[0m\u001b[0;34m\u001b[0m\u001b[0m\n\u001b[1;32m     23\u001b[0m \u001b[0;34m\u001b[0m\u001b[0m\n\u001b[0;32m---> 24\u001b[0;31m     \u001b[0macc\u001b[0m\u001b[0;34m=\u001b[0m\u001b[0mprediction\u001b[0m\u001b[0;34m(\u001b[0m\u001b[0mvgg_model\u001b[0m\u001b[0;34m=\u001b[0m\u001b[0mload_model\u001b[0m\u001b[0;34m(\u001b[0m\u001b[0;34m'./VGG16.h5'\u001b[0m\u001b[0;34m)\u001b[0m\u001b[0;34m)\u001b[0m\u001b[0;34m\u001b[0m\u001b[0;34m\u001b[0m\u001b[0m\n\u001b[0m\u001b[1;32m     25\u001b[0m \u001b[0;34m\u001b[0m\u001b[0m\n\u001b[1;32m     26\u001b[0m     \u001b[0mprint\u001b[0m\u001b[0;34m(\u001b[0m\u001b[0;34m'accuracy:%s'\u001b[0m\u001b[0;34m%\u001b[0m\u001b[0macc\u001b[0m\u001b[0;34m)\u001b[0m\u001b[0;34m\u001b[0m\u001b[0;34m\u001b[0m\u001b[0m\n",
            "\u001b[0;32m/usr/local/lib/python3.10/dist-packages/keras/src/saving/saving_api.py\u001b[0m in \u001b[0;36mload_model\u001b[0;34m(filepath, custom_objects, compile, safe_mode, **kwargs)\u001b[0m\n\u001b[1;32m    260\u001b[0m \u001b[0;34m\u001b[0m\u001b[0m\n\u001b[1;32m    261\u001b[0m     \u001b[0;31m# Legacy case.\u001b[0m\u001b[0;34m\u001b[0m\u001b[0;34m\u001b[0m\u001b[0m\n\u001b[0;32m--> 262\u001b[0;31m     return legacy_sm_saving_lib.load_model(\n\u001b[0m\u001b[1;32m    263\u001b[0m         \u001b[0mfilepath\u001b[0m\u001b[0;34m,\u001b[0m \u001b[0mcustom_objects\u001b[0m\u001b[0;34m=\u001b[0m\u001b[0mcustom_objects\u001b[0m\u001b[0;34m,\u001b[0m \u001b[0mcompile\u001b[0m\u001b[0;34m=\u001b[0m\u001b[0mcompile\u001b[0m\u001b[0;34m,\u001b[0m \u001b[0;34m**\u001b[0m\u001b[0mkwargs\u001b[0m\u001b[0;34m\u001b[0m\u001b[0;34m\u001b[0m\u001b[0m\n\u001b[1;32m    264\u001b[0m     )\n",
            "\u001b[0;32m/usr/local/lib/python3.10/dist-packages/keras/src/utils/traceback_utils.py\u001b[0m in \u001b[0;36merror_handler\u001b[0;34m(*args, **kwargs)\u001b[0m\n\u001b[1;32m     68\u001b[0m             \u001b[0;31m# To get the full stack trace, call:\u001b[0m\u001b[0;34m\u001b[0m\u001b[0;34m\u001b[0m\u001b[0m\n\u001b[1;32m     69\u001b[0m             \u001b[0;31m# `tf.debugging.disable_traceback_filtering()`\u001b[0m\u001b[0;34m\u001b[0m\u001b[0;34m\u001b[0m\u001b[0m\n\u001b[0;32m---> 70\u001b[0;31m             \u001b[0;32mraise\u001b[0m \u001b[0me\u001b[0m\u001b[0;34m.\u001b[0m\u001b[0mwith_traceback\u001b[0m\u001b[0;34m(\u001b[0m\u001b[0mfiltered_tb\u001b[0m\u001b[0;34m)\u001b[0m \u001b[0;32mfrom\u001b[0m \u001b[0;32mNone\u001b[0m\u001b[0;34m\u001b[0m\u001b[0;34m\u001b[0m\u001b[0m\n\u001b[0m\u001b[1;32m     71\u001b[0m         \u001b[0;32mfinally\u001b[0m\u001b[0;34m:\u001b[0m\u001b[0;34m\u001b[0m\u001b[0;34m\u001b[0m\u001b[0m\n\u001b[1;32m     72\u001b[0m             \u001b[0;32mdel\u001b[0m \u001b[0mfiltered_tb\u001b[0m\u001b[0;34m\u001b[0m\u001b[0;34m\u001b[0m\u001b[0m\n",
            "\u001b[0;32m/usr/local/lib/python3.10/dist-packages/keras/src/saving/legacy/save.py\u001b[0m in \u001b[0;36mload_model\u001b[0;34m(filepath, custom_objects, compile, options)\u001b[0m\n\u001b[1;32m    232\u001b[0m                     \u001b[0;32mif\u001b[0m \u001b[0misinstance\u001b[0m\u001b[0;34m(\u001b[0m\u001b[0mfilepath_str\u001b[0m\u001b[0;34m,\u001b[0m \u001b[0mstr\u001b[0m\u001b[0;34m)\u001b[0m\u001b[0;34m:\u001b[0m\u001b[0;34m\u001b[0m\u001b[0;34m\u001b[0m\u001b[0m\n\u001b[1;32m    233\u001b[0m                         \u001b[0;32mif\u001b[0m \u001b[0;32mnot\u001b[0m \u001b[0mtf\u001b[0m\u001b[0;34m.\u001b[0m\u001b[0mio\u001b[0m\u001b[0;34m.\u001b[0m\u001b[0mgfile\u001b[0m\u001b[0;34m.\u001b[0m\u001b[0mexists\u001b[0m\u001b[0;34m(\u001b[0m\u001b[0mfilepath_str\u001b[0m\u001b[0;34m)\u001b[0m\u001b[0;34m:\u001b[0m\u001b[0;34m\u001b[0m\u001b[0;34m\u001b[0m\u001b[0m\n\u001b[0;32m--> 234\u001b[0;31m                             raise IOError(\n\u001b[0m\u001b[1;32m    235\u001b[0m                                 \u001b[0;34mf\"No file or directory found at {filepath_str}\"\u001b[0m\u001b[0;34m\u001b[0m\u001b[0;34m\u001b[0m\u001b[0m\n\u001b[1;32m    236\u001b[0m                             )\n",
            "\u001b[0;31mOSError\u001b[0m: No file or directory found at ./VGG16.h5"
          ]
        }
      ]
    },
    {
      "cell_type": "code",
      "source": [
        "#Hyperparameter optimization by Random search\n",
        "space = {\n",
        "    'frozen': hp.quniform('frozen', 15, 18, 1),\n",
        "    'epochs': hp.quniform('epochs', 5, 21, 5),\n",
        "    'patience': hp.quniform('patience', 2, 4, 1),\n",
        "    'lr': hp.quniform('lr', 0.001, 0.006, 0.001),\n",
        "    'dropout_rate': hp.quniform('dropout_rate', 0.3, 0.6, 0.1),\n",
        "}\n",
        "\n",
        "t1=time.time()\n",
        "best = fmin(fn=objective,\n",
        "            space=space,\n",
        "            algo=rand.suggest,\n",
        "            max_evals=10)\n",
        "print(\"Hyperopt estimated optimum {}\".format(best))\n",
        "t2=time.time()\n",
        "print(\"Time: \"+str(t2-t1))"
      ],
      "metadata": {
        "colab": {
          "base_uri": "https://localhost:8080/",
          "height": 966
        },
        "id": "fbT8FB7-OOWZ",
        "outputId": "690955ca-c8b7-45e7-dead-fc8cb9a1b3bc"
      },
      "execution_count": null,
      "outputs": [
        {
          "output_type": "stream",
          "name": "stdout",
          "text": [
            "\r  0%|          | 0/10 [00:00<?, ?trial/s, best loss=?]"
          ]
        },
        {
          "output_type": "stream",
          "name": "stderr",
          "text": [
            "WARNING:absl:`lr` is deprecated in Keras optimizer, please use `learning_rate` or use the legacy optimizer, e.g.,tf.keras.optimizers.legacy.Adam.\n",
            "WARNING:tensorflow:Early stopping conditioned on metric `val_acc` which is not available. Available metrics are: loss,accuracy,val_loss,val_accuracy\n",
            "WARNING:tensorflow:Can save best model only with val_acc available, skipping.\n",
            "WARNING:tensorflow:Early stopping conditioned on metric `val_acc` which is not available. Available metrics are: loss,accuracy,val_loss,val_accuracy\n",
            "WARNING:tensorflow:Can save best model only with val_acc available, skipping.\n",
            "WARNING:tensorflow:Early stopping conditioned on metric `val_acc` which is not available. Available metrics are: loss,accuracy,val_loss,val_accuracy\n",
            "WARNING:tensorflow:Can save best model only with val_acc available, skipping.\n",
            "WARNING:tensorflow:Early stopping conditioned on metric `val_acc` which is not available. Available metrics are: loss,accuracy,val_loss,val_accuracy\n",
            "WARNING:tensorflow:Can save best model only with val_acc available, skipping.\n",
            "WARNING:tensorflow:Early stopping conditioned on metric `val_acc` which is not available. Available metrics are: loss,accuracy,val_loss,val_accuracy\n",
            "WARNING:tensorflow:Can save best model only with val_acc available, skipping.\n",
            "WARNING:tensorflow:Early stopping conditioned on metric `val_acc` which is not available. Available metrics are: loss,accuracy,val_loss,val_accuracy\n",
            "WARNING:tensorflow:Can save best model only with val_acc available, skipping.\n",
            "WARNING:tensorflow:Early stopping conditioned on metric `val_acc` which is not available. Available metrics are: loss,accuracy,val_loss,val_accuracy\n",
            "WARNING:tensorflow:Can save best model only with val_acc available, skipping.\n",
            "WARNING:tensorflow:Early stopping conditioned on metric `val_acc` which is not available. Available metrics are: loss,accuracy,val_loss,val_accuracy\n",
            "WARNING:tensorflow:Can save best model only with val_acc available, skipping.\n",
            "WARNING:tensorflow:Early stopping conditioned on metric `val_acc` which is not available. Available metrics are: loss,accuracy,val_loss,val_accuracy\n",
            "WARNING:tensorflow:Can save best model only with val_acc available, skipping.\n",
            "WARNING:tensorflow:Early stopping conditioned on metric `val_acc` which is not available. Available metrics are: loss,accuracy,val_loss,val_accuracy\n",
            "WARNING:tensorflow:Can save best model only with val_acc available, skipping.\n",
            "WARNING:tensorflow:Early stopping conditioned on metric `val_acc` which is not available. Available metrics are: loss,accuracy,val_loss,val_accuracy\n",
            "WARNING:tensorflow:Can save best model only with val_acc available, skipping.\n",
            "WARNING:tensorflow:Early stopping conditioned on metric `val_acc` which is not available. Available metrics are: loss,accuracy,val_loss,val_accuracy\n",
            "WARNING:tensorflow:Can save best model only with val_acc available, skipping.\n",
            "WARNING:tensorflow:Early stopping conditioned on metric `val_acc` which is not available. Available metrics are: loss,accuracy,val_loss,val_accuracy\n",
            "WARNING:tensorflow:Can save best model only with val_acc available, skipping.\n",
            "WARNING:tensorflow:Early stopping conditioned on metric `val_acc` which is not available. Available metrics are: loss,accuracy,val_loss,val_accuracy\n",
            "WARNING:tensorflow:Can save best model only with val_acc available, skipping.\n",
            "WARNING:tensorflow:Early stopping conditioned on metric `val_acc` which is not available. Available metrics are: loss,accuracy,val_loss,val_accuracy\n",
            "WARNING:tensorflow:Can save best model only with val_acc available, skipping.\n",
            "ERROR:hyperopt.fmin:job exception: No file or directory found at ./VGG16.h5\n"
          ]
        },
        {
          "output_type": "stream",
          "name": "stdout",
          "text": [
            "\r  0%|          | 0/10 [35:12<?, ?trial/s, best loss=?]\n"
          ]
        },
        {
          "output_type": "error",
          "ename": "OSError",
          "evalue": "No file or directory found at ./VGG16.h5",
          "traceback": [
            "\u001b[0;31m---------------------------------------------------------------------------\u001b[0m",
            "\u001b[0;31mOSError\u001b[0m                                   Traceback (most recent call last)",
            "\u001b[0;32m<ipython-input-44-fe152a437387>\u001b[0m in \u001b[0;36m<cell line: 11>\u001b[0;34m()\u001b[0m\n\u001b[1;32m      9\u001b[0m \u001b[0;34m\u001b[0m\u001b[0m\n\u001b[1;32m     10\u001b[0m \u001b[0mt1\u001b[0m\u001b[0;34m=\u001b[0m\u001b[0mtime\u001b[0m\u001b[0;34m.\u001b[0m\u001b[0mtime\u001b[0m\u001b[0;34m(\u001b[0m\u001b[0;34m)\u001b[0m\u001b[0;34m\u001b[0m\u001b[0;34m\u001b[0m\u001b[0m\n\u001b[0;32m---> 11\u001b[0;31m best = fmin(fn=objective,\n\u001b[0m\u001b[1;32m     12\u001b[0m             \u001b[0mspace\u001b[0m\u001b[0;34m=\u001b[0m\u001b[0mspace\u001b[0m\u001b[0;34m,\u001b[0m\u001b[0;34m\u001b[0m\u001b[0;34m\u001b[0m\u001b[0m\n\u001b[1;32m     13\u001b[0m             \u001b[0malgo\u001b[0m\u001b[0;34m=\u001b[0m\u001b[0mrand\u001b[0m\u001b[0;34m.\u001b[0m\u001b[0msuggest\u001b[0m\u001b[0;34m,\u001b[0m\u001b[0;34m\u001b[0m\u001b[0;34m\u001b[0m\u001b[0m\n",
            "\u001b[0;32m/usr/local/lib/python3.10/dist-packages/hyperopt/fmin.py\u001b[0m in \u001b[0;36mfmin\u001b[0;34m(fn, space, algo, max_evals, timeout, loss_threshold, trials, rstate, allow_trials_fmin, pass_expr_memo_ctrl, catch_eval_exceptions, verbose, return_argmin, points_to_evaluate, max_queue_len, show_progressbar, early_stop_fn, trials_save_file)\u001b[0m\n\u001b[1;32m    584\u001b[0m \u001b[0;34m\u001b[0m\u001b[0m\n\u001b[1;32m    585\u001b[0m     \u001b[0;31m# next line is where the fmin is actually executed\u001b[0m\u001b[0;34m\u001b[0m\u001b[0;34m\u001b[0m\u001b[0m\n\u001b[0;32m--> 586\u001b[0;31m     \u001b[0mrval\u001b[0m\u001b[0;34m.\u001b[0m\u001b[0mexhaust\u001b[0m\u001b[0;34m(\u001b[0m\u001b[0;34m)\u001b[0m\u001b[0;34m\u001b[0m\u001b[0;34m\u001b[0m\u001b[0m\n\u001b[0m\u001b[1;32m    587\u001b[0m \u001b[0;34m\u001b[0m\u001b[0m\n\u001b[1;32m    588\u001b[0m     \u001b[0;32mif\u001b[0m \u001b[0mreturn_argmin\u001b[0m\u001b[0;34m:\u001b[0m\u001b[0;34m\u001b[0m\u001b[0;34m\u001b[0m\u001b[0m\n",
            "\u001b[0;32m/usr/local/lib/python3.10/dist-packages/hyperopt/fmin.py\u001b[0m in \u001b[0;36mexhaust\u001b[0;34m(self)\u001b[0m\n\u001b[1;32m    362\u001b[0m     \u001b[0;32mdef\u001b[0m \u001b[0mexhaust\u001b[0m\u001b[0;34m(\u001b[0m\u001b[0mself\u001b[0m\u001b[0;34m)\u001b[0m\u001b[0;34m:\u001b[0m\u001b[0;34m\u001b[0m\u001b[0;34m\u001b[0m\u001b[0m\n\u001b[1;32m    363\u001b[0m         \u001b[0mn_done\u001b[0m \u001b[0;34m=\u001b[0m \u001b[0mlen\u001b[0m\u001b[0;34m(\u001b[0m\u001b[0mself\u001b[0m\u001b[0;34m.\u001b[0m\u001b[0mtrials\u001b[0m\u001b[0;34m)\u001b[0m\u001b[0;34m\u001b[0m\u001b[0;34m\u001b[0m\u001b[0m\n\u001b[0;32m--> 364\u001b[0;31m         \u001b[0mself\u001b[0m\u001b[0;34m.\u001b[0m\u001b[0mrun\u001b[0m\u001b[0;34m(\u001b[0m\u001b[0mself\u001b[0m\u001b[0;34m.\u001b[0m\u001b[0mmax_evals\u001b[0m \u001b[0;34m-\u001b[0m \u001b[0mn_done\u001b[0m\u001b[0;34m,\u001b[0m \u001b[0mblock_until_done\u001b[0m\u001b[0;34m=\u001b[0m\u001b[0mself\u001b[0m\u001b[0;34m.\u001b[0m\u001b[0masynchronous\u001b[0m\u001b[0;34m)\u001b[0m\u001b[0;34m\u001b[0m\u001b[0;34m\u001b[0m\u001b[0m\n\u001b[0m\u001b[1;32m    365\u001b[0m         \u001b[0mself\u001b[0m\u001b[0;34m.\u001b[0m\u001b[0mtrials\u001b[0m\u001b[0;34m.\u001b[0m\u001b[0mrefresh\u001b[0m\u001b[0;34m(\u001b[0m\u001b[0;34m)\u001b[0m\u001b[0;34m\u001b[0m\u001b[0;34m\u001b[0m\u001b[0m\n\u001b[1;32m    366\u001b[0m         \u001b[0;32mreturn\u001b[0m \u001b[0mself\u001b[0m\u001b[0;34m\u001b[0m\u001b[0;34m\u001b[0m\u001b[0m\n",
            "\u001b[0;32m/usr/local/lib/python3.10/dist-packages/hyperopt/fmin.py\u001b[0m in \u001b[0;36mrun\u001b[0;34m(self, N, block_until_done)\u001b[0m\n\u001b[1;32m    298\u001b[0m                 \u001b[0;32melse\u001b[0m\u001b[0;34m:\u001b[0m\u001b[0;34m\u001b[0m\u001b[0;34m\u001b[0m\u001b[0m\n\u001b[1;32m    299\u001b[0m                     \u001b[0;31m# -- loop over trials and do the jobs directly\u001b[0m\u001b[0;34m\u001b[0m\u001b[0;34m\u001b[0m\u001b[0m\n\u001b[0;32m--> 300\u001b[0;31m                     \u001b[0mself\u001b[0m\u001b[0;34m.\u001b[0m\u001b[0mserial_evaluate\u001b[0m\u001b[0;34m(\u001b[0m\u001b[0;34m)\u001b[0m\u001b[0;34m\u001b[0m\u001b[0;34m\u001b[0m\u001b[0m\n\u001b[0m\u001b[1;32m    301\u001b[0m \u001b[0;34m\u001b[0m\u001b[0m\n\u001b[1;32m    302\u001b[0m                 \u001b[0mself\u001b[0m\u001b[0;34m.\u001b[0m\u001b[0mtrials\u001b[0m\u001b[0;34m.\u001b[0m\u001b[0mrefresh\u001b[0m\u001b[0;34m(\u001b[0m\u001b[0;34m)\u001b[0m\u001b[0;34m\u001b[0m\u001b[0;34m\u001b[0m\u001b[0m\n",
            "\u001b[0;32m/usr/local/lib/python3.10/dist-packages/hyperopt/fmin.py\u001b[0m in \u001b[0;36mserial_evaluate\u001b[0;34m(self, N)\u001b[0m\n\u001b[1;32m    176\u001b[0m                 \u001b[0mctrl\u001b[0m \u001b[0;34m=\u001b[0m \u001b[0mbase\u001b[0m\u001b[0;34m.\u001b[0m\u001b[0mCtrl\u001b[0m\u001b[0;34m(\u001b[0m\u001b[0mself\u001b[0m\u001b[0;34m.\u001b[0m\u001b[0mtrials\u001b[0m\u001b[0;34m,\u001b[0m \u001b[0mcurrent_trial\u001b[0m\u001b[0;34m=\u001b[0m\u001b[0mtrial\u001b[0m\u001b[0;34m)\u001b[0m\u001b[0;34m\u001b[0m\u001b[0;34m\u001b[0m\u001b[0m\n\u001b[1;32m    177\u001b[0m                 \u001b[0;32mtry\u001b[0m\u001b[0;34m:\u001b[0m\u001b[0;34m\u001b[0m\u001b[0;34m\u001b[0m\u001b[0m\n\u001b[0;32m--> 178\u001b[0;31m                     \u001b[0mresult\u001b[0m \u001b[0;34m=\u001b[0m \u001b[0mself\u001b[0m\u001b[0;34m.\u001b[0m\u001b[0mdomain\u001b[0m\u001b[0;34m.\u001b[0m\u001b[0mevaluate\u001b[0m\u001b[0;34m(\u001b[0m\u001b[0mspec\u001b[0m\u001b[0;34m,\u001b[0m \u001b[0mctrl\u001b[0m\u001b[0;34m)\u001b[0m\u001b[0;34m\u001b[0m\u001b[0;34m\u001b[0m\u001b[0m\n\u001b[0m\u001b[1;32m    179\u001b[0m                 \u001b[0;32mexcept\u001b[0m \u001b[0mException\u001b[0m \u001b[0;32mas\u001b[0m \u001b[0me\u001b[0m\u001b[0;34m:\u001b[0m\u001b[0;34m\u001b[0m\u001b[0;34m\u001b[0m\u001b[0m\n\u001b[1;32m    180\u001b[0m                     \u001b[0mlogger\u001b[0m\u001b[0;34m.\u001b[0m\u001b[0merror\u001b[0m\u001b[0;34m(\u001b[0m\u001b[0;34m\"job exception: %s\"\u001b[0m \u001b[0;34m%\u001b[0m \u001b[0mstr\u001b[0m\u001b[0;34m(\u001b[0m\u001b[0me\u001b[0m\u001b[0;34m)\u001b[0m\u001b[0;34m)\u001b[0m\u001b[0;34m\u001b[0m\u001b[0;34m\u001b[0m\u001b[0m\n",
            "\u001b[0;32m/usr/local/lib/python3.10/dist-packages/hyperopt/base.py\u001b[0m in \u001b[0;36mevaluate\u001b[0;34m(self, config, ctrl, attach_attachments)\u001b[0m\n\u001b[1;32m    890\u001b[0m                 \u001b[0mprint_node_on_error\u001b[0m\u001b[0;34m=\u001b[0m\u001b[0mself\u001b[0m\u001b[0;34m.\u001b[0m\u001b[0mrec_eval_print_node_on_error\u001b[0m\u001b[0;34m,\u001b[0m\u001b[0;34m\u001b[0m\u001b[0;34m\u001b[0m\u001b[0m\n\u001b[1;32m    891\u001b[0m             )\n\u001b[0;32m--> 892\u001b[0;31m             \u001b[0mrval\u001b[0m \u001b[0;34m=\u001b[0m \u001b[0mself\u001b[0m\u001b[0;34m.\u001b[0m\u001b[0mfn\u001b[0m\u001b[0;34m(\u001b[0m\u001b[0mpyll_rval\u001b[0m\u001b[0;34m)\u001b[0m\u001b[0;34m\u001b[0m\u001b[0;34m\u001b[0m\u001b[0m\n\u001b[0m\u001b[1;32m    893\u001b[0m \u001b[0;34m\u001b[0m\u001b[0m\n\u001b[1;32m    894\u001b[0m         \u001b[0;32mif\u001b[0m \u001b[0misinstance\u001b[0m\u001b[0;34m(\u001b[0m\u001b[0mrval\u001b[0m\u001b[0;34m,\u001b[0m \u001b[0;34m(\u001b[0m\u001b[0mfloat\u001b[0m\u001b[0;34m,\u001b[0m \u001b[0mint\u001b[0m\u001b[0;34m,\u001b[0m \u001b[0mnp\u001b[0m\u001b[0;34m.\u001b[0m\u001b[0mnumber\u001b[0m\u001b[0;34m)\u001b[0m\u001b[0;34m)\u001b[0m\u001b[0;34m:\u001b[0m\u001b[0;34m\u001b[0m\u001b[0;34m\u001b[0m\u001b[0m\n",
            "\u001b[0;32m<ipython-input-42-69bcbf215939>\u001b[0m in \u001b[0;36mobjective\u001b[0;34m(params)\u001b[0m\n\u001b[1;32m     22\u001b[0m     \u001b[0mvgg16\u001b[0m\u001b[0;34m(\u001b[0m\u001b[0mnum_class\u001b[0m\u001b[0;34m=\u001b[0m\u001b[0;36m5\u001b[0m\u001b[0;34m,\u001b[0m \u001b[0mfrozen\u001b[0m\u001b[0;34m=\u001b[0m\u001b[0mfrozen\u001b[0m\u001b[0;34m,\u001b[0m\u001b[0mepochs\u001b[0m\u001b[0;34m=\u001b[0m\u001b[0mepochs\u001b[0m\u001b[0;34m,\u001b[0m\u001b[0mpatience\u001b[0m\u001b[0;34m=\u001b[0m\u001b[0mpatience\u001b[0m\u001b[0;34m,\u001b[0m \u001b[0mlr\u001b[0m\u001b[0;34m=\u001b[0m\u001b[0mlr\u001b[0m\u001b[0;34m,\u001b[0m \u001b[0mdropout_rate\u001b[0m\u001b[0;34m=\u001b[0m\u001b[0mdropout_rate\u001b[0m\u001b[0;34m)\u001b[0m\u001b[0;34m\u001b[0m\u001b[0;34m\u001b[0m\u001b[0m\n\u001b[1;32m     23\u001b[0m \u001b[0;34m\u001b[0m\u001b[0m\n\u001b[0;32m---> 24\u001b[0;31m     \u001b[0macc\u001b[0m\u001b[0;34m=\u001b[0m\u001b[0mprediction\u001b[0m\u001b[0;34m(\u001b[0m\u001b[0mvgg_model\u001b[0m\u001b[0;34m=\u001b[0m\u001b[0mload_model\u001b[0m\u001b[0;34m(\u001b[0m\u001b[0;34m'./VGG16.h5'\u001b[0m\u001b[0;34m)\u001b[0m\u001b[0;34m)\u001b[0m\u001b[0;34m\u001b[0m\u001b[0;34m\u001b[0m\u001b[0m\n\u001b[0m\u001b[1;32m     25\u001b[0m \u001b[0;34m\u001b[0m\u001b[0m\n\u001b[1;32m     26\u001b[0m     \u001b[0mprint\u001b[0m\u001b[0;34m(\u001b[0m\u001b[0;34m'accuracy:%s'\u001b[0m\u001b[0;34m%\u001b[0m\u001b[0macc\u001b[0m\u001b[0;34m)\u001b[0m\u001b[0;34m\u001b[0m\u001b[0;34m\u001b[0m\u001b[0m\n",
            "\u001b[0;32m/usr/local/lib/python3.10/dist-packages/keras/src/saving/saving_api.py\u001b[0m in \u001b[0;36mload_model\u001b[0;34m(filepath, custom_objects, compile, safe_mode, **kwargs)\u001b[0m\n\u001b[1;32m    260\u001b[0m \u001b[0;34m\u001b[0m\u001b[0m\n\u001b[1;32m    261\u001b[0m     \u001b[0;31m# Legacy case.\u001b[0m\u001b[0;34m\u001b[0m\u001b[0;34m\u001b[0m\u001b[0m\n\u001b[0;32m--> 262\u001b[0;31m     return legacy_sm_saving_lib.load_model(\n\u001b[0m\u001b[1;32m    263\u001b[0m         \u001b[0mfilepath\u001b[0m\u001b[0;34m,\u001b[0m \u001b[0mcustom_objects\u001b[0m\u001b[0;34m=\u001b[0m\u001b[0mcustom_objects\u001b[0m\u001b[0;34m,\u001b[0m \u001b[0mcompile\u001b[0m\u001b[0;34m=\u001b[0m\u001b[0mcompile\u001b[0m\u001b[0;34m,\u001b[0m \u001b[0;34m**\u001b[0m\u001b[0mkwargs\u001b[0m\u001b[0;34m\u001b[0m\u001b[0;34m\u001b[0m\u001b[0m\n\u001b[1;32m    264\u001b[0m     )\n",
            "\u001b[0;32m/usr/local/lib/python3.10/dist-packages/keras/src/utils/traceback_utils.py\u001b[0m in \u001b[0;36merror_handler\u001b[0;34m(*args, **kwargs)\u001b[0m\n\u001b[1;32m     68\u001b[0m             \u001b[0;31m# To get the full stack trace, call:\u001b[0m\u001b[0;34m\u001b[0m\u001b[0;34m\u001b[0m\u001b[0m\n\u001b[1;32m     69\u001b[0m             \u001b[0;31m# `tf.debugging.disable_traceback_filtering()`\u001b[0m\u001b[0;34m\u001b[0m\u001b[0;34m\u001b[0m\u001b[0m\n\u001b[0;32m---> 70\u001b[0;31m             \u001b[0;32mraise\u001b[0m \u001b[0me\u001b[0m\u001b[0;34m.\u001b[0m\u001b[0mwith_traceback\u001b[0m\u001b[0;34m(\u001b[0m\u001b[0mfiltered_tb\u001b[0m\u001b[0;34m)\u001b[0m \u001b[0;32mfrom\u001b[0m \u001b[0;32mNone\u001b[0m\u001b[0;34m\u001b[0m\u001b[0;34m\u001b[0m\u001b[0m\n\u001b[0m\u001b[1;32m     71\u001b[0m         \u001b[0;32mfinally\u001b[0m\u001b[0;34m:\u001b[0m\u001b[0;34m\u001b[0m\u001b[0;34m\u001b[0m\u001b[0m\n\u001b[1;32m     72\u001b[0m             \u001b[0;32mdel\u001b[0m \u001b[0mfiltered_tb\u001b[0m\u001b[0;34m\u001b[0m\u001b[0;34m\u001b[0m\u001b[0m\n",
            "\u001b[0;32m/usr/local/lib/python3.10/dist-packages/keras/src/saving/legacy/save.py\u001b[0m in \u001b[0;36mload_model\u001b[0;34m(filepath, custom_objects, compile, options)\u001b[0m\n\u001b[1;32m    232\u001b[0m                     \u001b[0;32mif\u001b[0m \u001b[0misinstance\u001b[0m\u001b[0;34m(\u001b[0m\u001b[0mfilepath_str\u001b[0m\u001b[0;34m,\u001b[0m \u001b[0mstr\u001b[0m\u001b[0;34m)\u001b[0m\u001b[0;34m:\u001b[0m\u001b[0;34m\u001b[0m\u001b[0;34m\u001b[0m\u001b[0m\n\u001b[1;32m    233\u001b[0m                         \u001b[0;32mif\u001b[0m \u001b[0;32mnot\u001b[0m \u001b[0mtf\u001b[0m\u001b[0;34m.\u001b[0m\u001b[0mio\u001b[0m\u001b[0;34m.\u001b[0m\u001b[0mgfile\u001b[0m\u001b[0;34m.\u001b[0m\u001b[0mexists\u001b[0m\u001b[0;34m(\u001b[0m\u001b[0mfilepath_str\u001b[0m\u001b[0;34m)\u001b[0m\u001b[0;34m:\u001b[0m\u001b[0;34m\u001b[0m\u001b[0;34m\u001b[0m\u001b[0m\n\u001b[0;32m--> 234\u001b[0;31m                             raise IOError(\n\u001b[0m\u001b[1;32m    235\u001b[0m                                 \u001b[0;34mf\"No file or directory found at {filepath_str}\"\u001b[0m\u001b[0;34m\u001b[0m\u001b[0;34m\u001b[0m\u001b[0m\n\u001b[1;32m    236\u001b[0m                             )\n",
            "\u001b[0;31mOSError\u001b[0m: No file or directory found at ./VGG16.h5"
          ]
        }
      ]
    },
    {
      "cell_type": "code",
      "source": [
        "# Retrain the model by using the best hyperparameter values to obtain the best model\n",
        "vgg16(num_class=5, frozen=16,epochs=5,patience=3, lr=0.002, dropout_rate=0.6,verbose=1)"
      ],
      "metadata": {
        "colab": {
          "base_uri": "https://localhost:8080/"
        },
        "id": "B0SjEDutOQ6t",
        "outputId": "8d5737e2-1e77-4b10-fff7-c59c59ac669b"
      },
      "execution_count": null,
      "outputs": [
        {
          "output_type": "stream",
          "name": "stderr",
          "text": [
            "WARNING:absl:`lr` is deprecated in Keras optimizer, please use `learning_rate` or use the legacy optimizer, e.g.,tf.keras.optimizers.legacy.Adam.\n"
          ]
        },
        {
          "output_type": "stream",
          "name": "stdout",
          "text": [
            "Epoch 1/5\n",
            "183/183 [==============================] - ETA: 0s - loss: 0.0401 - accuracy: 0.9882"
          ]
        },
        {
          "output_type": "stream",
          "name": "stderr",
          "text": [
            "WARNING:tensorflow:Early stopping conditioned on metric `val_acc` which is not available. Available metrics are: loss,accuracy,val_loss,val_accuracy\n",
            "WARNING:tensorflow:Can save best model only with val_acc available, skipping.\n"
          ]
        },
        {
          "output_type": "stream",
          "name": "stdout",
          "text": [
            "\b\b\b\b\b\b\b\b\b\b\b\b\b\b\b\b\b\b\b\b\b\b\b\b\b\b\b\b\b\b\b\b\b\b\b\b\b\b\b\b\b\b\b\b\b\b\b\b\b\b\b\b\b\b\b\b\b\b\b\b\b\b\b\b\b\b\b\b\b\b\b\b\b\b\b\b\b\b\b\b\b\b\b\b\r183/183 [==============================] - 156s 834ms/step - loss: 0.0401 - accuracy: 0.9882 - val_loss: 2.9960e-08 - val_accuracy: 1.0000\n",
            "Epoch 2/5\n",
            "183/183 [==============================] - ETA: 0s - loss: 7.6829e-05 - accuracy: 1.0000"
          ]
        },
        {
          "output_type": "stream",
          "name": "stderr",
          "text": [
            "WARNING:tensorflow:Early stopping conditioned on metric `val_acc` which is not available. Available metrics are: loss,accuracy,val_loss,val_accuracy\n",
            "WARNING:tensorflow:Can save best model only with val_acc available, skipping.\n"
          ]
        },
        {
          "output_type": "stream",
          "name": "stdout",
          "text": [
            "\b\b\b\b\b\b\b\b\b\b\b\b\b\b\b\b\b\b\b\b\b\b\b\b\b\b\b\b\b\b\b\b\b\b\b\b\b\b\b\b\b\b\b\b\b\b\b\b\b\b\b\b\b\b\b\b\b\b\b\b\b\b\b\b\b\b\b\b\b\b\b\b\b\b\b\b\b\b\b\b\b\b\b\b\b\b\b\b\r183/183 [==============================] - 136s 743ms/step - loss: 7.6829e-05 - accuracy: 1.0000 - val_loss: 1.5052e-08 - val_accuracy: 1.0000\n",
            "Epoch 3/5\n",
            "183/183 [==============================] - ETA: 0s - loss: 7.2655e-06 - accuracy: 1.0000"
          ]
        },
        {
          "output_type": "stream",
          "name": "stderr",
          "text": [
            "WARNING:tensorflow:Early stopping conditioned on metric `val_acc` which is not available. Available metrics are: loss,accuracy,val_loss,val_accuracy\n",
            "WARNING:tensorflow:Can save best model only with val_acc available, skipping.\n"
          ]
        },
        {
          "output_type": "stream",
          "name": "stdout",
          "text": [
            "\b\b\b\b\b\b\b\b\b\b\b\b\b\b\b\b\b\b\b\b\b\b\b\b\b\b\b\b\b\b\b\b\b\b\b\b\b\b\b\b\b\b\b\b\b\b\b\b\b\b\b\b\b\b\b\b\b\b\b\b\b\b\b\b\b\b\b\b\b\b\b\b\b\b\b\b\b\b\b\b\b\b\b\b\b\b\b\b\r183/183 [==============================] - 135s 738ms/step - loss: 7.2655e-06 - accuracy: 1.0000 - val_loss: 3.6711e-10 - val_accuracy: 1.0000\n",
            "Epoch 4/5\n",
            "183/183 [==============================] - ETA: 0s - loss: 6.1960e-04 - accuracy: 0.9998"
          ]
        },
        {
          "output_type": "stream",
          "name": "stderr",
          "text": [
            "WARNING:tensorflow:Early stopping conditioned on metric `val_acc` which is not available. Available metrics are: loss,accuracy,val_loss,val_accuracy\n",
            "WARNING:tensorflow:Can save best model only with val_acc available, skipping.\n"
          ]
        },
        {
          "output_type": "stream",
          "name": "stdout",
          "text": [
            "\b\b\b\b\b\b\b\b\b\b\b\b\b\b\b\b\b\b\b\b\b\b\b\b\b\b\b\b\b\b\b\b\b\b\b\b\b\b\b\b\b\b\b\b\b\b\b\b\b\b\b\b\b\b\b\b\b\b\b\b\b\b\b\b\b\b\b\b\b\b\b\b\b\b\b\b\b\b\b\b\b\b\b\b\b\b\b\b\r183/183 [==============================] - 136s 741ms/step - loss: 6.1960e-04 - accuracy: 0.9998 - val_loss: 1.7756 - val_accuracy: 0.5148\n",
            "Epoch 5/5\n",
            "183/183 [==============================] - ETA: 0s - loss: 0.2215 - accuracy: 0.9896"
          ]
        },
        {
          "output_type": "stream",
          "name": "stderr",
          "text": [
            "WARNING:tensorflow:Early stopping conditioned on metric `val_acc` which is not available. Available metrics are: loss,accuracy,val_loss,val_accuracy\n",
            "WARNING:tensorflow:Can save best model only with val_acc available, skipping.\n"
          ]
        },
        {
          "output_type": "stream",
          "name": "stdout",
          "text": [
            "\b\b\b\b\b\b\b\b\b\b\b\b\b\b\b\b\b\b\b\b\b\b\b\b\b\b\b\b\b\b\b\b\b\b\b\b\b\b\b\b\b\b\b\b\b\b\b\b\b\b\b\b\b\b\b\b\b\b\b\b\b\b\b\b\b\b\b\b\b\b\b\b\b\b\b\b\b\b\b\b\b\b\b\b\r183/183 [==============================] - 135s 739ms/step - loss: 0.2215 - accuracy: 0.9896 - val_loss: 0.0000e+00 - val_accuracy: 1.0000\n"
          ]
        },
        {
          "output_type": "execute_result",
          "data": {
            "text/plain": [
              "<keras.src.callbacks.History at 0x7f65d35ea1d0>"
            ]
          },
          "metadata": {},
          "execution_count": 45
        }
      ]
    },
    {
      "cell_type": "markdown",
      "source": [
        "## A Transfer Learning and Optimized CNN Based Intrusion Detection System for Internet of Vehicles"
      ],
      "metadata": {
        "id": "HGwe0kZnQtn4"
      }
    },
    {
      "cell_type": "markdown",
      "source": [
        "### Ensemble Models\n",
        "\n",
        "**Aims:** construct three ensemble techniques: Bagging, Probability averaging, and Concatenation, to further improve prediction accuracy\n",
        "\n",
        "\n",
        "\n",
        "1.   **Bagging:** use majority voting of top single models.\n",
        "2.   **Probability averaging:** calculate the average     probability of the single model prediction results (the last layer of CNN models), and select the largest probability class to be the final class.\n",
        "3. **Concatenation:** extract the features in the last several layers of single models, and concatenate together to generate the new layers, and add a dense layer to do prediction\n",
        "\n",
        "\n"
      ],
      "metadata": {
        "id": "DoeTR9_jQ0Vi"
      }
    },
    {
      "cell_type": "code",
      "source": [
        "from keras import Input\n",
        "\n",
        "from keras.callbacks import EarlyStopping, ReduceLROnPlateau, ModelCheckpoint, LearningRateScheduler\n",
        "from keras.optimizers import SGD\n",
        "import operator\n",
        "from collections import defaultdict"
      ],
      "metadata": {
        "id": "TNjzVoekOTuf"
      },
      "execution_count": null,
      "outputs": []
    },
    {
      "cell_type": "markdown",
      "source": [
        "## Read the test set\n"
      ],
      "metadata": {
        "id": "jLoybYyhSahS"
      }
    },
    {
      "cell_type": "code",
      "source": [
        "#generate images from train set and validation set\n",
        "TARGET_SIZE=(224,224)\n",
        "INPUT_SIZE=(224,224,3)\n",
        "BATCHSIZE=128\n",
        "\n",
        "test_datagen = ImageDataGenerator(rescale=1./255)\n",
        "\n",
        "\n",
        "validation_generator = test_datagen.flow_from_directory(\n",
        "        './test_224/',\n",
        "        target_size=TARGET_SIZE,\n",
        "        batch_size=BATCHSIZE,\n",
        "        class_mode='categorical')"
      ],
      "metadata": {
        "colab": {
          "base_uri": "https://localhost:8080/"
        },
        "id": "GmvMGAzESVxp",
        "outputId": "e75181a9-165b-43b1-f9ba-d38ce003511f"
      },
      "execution_count": null,
      "outputs": [
        {
          "output_type": "stream",
          "name": "stdout",
          "text": [
            "Found 5845 images belonging to 5 classes.\n"
          ]
        }
      ]
    },
    {
      "cell_type": "code",
      "source": [
        "#generate labels indicating disease (1) or normal (0)\n",
        "label=validation_generator.class_indices\n",
        "label={v: k for k, v in label.items()}"
      ],
      "metadata": {
        "id": "oZ7TZVaiSd0s"
      },
      "execution_count": null,
      "outputs": []
    },
    {
      "cell_type": "code",
      "source": [
        "print(label)"
      ],
      "metadata": {
        "colab": {
          "base_uri": "https://localhost:8080/"
        },
        "id": "WPoGqCQgSfxy",
        "outputId": "3b85e670-895d-4f6f-e7b1-4e6a42d0ea40"
      },
      "execution_count": null,
      "outputs": [
        {
          "output_type": "stream",
          "name": "stdout",
          "text": [
            "{0: '0', 1: '1', 2: '2', 3: '3', 4: '4'}\n"
          ]
        }
      ]
    },
    {
      "cell_type": "code",
      "source": [
        "#read images from validation folder\n",
        "rootdir = './test_224/'\n",
        "test_laels = []\n",
        "test_images=[]\n",
        "for subdir, dirs, files in os.walk(rootdir):\n",
        "    for file in files:\n",
        "        if not (file.endswith(\".jpeg\"))|(file.endswith(\".jpg\"))|(file.endswith(\".png\")):\n",
        "            continue\n",
        "        test_laels.append(subdir.split('/')[-1])\n",
        "        test_images.append(os.path.join(subdir, file))\n",
        "\n",
        "print(test_laels[0],test_images[0])"
      ],
      "metadata": {
        "colab": {
          "base_uri": "https://localhost:8080/"
        },
        "id": "6iRfHh-9SiGq",
        "outputId": "71bb13e4-dad0-4666-e059-0e64a4847c7d"
      },
      "execution_count": null,
      "outputs": [
        {
          "output_type": "stream",
          "name": "stdout",
          "text": [
            "0 ./test_224/0/237215.png\n"
          ]
        }
      ]
    },
    {
      "cell_type": "markdown",
      "source": [
        "## Load 5 trained CNN models\n"
      ],
      "metadata": {
        "id": "-kgHxFs-SmqS"
      }
    },
    {
      "cell_type": "code",
      "source": [
        "#load model 1: xception\n",
        "xception_model=load_model('./xception.h5')\n",
        "\n",
        "#load model 2: VGG16\n",
        "vgg_model=load_model('./VGG16.h5')\n",
        "\n",
        "#load model 3: VGG19\n",
        "vgg19_model=load_model('./VGG19.h5')\n",
        "\n",
        "#load model 4: inception\n",
        "incep_model=load_model('./inception.h5')\n",
        "\n",
        "#load model 5: resnet\n",
        "res_model=load_model('./resnet.h5')\n"
      ],
      "metadata": {
        "colab": {
          "base_uri": "https://localhost:8080/",
          "height": 373
        },
        "id": "1T5oDv9QSvyQ",
        "outputId": "e54e350d-99aa-4a52-af8e-b6786501d7d2"
      },
      "execution_count": null,
      "outputs": [
        {
          "output_type": "error",
          "ename": "OSError",
          "evalue": "No file or directory found at ./VGG16.h5",
          "traceback": [
            "\u001b[0;31m---------------------------------------------------------------------------\u001b[0m",
            "\u001b[0;31mOSError\u001b[0m                                   Traceback (most recent call last)",
            "\u001b[0;32m<ipython-input-52-20f80827920d>\u001b[0m in \u001b[0;36m<cell line: 5>\u001b[0;34m()\u001b[0m\n\u001b[1;32m      3\u001b[0m \u001b[0;34m\u001b[0m\u001b[0m\n\u001b[1;32m      4\u001b[0m \u001b[0;31m#load model 2: VGG16\u001b[0m\u001b[0;34m\u001b[0m\u001b[0;34m\u001b[0m\u001b[0m\n\u001b[0;32m----> 5\u001b[0;31m \u001b[0mvgg_model\u001b[0m\u001b[0;34m=\u001b[0m\u001b[0mload_model\u001b[0m\u001b[0;34m(\u001b[0m\u001b[0;34m'./VGG16.h5'\u001b[0m\u001b[0;34m)\u001b[0m\u001b[0;34m\u001b[0m\u001b[0;34m\u001b[0m\u001b[0m\n\u001b[0m\u001b[1;32m      6\u001b[0m \u001b[0;34m\u001b[0m\u001b[0m\n\u001b[1;32m      7\u001b[0m \u001b[0;31m#load model 3: VGG19\u001b[0m\u001b[0;34m\u001b[0m\u001b[0;34m\u001b[0m\u001b[0m\n",
            "\u001b[0;32m/usr/local/lib/python3.10/dist-packages/keras/src/saving/saving_api.py\u001b[0m in \u001b[0;36mload_model\u001b[0;34m(filepath, custom_objects, compile, safe_mode, **kwargs)\u001b[0m\n\u001b[1;32m    260\u001b[0m \u001b[0;34m\u001b[0m\u001b[0m\n\u001b[1;32m    261\u001b[0m     \u001b[0;31m# Legacy case.\u001b[0m\u001b[0;34m\u001b[0m\u001b[0;34m\u001b[0m\u001b[0m\n\u001b[0;32m--> 262\u001b[0;31m     return legacy_sm_saving_lib.load_model(\n\u001b[0m\u001b[1;32m    263\u001b[0m         \u001b[0mfilepath\u001b[0m\u001b[0;34m,\u001b[0m \u001b[0mcustom_objects\u001b[0m\u001b[0;34m=\u001b[0m\u001b[0mcustom_objects\u001b[0m\u001b[0;34m,\u001b[0m \u001b[0mcompile\u001b[0m\u001b[0;34m=\u001b[0m\u001b[0mcompile\u001b[0m\u001b[0;34m,\u001b[0m \u001b[0;34m**\u001b[0m\u001b[0mkwargs\u001b[0m\u001b[0;34m\u001b[0m\u001b[0;34m\u001b[0m\u001b[0m\n\u001b[1;32m    264\u001b[0m     )\n",
            "\u001b[0;32m/usr/local/lib/python3.10/dist-packages/keras/src/utils/traceback_utils.py\u001b[0m in \u001b[0;36merror_handler\u001b[0;34m(*args, **kwargs)\u001b[0m\n\u001b[1;32m     68\u001b[0m             \u001b[0;31m# To get the full stack trace, call:\u001b[0m\u001b[0;34m\u001b[0m\u001b[0;34m\u001b[0m\u001b[0m\n\u001b[1;32m     69\u001b[0m             \u001b[0;31m# `tf.debugging.disable_traceback_filtering()`\u001b[0m\u001b[0;34m\u001b[0m\u001b[0;34m\u001b[0m\u001b[0m\n\u001b[0;32m---> 70\u001b[0;31m             \u001b[0;32mraise\u001b[0m \u001b[0me\u001b[0m\u001b[0;34m.\u001b[0m\u001b[0mwith_traceback\u001b[0m\u001b[0;34m(\u001b[0m\u001b[0mfiltered_tb\u001b[0m\u001b[0;34m)\u001b[0m \u001b[0;32mfrom\u001b[0m \u001b[0;32mNone\u001b[0m\u001b[0;34m\u001b[0m\u001b[0;34m\u001b[0m\u001b[0m\n\u001b[0m\u001b[1;32m     71\u001b[0m         \u001b[0;32mfinally\u001b[0m\u001b[0;34m:\u001b[0m\u001b[0;34m\u001b[0m\u001b[0;34m\u001b[0m\u001b[0m\n\u001b[1;32m     72\u001b[0m             \u001b[0;32mdel\u001b[0m \u001b[0mfiltered_tb\u001b[0m\u001b[0;34m\u001b[0m\u001b[0;34m\u001b[0m\u001b[0m\n",
            "\u001b[0;32m/usr/local/lib/python3.10/dist-packages/keras/src/saving/legacy/save.py\u001b[0m in \u001b[0;36mload_model\u001b[0;34m(filepath, custom_objects, compile, options)\u001b[0m\n\u001b[1;32m    232\u001b[0m                     \u001b[0;32mif\u001b[0m \u001b[0misinstance\u001b[0m\u001b[0;34m(\u001b[0m\u001b[0mfilepath_str\u001b[0m\u001b[0;34m,\u001b[0m \u001b[0mstr\u001b[0m\u001b[0;34m)\u001b[0m\u001b[0;34m:\u001b[0m\u001b[0;34m\u001b[0m\u001b[0;34m\u001b[0m\u001b[0m\n\u001b[1;32m    233\u001b[0m                         \u001b[0;32mif\u001b[0m \u001b[0;32mnot\u001b[0m \u001b[0mtf\u001b[0m\u001b[0;34m.\u001b[0m\u001b[0mio\u001b[0m\u001b[0;34m.\u001b[0m\u001b[0mgfile\u001b[0m\u001b[0;34m.\u001b[0m\u001b[0mexists\u001b[0m\u001b[0;34m(\u001b[0m\u001b[0mfilepath_str\u001b[0m\u001b[0;34m)\u001b[0m\u001b[0;34m:\u001b[0m\u001b[0;34m\u001b[0m\u001b[0;34m\u001b[0m\u001b[0m\n\u001b[0;32m--> 234\u001b[0;31m                             raise IOError(\n\u001b[0m\u001b[1;32m    235\u001b[0m                                 \u001b[0;34mf\"No file or directory found at {filepath_str}\"\u001b[0m\u001b[0;34m\u001b[0m\u001b[0;34m\u001b[0m\u001b[0m\n\u001b[1;32m    236\u001b[0m                             )\n",
            "\u001b[0;31mOSError\u001b[0m: No file or directory found at ./VGG16.h5"
          ]
        }
      ]
    },
    {
      "cell_type": "markdown",
      "source": [
        "## Use the original CNN base models to make predictions\n"
      ],
      "metadata": {
        "id": "mbUmeeDVS7D2"
      }
    },
    {
      "cell_type": "markdown",
      "source": [
        "### 1. Xception\n"
      ],
      "metadata": {
        "id": "-hR3HrMmTABP"
      }
    },
    {
      "cell_type": "code",
      "source": [
        "#Single image prediction\n",
        "import cv2\n",
        "import matplotlib.pyplot as plt\n",
        "test=cv2.imread(test_images[0])\n",
        "\n",
        "img_show=test[:,:,[2,1,0]]\n",
        "test=test/255.\n",
        "test_shape=(1,)+test.shape\n",
        "test=test.reshape(test_shape)\n",
        "\n",
        "res=xception_model.predict(test)\n",
        "\n",
        "prob=res[0,np.argmax(res,axis=1)[0]]\n",
        "res=label[np.argmax(res,axis=1)[0]]\n",
        "print('Predicted result for the first image: %s'%res)\n",
        "print('Confidence level: %s'%prob)\n",
        "plt.imshow(img_show)\n",
        "plt.show()"
      ],
      "metadata": {
        "id": "ApPkmgiIS5MB"
      },
      "execution_count": null,
      "outputs": []
    },
    {
      "cell_type": "code",
      "source": [
        "%%time\n",
        "import time\n",
        "predict=[]\n",
        "length=len(test_images)\n",
        "t1 = time.time()\n",
        "for i in range(length):\n",
        "    inputimg=test_images[i]\n",
        "    test_batch=[]\n",
        "    thisimg=np.array(Image.open(inputimg))/255 #read all the images in validation set\n",
        "    #print(thisimg)\n",
        "    test_shape=(1,)+thisimg.shape\n",
        "    thisimg=thisimg.reshape(test_shape)\n",
        "    xception_model_batch=xception_model.predict(thisimg) #use master model to process the input image\n",
        "    #generate result by model 1\n",
        "    prob=xception_model_batch[0,np.argmax(xception_model_batch,axis=1)[0]]\n",
        "    res=label[np.argmax(xception_model_batch,axis=1)[0]]\n",
        "    predict.append(res)"
      ],
      "metadata": {
        "id": "SbaimgpNUXA3"
      },
      "execution_count": null,
      "outputs": []
    },
    {
      "cell_type": "code",
      "source": [
        "from sklearn.metrics import accuracy_score,precision_score,recall_score,f1_score\n",
        "acc=accuracy_score(test_laels,predict)\n",
        "pre=precision_score(test_laels,predict,average='weighted')\n",
        "re=recall_score(test_laels,predict,average='weighted')\n",
        "f1=f1_score(test_laels,predict,average='weighted')\n",
        "print('Xception accuracy: %s'%acc)\n",
        "print('precision: %s'%pre)\n",
        "print('recall: %s'%re)\n",
        "print('f1: %s'%f1)\n",
        "from sklearn.metrics import classification_report, confusion_matrix\n",
        "print(confusion_matrix(test_laels, predict))\n",
        "target_names = ['0', '1','2','3','4']\n",
        "print(classification_report(test_laels, predict, target_names=target_names))"
      ],
      "metadata": {
        "id": "vYy6Rg67UcKv"
      },
      "execution_count": null,
      "outputs": []
    },
    {
      "cell_type": "markdown",
      "source": [
        "## 2. VGG16\n"
      ],
      "metadata": {
        "id": "k8RO1hKXUhCU"
      }
    },
    {
      "cell_type": "code",
      "source": [
        "%%time\n",
        "predict=[]\n",
        "length=len(test_images)\n",
        "t1 = time.time()\n",
        "for i in range(length):\n",
        "    inputimg=test_images[i]\n",
        "    test_batch=[]\n",
        "    thisimg=np.array(Image.open(inputimg))/255 #read all the images in validation set\n",
        "    #print(thisimg)\n",
        "    test_shape=(1,)+thisimg.shape\n",
        "    thisimg=thisimg.reshape(test_shape)\n",
        "    vgg_model_batch=vgg_model.predict(thisimg) #use master model to process the input image\n",
        "    #generate result by model 1\n",
        "    prob=vgg_model_batch[0,np.argmax(vgg_model_batch,axis=1)[0]]\n",
        "    res=label[np.argmax(vgg_model_batch,axis=1)[0]]\n",
        "    predict.append(res)\n"
      ],
      "metadata": {
        "id": "26jQsnSsUe5G"
      },
      "execution_count": null,
      "outputs": []
    },
    {
      "cell_type": "code",
      "source": [
        "from sklearn.metrics import accuracy_score,precision_score,recall_score,f1_score\n",
        "acc=accuracy_score(test_laels,predict)\n",
        "pre=precision_score(test_laels,predict,average='weighted')\n",
        "re=recall_score(test_laels,predict,average='weighted')\n",
        "f1=f1_score(test_laels,predict,average='weighted')\n",
        "print('VGG16 accuracy: %s'%acc)\n",
        "print('precision: %s'%pre)\n",
        "print('recall: %s'%re)\n",
        "print('f1: %s'%f1)\n",
        "from sklearn.metrics import classification_report, confusion_matrix\n",
        "print(confusion_matrix(test_laels, predict))\n",
        "target_names = ['0', '1','2','3','4']\n",
        "print(classification_report(test_laels, predict, target_names=target_names))"
      ],
      "metadata": {
        "id": "DBK9bkBmUlan"
      },
      "execution_count": null,
      "outputs": []
    },
    {
      "cell_type": "markdown",
      "source": [
        "## 3. VGG19\n"
      ],
      "metadata": {
        "id": "VWnNRjk8UpAd"
      }
    },
    {
      "cell_type": "code",
      "source": [
        "%%time\n",
        "predict=[]\n",
        "length=len(test_images)\n",
        "t1 = time.time()\n",
        "for i in range(length):\n",
        "    inputimg=test_images[i]\n",
        "    test_batch=[]\n",
        "    thisimg=np.array(Image.open(inputimg))/255 #read all the images in validation set\n",
        "    #print(thisimg)\n",
        "    test_shape=(1,)+thisimg.shape\n",
        "    thisimg=thisimg.reshape(test_shape)\n",
        "    vgg19_model_batch=vgg19_model.predict(thisimg) #use master model to process the input image\n",
        "    #generate result by model 1\n",
        "    prob=vgg19_model_batch[0,np.argmax(vgg19_model_batch,axis=1)[0]]\n",
        "    res=label[np.argmax(vgg19_model_batch,axis=1)[0]]\n",
        "    predict.append(res)\n"
      ],
      "metadata": {
        "id": "-Ndvd19YUpz-"
      },
      "execution_count": null,
      "outputs": []
    },
    {
      "cell_type": "code",
      "source": [
        "from sklearn.metrics import accuracy_score,precision_score,recall_score,f1_score\n",
        "acc=accuracy_score(test_laels,predict)\n",
        "pre=precision_score(test_laels,predict,average='weighted')\n",
        "re=recall_score(test_laels,predict,average='weighted')\n",
        "f1=f1_score(test_laels,predict,average='weighted')\n",
        "print('VGG19 accuracy: %s'%acc)\n",
        "print('precision: %s'%pre)\n",
        "print('recall: %s'%re)\n",
        "print('f1: %s'%f1)\n",
        "from sklearn.metrics import classification_report, confusion_matrix\n",
        "print(confusion_matrix(test_laels, predict))\n",
        "target_names = ['0', '1','2','3','4']\n",
        "print(classification_report(test_laels, predict, target_names=target_names))"
      ],
      "metadata": {
        "id": "8SmWs_P9Uvf9"
      },
      "execution_count": null,
      "outputs": []
    },
    {
      "cell_type": "markdown",
      "source": [
        "## 4. Inception\n"
      ],
      "metadata": {
        "id": "rPZF6EhhUwjZ"
      }
    },
    {
      "cell_type": "code",
      "source": [
        "%%time\n",
        "predict=[]\n",
        "length=len(test_images)\n",
        "t1 = time.time()\n",
        "for i in range(length):\n",
        "    inputimg=test_images[i]\n",
        "    test_batch=[]\n",
        "    thisimg=np.array(Image.open(inputimg))/255 #read all the images in validation set\n",
        "    #print(thisimg)\n",
        "    test_shape=(1,)+thisimg.shape\n",
        "    thisimg=thisimg.reshape(test_shape)\n",
        "    incep_model_batch=incep_model.predict(thisimg) #use master model to process the input image\n",
        "    #generate result by model 1\n",
        "    prob=incep_model_batch[0,np.argmax(incep_model_batch,axis=1)[0]]\n",
        "    res=label[np.argmax(incep_model_batch,axis=1)[0]]\n",
        "    predict.append(res)\n"
      ],
      "metadata": {
        "id": "yeVRCAkyUyqf"
      },
      "execution_count": null,
      "outputs": []
    },
    {
      "cell_type": "code",
      "source": [
        "from sklearn.metrics import accuracy_score,precision_score,recall_score,f1_score\n",
        "acc=accuracy_score(test_laels,predict)\n",
        "pre=precision_score(test_laels,predict,average='weighted')\n",
        "re=recall_score(test_laels,predict,average='weighted')\n",
        "f1=f1_score(test_laels,predict,average='weighted')\n",
        "print('inception accuracy: %s'%acc)\n",
        "print('precision: %s'%pre)\n",
        "print('recall: %s'%re)\n",
        "print('f1: %s'%f1)\n",
        "from sklearn.metrics import classification_report, confusion_matrix\n",
        "print(confusion_matrix(test_laels, predict))\n",
        "target_names = ['0', '1','2','3','4']\n",
        "print(classification_report(test_laels, predict, target_names=target_names))"
      ],
      "metadata": {
        "id": "bZmxPE-GU0tl"
      },
      "execution_count": null,
      "outputs": []
    },
    {
      "cell_type": "markdown",
      "source": [
        "## 5. Resnet\n"
      ],
      "metadata": {
        "id": "iAP7_DHFU3Fm"
      }
    },
    {
      "cell_type": "code",
      "source": [
        "%%time\n",
        "predict=[]\n",
        "length=len(test_images)\n",
        "t1 = time.time()\n",
        "for i in range(length):\n",
        "    inputimg=test_images[i]\n",
        "    test_batch=[]\n",
        "    thisimg=np.array(Image.open(inputimg))/255 #read all the images in validation set\n",
        "    #print(thisimg)\n",
        "    test_shape=(1,)+thisimg.shape\n",
        "    thisimg=thisimg.reshape(test_shape)\n",
        "    res_model_batch=res_model.predict(thisimg) #use master model to process the input image\n",
        "    #generate result by model 1\n",
        "    prob=res_model_batch[0,np.argmax(res_model_batch,axis=1)[0]]\n",
        "    res=label[np.argmax(res_model_batch,axis=1)[0]]\n",
        "    predict.append(res)\n"
      ],
      "metadata": {
        "id": "jG9TcHUqU5F8"
      },
      "execution_count": null,
      "outputs": []
    },
    {
      "cell_type": "code",
      "source": [
        "%%time\n",
        "from sklearn.metrics import accuracy_score,precision_score,recall_score,f1_score\n",
        "acc=accuracy_score(test_laels,predict)\n",
        "pre=precision_score(test_laels,predict,average='weighted')\n",
        "re=recall_score(test_laels,predict,average='weighted')\n",
        "f1=f1_score(test_laels,predict,average='weighted')\n",
        "print('resnet accuracy: %s'%acc)\n",
        "print('precision: %s'%pre)\n",
        "print('recall: %s'%re)\n",
        "print('f1: %s'%f1)\n",
        "from sklearn.metrics import classification_report, confusion_matrix\n",
        "print(confusion_matrix(test_laels, predict))\n",
        "target_names = ['0', '1','2','3','4']\n",
        "print(classification_report(test_laels, predict, target_names=target_names))"
      ],
      "metadata": {
        "id": "DGhC-r5WVUBZ"
      },
      "execution_count": null,
      "outputs": []
    },
    {
      "cell_type": "markdown",
      "source": [
        "## Bagging ensemble\n"
      ],
      "metadata": {
        "id": "O9Iua0wOVbGX"
      }
    },
    {
      "cell_type": "code",
      "source": [
        "import time\n",
        "predict=[]\n",
        "length=len(test_images)\n",
        "t1 = time.time()\n",
        "for i in range((length//127)+1):\n",
        "    inputimg=test_images[127*i:127*(i+1)]\n",
        "    test_batch=[]\n",
        "    for path in inputimg:\n",
        "        thisimg=np.array(Image.open(path))/255\n",
        "        test_batch.append(thisimg)\n",
        "    #generate result by model 1\n",
        "    xception_model_batch=xception_model.predict(np.array(test_batch))\n",
        "    xception_model_batch=list(np.argmax(xception_model_batch,axis=1))\n",
        "    xception_model_batch=[label[con] for con in xception_model_batch]\n",
        "#     print(xception_model_batch)\n",
        "    #generate result by model 2\n",
        "    vgg_model_batch=vgg_model.predict(np.array(test_batch))\n",
        "    vgg_model_batch=list(np.argmax(vgg_model_batch,axis=1))\n",
        "    vgg_model_batch=[label[con] for con in vgg_model_batch]\n",
        "#     print(vgg_model_batch)\n",
        "    #generate result by model 3\n",
        "    vgg19_model_batch=vgg19_model.predict(np.array(test_batch))\n",
        "    vgg19_model_batch=list(np.argmax(vgg19_model_batch,axis=1))\n",
        "    vgg19_model_batch=[label[con] for con in vgg19_model_batch]\n",
        "#     print(vgg19_model_batch)\n",
        "    #generate result by model 4\n",
        "    incep_model_batch=incep_model.predict(np.array(test_batch))\n",
        "    incep_model_batch=list(np.argmax(incep_model_batch,axis=1))\n",
        "    incep_model_batch=[label[con] for con in incep_model_batch]\n",
        "#     print(incep_model_batch)\n",
        "    #generate result by model 5\n",
        "    inres_model_batch=inres_model.predict(np.array(test_batch))\n",
        "    inres_model_batch=list(np.argmax(inres_model_batch,axis=1))\n",
        "    inres_model_batch=[label[con] for con in inres_model_batch]\n",
        "#     print(inres_model_batch)\n",
        "    #bagging the three results generated by 3 singular models\n",
        "    predict_batch=[]\n",
        "    for i,j,k,p,q in zip(xception_model_batch,vgg_model_batch,vgg19_model_batch,incep_model_batch,inres_model_batch):\n",
        "        count=defaultdict(int)\n",
        "        count[i]+=1\n",
        "        count[j]+=1\n",
        "        count[k]+=1\n",
        "        count[p]+=1\n",
        "        count[q]+=1\n",
        "        #rank the predicted results in descending order\n",
        "        predict_one=sorted(count.items(), key=operator.itemgetter(1),reverse=True)[0][0]\n",
        "        predict_batch.append(predict_one)\n",
        "#     print('predict:',predict_batch)\n",
        "    predict.append(predict_batch)\n",
        "t2 = time.time()\n",
        "print('The testing time is :%f seconds' % (t2-t1))"
      ],
      "metadata": {
        "id": "5x_BG4BHVZMI"
      },
      "execution_count": null,
      "outputs": []
    },
    {
      "cell_type": "code",
      "source": [
        "predict=sum(predict,[])\n"
      ],
      "metadata": {
        "id": "AVh6vAixVigP"
      },
      "execution_count": null,
      "outputs": []
    },
    {
      "cell_type": "code",
      "source": [
        "from sklearn.metrics import accuracy_score,precision_score,recall_score,f1_score\n",
        "acc=accuracy_score(test_laels,predict)\n",
        "print('bagging accuracy:%s'%acc)"
      ],
      "metadata": {
        "id": "x1SB5PI8VkSW"
      },
      "execution_count": null,
      "outputs": []
    },
    {
      "cell_type": "code",
      "source": [
        "from sklearn.metrics import classification_report, confusion_matrix\n",
        "print(confusion_matrix(test_laels, predict))\n",
        "target_names = ['0', '1','2','3','4']\n",
        "print(classification_report(test_laels, predict, target_names=target_names))"
      ],
      "metadata": {
        "id": "i06NWCPQVnce"
      },
      "execution_count": null,
      "outputs": []
    },
    {
      "cell_type": "markdown",
      "source": [
        "## Probability Averaging\n"
      ],
      "metadata": {
        "id": "VOLjSQfSVpXX"
      }
    },
    {
      "cell_type": "code",
      "source": [
        "import keras\n",
        "from keras.models import Model,load_model\n",
        "from keras import Input\n",
        "from keras.layers import concatenate,Dense,Flatten,Dropout,Average\n",
        "from keras.preprocessing.image import  ImageDataGenerator\n",
        "import keras.callbacks as kcallbacks\n",
        "import os\n",
        "import math\n",
        "from keras.utils import plot_model\n",
        "from keras.callbacks import EarlyStopping, ReduceLROnPlateau, ModelCheckpoint, LearningRateScheduler\n",
        "from keras.optimizers import SGD\n",
        "import operator\n",
        "import numpy as np\n",
        "from PIL import Image\n",
        "from collections import defaultdict\n",
        "import tensorflow as tf\n",
        "tf.logging.set_verbosity(tf.logging.ERROR)\n",
        "import os\n",
        "os.environ[\"CUDA_VISIBLE_DEVICES\"] = \"0\""
      ],
      "metadata": {
        "id": "cNhNwdZGVqG0"
      },
      "execution_count": null,
      "outputs": []
    },
    {
      "cell_type": "code",
      "source": [
        "import time\n",
        "t1 = time.time()\n",
        "img=Input(shape=(224,224,3),name='img')\n",
        "feature1=xception_model(img)\n",
        "feature2=vgg_model(img)\n",
        "feature3=incep_model(img)\n",
        "for layer in xception_model.layers:\n",
        "    layer.trainable = False\n",
        "for layer in vgg_model.layers:\n",
        "    layer.trainable = False\n",
        "for layer in incep_model.layers:\n",
        "    layer.trainable = False\n",
        "output=Average()([feature1,feature2,feature3]) #add the confidence lists generated by 3 models\n",
        "model=Model(inputs=img,outputs=output)\n",
        "\n",
        "#the optimization function\n",
        "opt = keras.optimizers.Adam(lr=0.001, beta_1=0.9, beta_2=0.999, epsilon=1e-08)\n",
        "model.compile(loss='categorical_crossentropy',\n",
        "              optimizer=opt,\n",
        "              metrics=['accuracy'])\n",
        "t2 = time.time()\n",
        "print('The testing time is :%f seconds' % (t2-t1))"
      ],
      "metadata": {
        "id": "6g_a_tl0Vus8"
      },
      "execution_count": null,
      "outputs": []
    },
    {
      "cell_type": "code",
      "source": [
        "#read images from validation folder\n",
        "rootdir = './test_224/'\n",
        "test_laels = []\n",
        "test_images=[]\n",
        "for subdir, dirs, files in os.walk(rootdir):\n",
        "    for file in files:\n",
        "        if not (file.endswith(\".jpeg\"))|(file.endswith(\".jpg\"))|(file.endswith(\".png\")):\n",
        "            continue\n",
        "        test_laels.append(subdir.split('/')[-1])\n",
        "        test_images.append(os.path.join(subdir, file))\n",
        "\n",
        "print(test_laels[0],test_images[0])"
      ],
      "metadata": {
        "id": "rsWyh4ofVx6Q"
      },
      "execution_count": null,
      "outputs": []
    },
    {
      "cell_type": "code",
      "source": [
        "#test the averaging model on the validation set\n",
        "import time\n",
        "predict=[]\n",
        "length=len(test_images)\n",
        "t1 = time.time()\n",
        "for i in range((length//127)+1):\n",
        "    inputimg=test_images[127*i:127*(i+1)]\n",
        "    test_batch=[]\n",
        "    for path in inputimg:\n",
        "        thisimg=np.array(Image.open(path))/255\n",
        "        test_batch.append(thisimg)\n",
        "    #print(i, np.array(test_batch).shape)\n",
        "    model_batch=model.predict(np.array(test_batch))\n",
        "    predict_batch=list(np.argmax(model_batch,axis=1))\n",
        "    predict_batch=[label[con] for con in predict_batch]\n",
        "    predict.append(predict_batch)\n",
        "\n",
        "predict=sum(predict,[])\n",
        "\n",
        "t2 = time.time()\n",
        "print('The testing time is :%f seconds' % (t2-t1))"
      ],
      "metadata": {
        "id": "PsgiKP-2VzxZ"
      },
      "execution_count": null,
      "outputs": []
    },
    {
      "cell_type": "code",
      "source": [
        "from sklearn.metrics import accuracy_score\n",
        "acc=accuracy_score(test_laels,predict)\n",
        "print('Probability Averaging accuracy:%s'%acc)"
      ],
      "metadata": {
        "id": "I6vd2HTeV21X"
      },
      "execution_count": null,
      "outputs": []
    },
    {
      "cell_type": "code",
      "source": [
        "from sklearn.metrics import classification_report, confusion_matrix\n",
        "print(confusion_matrix(test_laels, predict))\n",
        "target_names = ['0', '1','2','3','4']\n",
        "print(classification_report(test_laels, predict, target_names=target_names))"
      ],
      "metadata": {
        "id": "FqbFF8FUV5NM"
      },
      "execution_count": null,
      "outputs": []
    },
    {
      "cell_type": "markdown",
      "source": [
        "## Concatenation\n"
      ],
      "metadata": {
        "id": "wur1IZ3eV9mb"
      }
    },
    {
      "cell_type": "code",
      "source": [
        "import keras\n",
        "from keras.models import Model,load_model\n",
        "from keras import Input\n",
        "from keras.layers import concatenate,Dense,Flatten,Dropout\n",
        "from keras.preprocessing.image import  ImageDataGenerator\n",
        "import keras.callbacks as kcallbacks\n",
        "import os\n",
        "import math\n",
        "from keras.utils import plot_model\n",
        "from keras.callbacks import EarlyStopping, ReduceLROnPlateau, ModelCheckpoint, LearningRateScheduler\n",
        "from keras.optimizers import SGD"
      ],
      "metadata": {
        "id": "fgIP74UWV70M"
      },
      "execution_count": null,
      "outputs": []
    },
    {
      "cell_type": "code",
      "source": [
        "for i,layer in enumerate(xception_model.layers):\n",
        "    print(i,layer.name)"
      ],
      "metadata": {
        "id": "-2Jslh2qWBUK"
      },
      "execution_count": null,
      "outputs": []
    },
    {
      "cell_type": "code",
      "source": [
        "for i,layer in enumerate(vgg_model.layers):\n",
        "    print(i,layer.name)"
      ],
      "metadata": {
        "id": "Zp6pKJRUWDd1"
      },
      "execution_count": null,
      "outputs": []
    },
    {
      "cell_type": "code",
      "source": [
        "for i,layer in enumerate(vgg19_model.layers):\n",
        "    print(i,layer.name)"
      ],
      "metadata": {
        "id": "4Rsa306CWGQl"
      },
      "execution_count": null,
      "outputs": []
    },
    {
      "cell_type": "code",
      "source": [
        "for i,layer in enumerate(incep_model.layers):\n",
        "    print(i,layer.name)\n"
      ],
      "metadata": {
        "id": "fF1LYHMXWIaF"
      },
      "execution_count": null,
      "outputs": []
    },
    {
      "cell_type": "code",
      "source": [
        "for i,layer in enumerate(res_model.layers):\n",
        "    print(i,layer.name)"
      ],
      "metadata": {
        "id": "5H8tzAk2WO7g"
      },
      "execution_count": null,
      "outputs": []
    },
    {
      "cell_type": "code",
      "source": [],
      "metadata": {
        "id": "zp0ciqvjXfFm"
      },
      "execution_count": null,
      "outputs": []
    }
  ],
  "metadata": {
    "accelerator": "GPU",
    "colab": {
      "gpuType": "T4",
      "provenance": [],
      "include_colab_link": true
    },
    "kernelspec": {
      "display_name": "Python 3",
      "name": "python3"
    },
    "language_info": {
      "name": "python"
    }
  },
  "nbformat": 4,
  "nbformat_minor": 0
}